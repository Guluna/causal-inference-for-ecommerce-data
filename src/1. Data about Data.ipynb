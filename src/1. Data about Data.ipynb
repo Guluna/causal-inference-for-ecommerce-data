{
 "cells": [
  {
   "cell_type": "markdown",
   "metadata": {},
   "source": [
    "# Data about Data"
   ]
  },
  {
   "cell_type": "markdown",
   "metadata": {},
   "source": [
    "Kaggle link\n",
    "https://www.kaggle.com/datasets/jmmvutu/summer-products-and-sales-in-ecommerce-wish/data?select=summer-products-with-rating-and-performance_2020-08.csv\n",
    "- the products listed in the dataset are those that would appear if you type \"summer\" in the search field of the platform.\n",
    "- The data was scraped with french as settings (hence the presence of some non-ascii latin characters such as « é » and « à ») in the title column.\n",
    "- August 2020 data only\n",
    "- Data shape: 1573, 43\n",
    "\n",
    "\n",
    "Wish platform link\n",
    "https://www.wish.com/\n",
    "- Criticism section on Wikipedia is interesting\n",
    "- website does not have concept of categories (e.g. Electronics, Home, Clothing etc), instead it returns results based on keyword search e.g. \"summer\"\n"
   ]
  },
  {
   "cell_type": "markdown",
   "metadata": {},
   "source": [
    "## Data Dictionary\n",
    "For \"summer-products-with-rating-and-performance_2020-08.csv\" data only\n",
    "\n",
    "Each row represents a different product.\n",
    "\n",
    "\n",
    "- 'title': Product Title in French\n",
    "- 'title_orig': Product Title in English\n",
    "- 'price': price to be paid by the customer to get the product (for 1000/1500 listings have price <= retail_price)\n",
    "- 'retail_price': reference price for similar articles on the market, or in other stores/places. Used by the seller to indicate a regular value or the price before discount\n",
    "- 'currency_buyer': EURO (since its French data)\n",
    "- 'units_sold': total units of this product sold till date\n",
    "- 'uses_ad_boosts': (binary) Whether the seller paid to boost his product within the platform\n",
    "- 'rating': average rating of all reviews (i.e. derived from 5/4/3/2/1 star ratings columns below)\n",
    "- 'rating_count': total ratings received from the customers for the product\n",
    "- 'rating_five_count': count of 5 star ratings received\n",
    "- 'rating_four_count': count of 4 star ratings received\n",
    "- 'rating_three_count': count of 3 star ratings received\n",
    "- 'rating_two_count': count of 2 star ratings received\n",
    "- 'rating_one_count': count of 1 star ratings received\n",
    "- 'badges_count': Number of badges the product or the seller have. [0,1,2,3] represents badges such as \"Best Seller\" or \"Amazon's Choice\" to improve product credibility\n",
    "- 'badge_local_product': (binary) A badge that denotes the product is a local product. \n",
    "- 'badge_product_quality': (binary) Badge awarded when many buyers consistently gave good evaluations 1 means Yes, has the badge\n",
    "- 'badge_fast_shipping': (binary) Badge awarded when this product's order is consistently shipped rapidly\n",
    "- 'tags': keywords set by the seller for the product e.g. \"Summer\", \"Cotton\", \"Shorts\"\n",
    "- 'product_color': main color of the product\n",
    "- 'product_variation_size_id': size category e.g. Small, Medium, Large etc.\n",
    "- 'product_variation_inventory': Inventory the seller has. Max allowed quantity is 50. \n",
    "- 'shipping_option_name': courier service used for shipment\n",
    "- 'shipping_option_price': shipment price\n",
    "- 'shipping_is_express': (binary) contains same info as 'badge_fast_shipping'\n",
    "- 'countries_shipped_to': country for delivery address (some kind of numerical encoding used here)\n",
    "- 'inventory_total': Total inventory for all the product's variations (size/color variations for instance)\n",
    "- 'has_urgency_banner': (binary) whether product utilized/displayed urgency banner message\n",
    "- 'urgency_text': ['Quantité limitée !' nan 'Réduction sur les achats en gros'] i.e. \"Limited Quantity\" and \"Discount on bulk purchases\" messages\n",
    "- 'origin_country': name of the country of origin\n",
    "- 'merchant_title': name of merchant\n",
    "- 'merchant_name': exactly same info as 'merchant_title'\n",
    "- 'merchant_info_subtitle': The website shows this to the user to give an overview of the seller's stats to the user. Mostly consists of % positive_feedbacks, rating_count, reviews written in french\n",
    "- 'merchant_rating_count': count of merchant ratings\n",
    "- 'merchant_rating': merchant average rating\n",
    "- 'merchant_id': unique identifier of the merchant\n",
    "- 'merchant_has_profile_picture': (binary)\n",
    "- 'merchant_profile_picture': url to merchant's profile picture\n",
    "- 'product_url': url to product description\n",
    "- 'product_picture': url to product picture\n",
    "- 'product_id': unique identifier for the product\n",
    "- 'theme': the search term used in the search bar of the website to get these search results e.g. \"summer\" \n",
    "- 'crawl_month': single value for the whole column i.e. \"2020-08\""
   ]
  }
 ],
 "metadata": {
  "kernelspec": {
   "display_name": "py_3_12",
   "language": "python",
   "name": "python3"
  },
  "language_info": {
   "name": "python",
   "version": "3.12.4"
  }
 },
 "nbformat": 4,
 "nbformat_minor": 2
}
