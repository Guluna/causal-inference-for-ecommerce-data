{
 "cells": [
  {
   "cell_type": "markdown",
   "metadata": {},
   "source": [
    "# Load Data"
   ]
  },
  {
   "cell_type": "code",
   "execution_count": 69,
   "metadata": {},
   "outputs": [],
   "source": [
    "import pandas as pd\n",
    "import numpy as np"
   ]
  },
  {
   "cell_type": "code",
   "execution_count": 2,
   "metadata": {},
   "outputs": [],
   "source": [
    "data_path = \"../data/Wish_Kaggle_Data/\"\n",
    "summer_products = pd.read_csv(data_path + \"summer-products-with-rating-and-performance_2020-08.csv\")"
   ]
  },
  {
   "cell_type": "code",
   "execution_count": 3,
   "metadata": {},
   "outputs": [
    {
     "data": {
      "text/plain": [
       "(1573, 43)"
      ]
     },
     "execution_count": 3,
     "metadata": {},
     "output_type": "execute_result"
    }
   ],
   "source": [
    "summer_products.shape"
   ]
  },
  {
   "cell_type": "code",
   "execution_count": 4,
   "metadata": {},
   "outputs": [
    {
     "data": {
      "text/html": [
       "<div>\n",
       "<style scoped>\n",
       "    .dataframe tbody tr th:only-of-type {\n",
       "        vertical-align: middle;\n",
       "    }\n",
       "\n",
       "    .dataframe tbody tr th {\n",
       "        vertical-align: top;\n",
       "    }\n",
       "\n",
       "    .dataframe thead th {\n",
       "        text-align: right;\n",
       "    }\n",
       "</style>\n",
       "<table border=\"1\" class=\"dataframe\">\n",
       "  <thead>\n",
       "    <tr style=\"text-align: right;\">\n",
       "      <th></th>\n",
       "      <th>title</th>\n",
       "      <th>title_orig</th>\n",
       "      <th>price</th>\n",
       "      <th>retail_price</th>\n",
       "      <th>currency_buyer</th>\n",
       "      <th>units_sold</th>\n",
       "      <th>uses_ad_boosts</th>\n",
       "      <th>rating</th>\n",
       "      <th>rating_count</th>\n",
       "      <th>rating_five_count</th>\n",
       "      <th>...</th>\n",
       "      <th>merchant_rating_count</th>\n",
       "      <th>merchant_rating</th>\n",
       "      <th>merchant_id</th>\n",
       "      <th>merchant_has_profile_picture</th>\n",
       "      <th>merchant_profile_picture</th>\n",
       "      <th>product_url</th>\n",
       "      <th>product_picture</th>\n",
       "      <th>product_id</th>\n",
       "      <th>theme</th>\n",
       "      <th>crawl_month</th>\n",
       "    </tr>\n",
       "  </thead>\n",
       "  <tbody>\n",
       "    <tr>\n",
       "      <th>0</th>\n",
       "      <td>2020 Summer Vintage Flamingo Print  Pajamas Se...</td>\n",
       "      <td>2020 Summer Vintage Flamingo Print  Pajamas Se...</td>\n",
       "      <td>16.00</td>\n",
       "      <td>14</td>\n",
       "      <td>EUR</td>\n",
       "      <td>100</td>\n",
       "      <td>0</td>\n",
       "      <td>3.76</td>\n",
       "      <td>54</td>\n",
       "      <td>26.0</td>\n",
       "      <td>...</td>\n",
       "      <td>568</td>\n",
       "      <td>4.128521</td>\n",
       "      <td>595097d6a26f6e070cb878d1</td>\n",
       "      <td>0</td>\n",
       "      <td>NaN</td>\n",
       "      <td>https://www.wish.com/c/5e9ae51d43d6a96e303acdb0</td>\n",
       "      <td>https://contestimg.wish.com/api/webimage/5e9ae...</td>\n",
       "      <td>5e9ae51d43d6a96e303acdb0</td>\n",
       "      <td>summer</td>\n",
       "      <td>2020-08</td>\n",
       "    </tr>\n",
       "    <tr>\n",
       "      <th>1</th>\n",
       "      <td>SSHOUSE Summer Casual Sleeveless Soirée Party ...</td>\n",
       "      <td>Women's Casual Summer Sleeveless Sexy Mini Dress</td>\n",
       "      <td>8.00</td>\n",
       "      <td>22</td>\n",
       "      <td>EUR</td>\n",
       "      <td>20000</td>\n",
       "      <td>1</td>\n",
       "      <td>3.45</td>\n",
       "      <td>6135</td>\n",
       "      <td>2269.0</td>\n",
       "      <td>...</td>\n",
       "      <td>17752</td>\n",
       "      <td>3.899673</td>\n",
       "      <td>56458aa03a698c35c9050988</td>\n",
       "      <td>0</td>\n",
       "      <td>NaN</td>\n",
       "      <td>https://www.wish.com/c/58940d436a0d3d5da4e95a38</td>\n",
       "      <td>https://contestimg.wish.com/api/webimage/58940...</td>\n",
       "      <td>58940d436a0d3d5da4e95a38</td>\n",
       "      <td>summer</td>\n",
       "      <td>2020-08</td>\n",
       "    </tr>\n",
       "    <tr>\n",
       "      <th>2</th>\n",
       "      <td>2020 Nouvelle Arrivée Femmes Printemps et Été ...</td>\n",
       "      <td>2020 New Arrival Women Spring and Summer Beach...</td>\n",
       "      <td>8.00</td>\n",
       "      <td>43</td>\n",
       "      <td>EUR</td>\n",
       "      <td>100</td>\n",
       "      <td>0</td>\n",
       "      <td>3.57</td>\n",
       "      <td>14</td>\n",
       "      <td>5.0</td>\n",
       "      <td>...</td>\n",
       "      <td>295</td>\n",
       "      <td>3.989831</td>\n",
       "      <td>5d464a1ffdf7bc44ee933c65</td>\n",
       "      <td>0</td>\n",
       "      <td>NaN</td>\n",
       "      <td>https://www.wish.com/c/5ea10e2c617580260d55310a</td>\n",
       "      <td>https://contestimg.wish.com/api/webimage/5ea10...</td>\n",
       "      <td>5ea10e2c617580260d55310a</td>\n",
       "      <td>summer</td>\n",
       "      <td>2020-08</td>\n",
       "    </tr>\n",
       "    <tr>\n",
       "      <th>3</th>\n",
       "      <td>Hot Summer Cool T-shirt pour les femmes Mode T...</td>\n",
       "      <td>Hot Summer Cool T Shirt for Women Fashion Tops...</td>\n",
       "      <td>8.00</td>\n",
       "      <td>8</td>\n",
       "      <td>EUR</td>\n",
       "      <td>5000</td>\n",
       "      <td>1</td>\n",
       "      <td>4.03</td>\n",
       "      <td>579</td>\n",
       "      <td>295.0</td>\n",
       "      <td>...</td>\n",
       "      <td>23832</td>\n",
       "      <td>4.020435</td>\n",
       "      <td>58cfdefdacb37b556efdff7c</td>\n",
       "      <td>0</td>\n",
       "      <td>NaN</td>\n",
       "      <td>https://www.wish.com/c/5cedf17ad1d44c52c59e4aca</td>\n",
       "      <td>https://contestimg.wish.com/api/webimage/5cedf...</td>\n",
       "      <td>5cedf17ad1d44c52c59e4aca</td>\n",
       "      <td>summer</td>\n",
       "      <td>2020-08</td>\n",
       "    </tr>\n",
       "    <tr>\n",
       "      <th>4</th>\n",
       "      <td>Femmes Shorts d'été à lacets taille élastique ...</td>\n",
       "      <td>Women Summer Shorts Lace Up Elastic Waistband ...</td>\n",
       "      <td>2.72</td>\n",
       "      <td>3</td>\n",
       "      <td>EUR</td>\n",
       "      <td>100</td>\n",
       "      <td>1</td>\n",
       "      <td>3.10</td>\n",
       "      <td>20</td>\n",
       "      <td>6.0</td>\n",
       "      <td>...</td>\n",
       "      <td>14482</td>\n",
       "      <td>4.001588</td>\n",
       "      <td>5ab3b592c3911a095ad5dadb</td>\n",
       "      <td>0</td>\n",
       "      <td>NaN</td>\n",
       "      <td>https://www.wish.com/c/5ebf5819ebac372b070b0e70</td>\n",
       "      <td>https://contestimg.wish.com/api/webimage/5ebf5...</td>\n",
       "      <td>5ebf5819ebac372b070b0e70</td>\n",
       "      <td>summer</td>\n",
       "      <td>2020-08</td>\n",
       "    </tr>\n",
       "  </tbody>\n",
       "</table>\n",
       "<p>5 rows × 43 columns</p>\n",
       "</div>"
      ],
      "text/plain": [
       "                                               title  \\\n",
       "0  2020 Summer Vintage Flamingo Print  Pajamas Se...   \n",
       "1  SSHOUSE Summer Casual Sleeveless Soirée Party ...   \n",
       "2  2020 Nouvelle Arrivée Femmes Printemps et Été ...   \n",
       "3  Hot Summer Cool T-shirt pour les femmes Mode T...   \n",
       "4  Femmes Shorts d'été à lacets taille élastique ...   \n",
       "\n",
       "                                          title_orig  price  retail_price  \\\n",
       "0  2020 Summer Vintage Flamingo Print  Pajamas Se...  16.00            14   \n",
       "1   Women's Casual Summer Sleeveless Sexy Mini Dress   8.00            22   \n",
       "2  2020 New Arrival Women Spring and Summer Beach...   8.00            43   \n",
       "3  Hot Summer Cool T Shirt for Women Fashion Tops...   8.00             8   \n",
       "4  Women Summer Shorts Lace Up Elastic Waistband ...   2.72             3   \n",
       "\n",
       "  currency_buyer  units_sold  uses_ad_boosts  rating  rating_count  \\\n",
       "0            EUR         100               0    3.76            54   \n",
       "1            EUR       20000               1    3.45          6135   \n",
       "2            EUR         100               0    3.57            14   \n",
       "3            EUR        5000               1    4.03           579   \n",
       "4            EUR         100               1    3.10            20   \n",
       "\n",
       "   rating_five_count  ...  merchant_rating_count  merchant_rating  \\\n",
       "0               26.0  ...                    568         4.128521   \n",
       "1             2269.0  ...                  17752         3.899673   \n",
       "2                5.0  ...                    295         3.989831   \n",
       "3              295.0  ...                  23832         4.020435   \n",
       "4                6.0  ...                  14482         4.001588   \n",
       "\n",
       "                merchant_id  merchant_has_profile_picture  \\\n",
       "0  595097d6a26f6e070cb878d1                             0   \n",
       "1  56458aa03a698c35c9050988                             0   \n",
       "2  5d464a1ffdf7bc44ee933c65                             0   \n",
       "3  58cfdefdacb37b556efdff7c                             0   \n",
       "4  5ab3b592c3911a095ad5dadb                             0   \n",
       "\n",
       "   merchant_profile_picture                                      product_url  \\\n",
       "0                       NaN  https://www.wish.com/c/5e9ae51d43d6a96e303acdb0   \n",
       "1                       NaN  https://www.wish.com/c/58940d436a0d3d5da4e95a38   \n",
       "2                       NaN  https://www.wish.com/c/5ea10e2c617580260d55310a   \n",
       "3                       NaN  https://www.wish.com/c/5cedf17ad1d44c52c59e4aca   \n",
       "4                       NaN  https://www.wish.com/c/5ebf5819ebac372b070b0e70   \n",
       "\n",
       "                                     product_picture  \\\n",
       "0  https://contestimg.wish.com/api/webimage/5e9ae...   \n",
       "1  https://contestimg.wish.com/api/webimage/58940...   \n",
       "2  https://contestimg.wish.com/api/webimage/5ea10...   \n",
       "3  https://contestimg.wish.com/api/webimage/5cedf...   \n",
       "4  https://contestimg.wish.com/api/webimage/5ebf5...   \n",
       "\n",
       "                 product_id   theme crawl_month  \n",
       "0  5e9ae51d43d6a96e303acdb0  summer     2020-08  \n",
       "1  58940d436a0d3d5da4e95a38  summer     2020-08  \n",
       "2  5ea10e2c617580260d55310a  summer     2020-08  \n",
       "3  5cedf17ad1d44c52c59e4aca  summer     2020-08  \n",
       "4  5ebf5819ebac372b070b0e70  summer     2020-08  \n",
       "\n",
       "[5 rows x 43 columns]"
      ]
     },
     "execution_count": 4,
     "metadata": {},
     "output_type": "execute_result"
    }
   ],
   "source": [
    "summer_products.head()"
   ]
  },
  {
   "cell_type": "code",
   "execution_count": 5,
   "metadata": {},
   "outputs": [
    {
     "name": "stdout",
     "output_type": "stream",
     "text": [
      "<class 'pandas.core.frame.DataFrame'>\n",
      "RangeIndex: 1573 entries, 0 to 1572\n",
      "Data columns (total 43 columns):\n",
      " #   Column                        Non-Null Count  Dtype  \n",
      "---  ------                        --------------  -----  \n",
      " 0   title                         1573 non-null   object \n",
      " 1   title_orig                    1573 non-null   object \n",
      " 2   price                         1573 non-null   float64\n",
      " 3   retail_price                  1573 non-null   int64  \n",
      " 4   currency_buyer                1573 non-null   object \n",
      " 5   units_sold                    1573 non-null   int64  \n",
      " 6   uses_ad_boosts                1573 non-null   int64  \n",
      " 7   rating                        1573 non-null   float64\n",
      " 8   rating_count                  1573 non-null   int64  \n",
      " 9   rating_five_count             1528 non-null   float64\n",
      " 10  rating_four_count             1528 non-null   float64\n",
      " 11  rating_three_count            1528 non-null   float64\n",
      " 12  rating_two_count              1528 non-null   float64\n",
      " 13  rating_one_count              1528 non-null   float64\n",
      " 14  badges_count                  1573 non-null   int64  \n",
      " 15  badge_local_product           1573 non-null   int64  \n",
      " 16  badge_product_quality         1573 non-null   int64  \n",
      " 17  badge_fast_shipping           1573 non-null   int64  \n",
      " 18  tags                          1573 non-null   object \n",
      " 19  product_color                 1532 non-null   object \n",
      " 20  product_variation_size_id     1559 non-null   object \n",
      " 21  product_variation_inventory   1573 non-null   int64  \n",
      " 22  shipping_option_name          1573 non-null   object \n",
      " 23  shipping_option_price         1573 non-null   int64  \n",
      " 24  shipping_is_express           1573 non-null   int64  \n",
      " 25  countries_shipped_to          1573 non-null   int64  \n",
      " 26  inventory_total               1573 non-null   int64  \n",
      " 27  has_urgency_banner            473 non-null    float64\n",
      " 28  urgency_text                  473 non-null    object \n",
      " 29  origin_country                1556 non-null   object \n",
      " 30  merchant_title                1573 non-null   object \n",
      " 31  merchant_name                 1569 non-null   object \n",
      " 32  merchant_info_subtitle        1572 non-null   object \n",
      " 33  merchant_rating_count         1573 non-null   int64  \n",
      " 34  merchant_rating               1573 non-null   float64\n",
      " 35  merchant_id                   1573 non-null   object \n",
      " 36  merchant_has_profile_picture  1573 non-null   int64  \n",
      " 37  merchant_profile_picture      226 non-null    object \n",
      " 38  product_url                   1573 non-null   object \n",
      " 39  product_picture               1573 non-null   object \n",
      " 40  product_id                    1573 non-null   object \n",
      " 41  theme                         1573 non-null   object \n",
      " 42  crawl_month                   1573 non-null   object \n",
      "dtypes: float64(9), int64(15), object(19)\n",
      "memory usage: 528.6+ KB\n"
     ]
    }
   ],
   "source": [
    "summer_products.info()"
   ]
  },
  {
   "cell_type": "code",
   "execution_count": 6,
   "metadata": {},
   "outputs": [
    {
     "data": {
      "text/html": [
       "<div>\n",
       "<style scoped>\n",
       "    .dataframe tbody tr th:only-of-type {\n",
       "        vertical-align: middle;\n",
       "    }\n",
       "\n",
       "    .dataframe tbody tr th {\n",
       "        vertical-align: top;\n",
       "    }\n",
       "\n",
       "    .dataframe thead th {\n",
       "        text-align: right;\n",
       "    }\n",
       "</style>\n",
       "<table border=\"1\" class=\"dataframe\">\n",
       "  <thead>\n",
       "    <tr style=\"text-align: right;\">\n",
       "      <th></th>\n",
       "      <th>count</th>\n",
       "      <th>unique</th>\n",
       "      <th>top</th>\n",
       "      <th>freq</th>\n",
       "      <th>mean</th>\n",
       "      <th>std</th>\n",
       "      <th>min</th>\n",
       "      <th>25%</th>\n",
       "      <th>50%</th>\n",
       "      <th>75%</th>\n",
       "      <th>max</th>\n",
       "    </tr>\n",
       "  </thead>\n",
       "  <tbody>\n",
       "    <tr>\n",
       "      <th>title</th>\n",
       "      <td>1573</td>\n",
       "      <td>1201</td>\n",
       "      <td>Nouvelle mode d'été femmes robe décontractée c...</td>\n",
       "      <td>24</td>\n",
       "      <td>NaN</td>\n",
       "      <td>NaN</td>\n",
       "      <td>NaN</td>\n",
       "      <td>NaN</td>\n",
       "      <td>NaN</td>\n",
       "      <td>NaN</td>\n",
       "      <td>NaN</td>\n",
       "    </tr>\n",
       "    <tr>\n",
       "      <th>title_orig</th>\n",
       "      <td>1573</td>\n",
       "      <td>1203</td>\n",
       "      <td>New Fashion Summer Women Casual Dress Round Ne...</td>\n",
       "      <td>24</td>\n",
       "      <td>NaN</td>\n",
       "      <td>NaN</td>\n",
       "      <td>NaN</td>\n",
       "      <td>NaN</td>\n",
       "      <td>NaN</td>\n",
       "      <td>NaN</td>\n",
       "      <td>NaN</td>\n",
       "    </tr>\n",
       "    <tr>\n",
       "      <th>price</th>\n",
       "      <td>1573.0</td>\n",
       "      <td>NaN</td>\n",
       "      <td>NaN</td>\n",
       "      <td>NaN</td>\n",
       "      <td>8.325372</td>\n",
       "      <td>3.93203</td>\n",
       "      <td>1.0</td>\n",
       "      <td>5.81</td>\n",
       "      <td>8.0</td>\n",
       "      <td>11.0</td>\n",
       "      <td>49.0</td>\n",
       "    </tr>\n",
       "    <tr>\n",
       "      <th>retail_price</th>\n",
       "      <td>1573.0</td>\n",
       "      <td>NaN</td>\n",
       "      <td>NaN</td>\n",
       "      <td>NaN</td>\n",
       "      <td>23.28862</td>\n",
       "      <td>30.357863</td>\n",
       "      <td>1.0</td>\n",
       "      <td>7.0</td>\n",
       "      <td>10.0</td>\n",
       "      <td>26.0</td>\n",
       "      <td>252.0</td>\n",
       "    </tr>\n",
       "    <tr>\n",
       "      <th>currency_buyer</th>\n",
       "      <td>1573</td>\n",
       "      <td>1</td>\n",
       "      <td>EUR</td>\n",
       "      <td>1573</td>\n",
       "      <td>NaN</td>\n",
       "      <td>NaN</td>\n",
       "      <td>NaN</td>\n",
       "      <td>NaN</td>\n",
       "      <td>NaN</td>\n",
       "      <td>NaN</td>\n",
       "      <td>NaN</td>\n",
       "    </tr>\n",
       "    <tr>\n",
       "      <th>units_sold</th>\n",
       "      <td>1573.0</td>\n",
       "      <td>NaN</td>\n",
       "      <td>NaN</td>\n",
       "      <td>NaN</td>\n",
       "      <td>4339.005086</td>\n",
       "      <td>9356.539302</td>\n",
       "      <td>1.0</td>\n",
       "      <td>100.0</td>\n",
       "      <td>1000.0</td>\n",
       "      <td>5000.0</td>\n",
       "      <td>100000.0</td>\n",
       "    </tr>\n",
       "    <tr>\n",
       "      <th>uses_ad_boosts</th>\n",
       "      <td>1573.0</td>\n",
       "      <td>NaN</td>\n",
       "      <td>NaN</td>\n",
       "      <td>NaN</td>\n",
       "      <td>0.432931</td>\n",
       "      <td>0.495639</td>\n",
       "      <td>0.0</td>\n",
       "      <td>0.0</td>\n",
       "      <td>0.0</td>\n",
       "      <td>1.0</td>\n",
       "      <td>1.0</td>\n",
       "    </tr>\n",
       "    <tr>\n",
       "      <th>rating</th>\n",
       "      <td>1573.0</td>\n",
       "      <td>NaN</td>\n",
       "      <td>NaN</td>\n",
       "      <td>NaN</td>\n",
       "      <td>3.820896</td>\n",
       "      <td>0.515374</td>\n",
       "      <td>1.0</td>\n",
       "      <td>3.55</td>\n",
       "      <td>3.85</td>\n",
       "      <td>4.11</td>\n",
       "      <td>5.0</td>\n",
       "    </tr>\n",
       "    <tr>\n",
       "      <th>rating_count</th>\n",
       "      <td>1573.0</td>\n",
       "      <td>NaN</td>\n",
       "      <td>NaN</td>\n",
       "      <td>NaN</td>\n",
       "      <td>889.65925</td>\n",
       "      <td>1983.928834</td>\n",
       "      <td>0.0</td>\n",
       "      <td>24.0</td>\n",
       "      <td>150.0</td>\n",
       "      <td>855.0</td>\n",
       "      <td>20744.0</td>\n",
       "    </tr>\n",
       "    <tr>\n",
       "      <th>rating_five_count</th>\n",
       "      <td>1528.0</td>\n",
       "      <td>NaN</td>\n",
       "      <td>NaN</td>\n",
       "      <td>NaN</td>\n",
       "      <td>442.263743</td>\n",
       "      <td>980.20327</td>\n",
       "      <td>0.0</td>\n",
       "      <td>12.0</td>\n",
       "      <td>79.0</td>\n",
       "      <td>413.5</td>\n",
       "      <td>11548.0</td>\n",
       "    </tr>\n",
       "    <tr>\n",
       "      <th>rating_four_count</th>\n",
       "      <td>1528.0</td>\n",
       "      <td>NaN</td>\n",
       "      <td>NaN</td>\n",
       "      <td>NaN</td>\n",
       "      <td>179.599476</td>\n",
       "      <td>400.516231</td>\n",
       "      <td>0.0</td>\n",
       "      <td>5.0</td>\n",
       "      <td>31.5</td>\n",
       "      <td>168.25</td>\n",
       "      <td>4152.0</td>\n",
       "    </tr>\n",
       "    <tr>\n",
       "      <th>rating_three_count</th>\n",
       "      <td>1528.0</td>\n",
       "      <td>NaN</td>\n",
       "      <td>NaN</td>\n",
       "      <td>NaN</td>\n",
       "      <td>134.549738</td>\n",
       "      <td>311.690656</td>\n",
       "      <td>0.0</td>\n",
       "      <td>4.0</td>\n",
       "      <td>24.0</td>\n",
       "      <td>129.25</td>\n",
       "      <td>3658.0</td>\n",
       "    </tr>\n",
       "    <tr>\n",
       "      <th>rating_two_count</th>\n",
       "      <td>1528.0</td>\n",
       "      <td>NaN</td>\n",
       "      <td>NaN</td>\n",
       "      <td>NaN</td>\n",
       "      <td>63.711387</td>\n",
       "      <td>151.343933</td>\n",
       "      <td>0.0</td>\n",
       "      <td>2.0</td>\n",
       "      <td>11.0</td>\n",
       "      <td>62.0</td>\n",
       "      <td>2003.0</td>\n",
       "    </tr>\n",
       "    <tr>\n",
       "      <th>rating_one_count</th>\n",
       "      <td>1528.0</td>\n",
       "      <td>NaN</td>\n",
       "      <td>NaN</td>\n",
       "      <td>NaN</td>\n",
       "      <td>95.735602</td>\n",
       "      <td>214.075544</td>\n",
       "      <td>0.0</td>\n",
       "      <td>4.0</td>\n",
       "      <td>20.0</td>\n",
       "      <td>94.0</td>\n",
       "      <td>2789.0</td>\n",
       "    </tr>\n",
       "    <tr>\n",
       "      <th>badges_count</th>\n",
       "      <td>1573.0</td>\n",
       "      <td>NaN</td>\n",
       "      <td>NaN</td>\n",
       "      <td>NaN</td>\n",
       "      <td>0.105531</td>\n",
       "      <td>0.340709</td>\n",
       "      <td>0.0</td>\n",
       "      <td>0.0</td>\n",
       "      <td>0.0</td>\n",
       "      <td>0.0</td>\n",
       "      <td>3.0</td>\n",
       "    </tr>\n",
       "    <tr>\n",
       "      <th>badge_local_product</th>\n",
       "      <td>1573.0</td>\n",
       "      <td>NaN</td>\n",
       "      <td>NaN</td>\n",
       "      <td>NaN</td>\n",
       "      <td>0.018436</td>\n",
       "      <td>0.134565</td>\n",
       "      <td>0.0</td>\n",
       "      <td>0.0</td>\n",
       "      <td>0.0</td>\n",
       "      <td>0.0</td>\n",
       "      <td>1.0</td>\n",
       "    </tr>\n",
       "    <tr>\n",
       "      <th>badge_product_quality</th>\n",
       "      <td>1573.0</td>\n",
       "      <td>NaN</td>\n",
       "      <td>NaN</td>\n",
       "      <td>NaN</td>\n",
       "      <td>0.07438</td>\n",
       "      <td>0.262472</td>\n",
       "      <td>0.0</td>\n",
       "      <td>0.0</td>\n",
       "      <td>0.0</td>\n",
       "      <td>0.0</td>\n",
       "      <td>1.0</td>\n",
       "    </tr>\n",
       "    <tr>\n",
       "      <th>badge_fast_shipping</th>\n",
       "      <td>1573.0</td>\n",
       "      <td>NaN</td>\n",
       "      <td>NaN</td>\n",
       "      <td>NaN</td>\n",
       "      <td>0.012715</td>\n",
       "      <td>0.112075</td>\n",
       "      <td>0.0</td>\n",
       "      <td>0.0</td>\n",
       "      <td>0.0</td>\n",
       "      <td>0.0</td>\n",
       "      <td>1.0</td>\n",
       "    </tr>\n",
       "    <tr>\n",
       "      <th>tags</th>\n",
       "      <td>1573</td>\n",
       "      <td>1230</td>\n",
       "      <td>Summer,Fashion,Necks,Skirts,Dress,Loose,Women'...</td>\n",
       "      <td>17</td>\n",
       "      <td>NaN</td>\n",
       "      <td>NaN</td>\n",
       "      <td>NaN</td>\n",
       "      <td>NaN</td>\n",
       "      <td>NaN</td>\n",
       "      <td>NaN</td>\n",
       "      <td>NaN</td>\n",
       "    </tr>\n",
       "    <tr>\n",
       "      <th>product_color</th>\n",
       "      <td>1532</td>\n",
       "      <td>101</td>\n",
       "      <td>black</td>\n",
       "      <td>302</td>\n",
       "      <td>NaN</td>\n",
       "      <td>NaN</td>\n",
       "      <td>NaN</td>\n",
       "      <td>NaN</td>\n",
       "      <td>NaN</td>\n",
       "      <td>NaN</td>\n",
       "      <td>NaN</td>\n",
       "    </tr>\n",
       "    <tr>\n",
       "      <th>product_variation_size_id</th>\n",
       "      <td>1559</td>\n",
       "      <td>106</td>\n",
       "      <td>S</td>\n",
       "      <td>641</td>\n",
       "      <td>NaN</td>\n",
       "      <td>NaN</td>\n",
       "      <td>NaN</td>\n",
       "      <td>NaN</td>\n",
       "      <td>NaN</td>\n",
       "      <td>NaN</td>\n",
       "      <td>NaN</td>\n",
       "    </tr>\n",
       "    <tr>\n",
       "      <th>product_variation_inventory</th>\n",
       "      <td>1573.0</td>\n",
       "      <td>NaN</td>\n",
       "      <td>NaN</td>\n",
       "      <td>NaN</td>\n",
       "      <td>33.081373</td>\n",
       "      <td>21.353137</td>\n",
       "      <td>1.0</td>\n",
       "      <td>6.0</td>\n",
       "      <td>50.0</td>\n",
       "      <td>50.0</td>\n",
       "      <td>50.0</td>\n",
       "    </tr>\n",
       "    <tr>\n",
       "      <th>shipping_option_name</th>\n",
       "      <td>1573</td>\n",
       "      <td>15</td>\n",
       "      <td>Livraison standard</td>\n",
       "      <td>1508</td>\n",
       "      <td>NaN</td>\n",
       "      <td>NaN</td>\n",
       "      <td>NaN</td>\n",
       "      <td>NaN</td>\n",
       "      <td>NaN</td>\n",
       "      <td>NaN</td>\n",
       "      <td>NaN</td>\n",
       "    </tr>\n",
       "    <tr>\n",
       "      <th>shipping_option_price</th>\n",
       "      <td>1573.0</td>\n",
       "      <td>NaN</td>\n",
       "      <td>NaN</td>\n",
       "      <td>NaN</td>\n",
       "      <td>2.3452</td>\n",
       "      <td>1.024371</td>\n",
       "      <td>1.0</td>\n",
       "      <td>2.0</td>\n",
       "      <td>2.0</td>\n",
       "      <td>3.0</td>\n",
       "      <td>12.0</td>\n",
       "    </tr>\n",
       "    <tr>\n",
       "      <th>shipping_is_express</th>\n",
       "      <td>1573.0</td>\n",
       "      <td>NaN</td>\n",
       "      <td>NaN</td>\n",
       "      <td>NaN</td>\n",
       "      <td>0.002543</td>\n",
       "      <td>0.050379</td>\n",
       "      <td>0.0</td>\n",
       "      <td>0.0</td>\n",
       "      <td>0.0</td>\n",
       "      <td>0.0</td>\n",
       "      <td>1.0</td>\n",
       "    </tr>\n",
       "    <tr>\n",
       "      <th>countries_shipped_to</th>\n",
       "      <td>1573.0</td>\n",
       "      <td>NaN</td>\n",
       "      <td>NaN</td>\n",
       "      <td>NaN</td>\n",
       "      <td>40.456453</td>\n",
       "      <td>20.301203</td>\n",
       "      <td>6.0</td>\n",
       "      <td>31.0</td>\n",
       "      <td>40.0</td>\n",
       "      <td>43.0</td>\n",
       "      <td>140.0</td>\n",
       "    </tr>\n",
       "    <tr>\n",
       "      <th>inventory_total</th>\n",
       "      <td>1573.0</td>\n",
       "      <td>NaN</td>\n",
       "      <td>NaN</td>\n",
       "      <td>NaN</td>\n",
       "      <td>49.82136</td>\n",
       "      <td>2.562799</td>\n",
       "      <td>1.0</td>\n",
       "      <td>50.0</td>\n",
       "      <td>50.0</td>\n",
       "      <td>50.0</td>\n",
       "      <td>50.0</td>\n",
       "    </tr>\n",
       "    <tr>\n",
       "      <th>has_urgency_banner</th>\n",
       "      <td>473.0</td>\n",
       "      <td>NaN</td>\n",
       "      <td>NaN</td>\n",
       "      <td>NaN</td>\n",
       "      <td>1.0</td>\n",
       "      <td>0.0</td>\n",
       "      <td>1.0</td>\n",
       "      <td>1.0</td>\n",
       "      <td>1.0</td>\n",
       "      <td>1.0</td>\n",
       "      <td>1.0</td>\n",
       "    </tr>\n",
       "    <tr>\n",
       "      <th>urgency_text</th>\n",
       "      <td>473</td>\n",
       "      <td>2</td>\n",
       "      <td>Quantité limitée !</td>\n",
       "      <td>472</td>\n",
       "      <td>NaN</td>\n",
       "      <td>NaN</td>\n",
       "      <td>NaN</td>\n",
       "      <td>NaN</td>\n",
       "      <td>NaN</td>\n",
       "      <td>NaN</td>\n",
       "      <td>NaN</td>\n",
       "    </tr>\n",
       "    <tr>\n",
       "      <th>origin_country</th>\n",
       "      <td>1556</td>\n",
       "      <td>6</td>\n",
       "      <td>CN</td>\n",
       "      <td>1516</td>\n",
       "      <td>NaN</td>\n",
       "      <td>NaN</td>\n",
       "      <td>NaN</td>\n",
       "      <td>NaN</td>\n",
       "      <td>NaN</td>\n",
       "      <td>NaN</td>\n",
       "      <td>NaN</td>\n",
       "    </tr>\n",
       "    <tr>\n",
       "      <th>merchant_title</th>\n",
       "      <td>1573</td>\n",
       "      <td>958</td>\n",
       "      <td>guangzhouweishiweifushiyouxiangongsi</td>\n",
       "      <td>15</td>\n",
       "      <td>NaN</td>\n",
       "      <td>NaN</td>\n",
       "      <td>NaN</td>\n",
       "      <td>NaN</td>\n",
       "      <td>NaN</td>\n",
       "      <td>NaN</td>\n",
       "      <td>NaN</td>\n",
       "    </tr>\n",
       "    <tr>\n",
       "      <th>merchant_name</th>\n",
       "      <td>1569</td>\n",
       "      <td>957</td>\n",
       "      <td>广州唯适唯服饰有限公司</td>\n",
       "      <td>15</td>\n",
       "      <td>NaN</td>\n",
       "      <td>NaN</td>\n",
       "      <td>NaN</td>\n",
       "      <td>NaN</td>\n",
       "      <td>NaN</td>\n",
       "      <td>NaN</td>\n",
       "      <td>NaN</td>\n",
       "    </tr>\n",
       "    <tr>\n",
       "      <th>merchant_info_subtitle</th>\n",
       "      <td>1572</td>\n",
       "      <td>1058</td>\n",
       "      <td>83 % avis positifs (32,168 notes)</td>\n",
       "      <td>14</td>\n",
       "      <td>NaN</td>\n",
       "      <td>NaN</td>\n",
       "      <td>NaN</td>\n",
       "      <td>NaN</td>\n",
       "      <td>NaN</td>\n",
       "      <td>NaN</td>\n",
       "      <td>NaN</td>\n",
       "    </tr>\n",
       "    <tr>\n",
       "      <th>merchant_rating_count</th>\n",
       "      <td>1573.0</td>\n",
       "      <td>NaN</td>\n",
       "      <td>NaN</td>\n",
       "      <td>NaN</td>\n",
       "      <td>26495.832804</td>\n",
       "      <td>78474.455607</td>\n",
       "      <td>0.0</td>\n",
       "      <td>1987.0</td>\n",
       "      <td>7936.0</td>\n",
       "      <td>24564.0</td>\n",
       "      <td>2174765.0</td>\n",
       "    </tr>\n",
       "    <tr>\n",
       "      <th>merchant_rating</th>\n",
       "      <td>1573.0</td>\n",
       "      <td>NaN</td>\n",
       "      <td>NaN</td>\n",
       "      <td>NaN</td>\n",
       "      <td>4.032345</td>\n",
       "      <td>0.204768</td>\n",
       "      <td>2.333333</td>\n",
       "      <td>3.917353</td>\n",
       "      <td>4.04065</td>\n",
       "      <td>4.161797</td>\n",
       "      <td>5.0</td>\n",
       "    </tr>\n",
       "    <tr>\n",
       "      <th>merchant_id</th>\n",
       "      <td>1573</td>\n",
       "      <td>958</td>\n",
       "      <td>558c2cdc89d53c4005ea2920</td>\n",
       "      <td>15</td>\n",
       "      <td>NaN</td>\n",
       "      <td>NaN</td>\n",
       "      <td>NaN</td>\n",
       "      <td>NaN</td>\n",
       "      <td>NaN</td>\n",
       "      <td>NaN</td>\n",
       "      <td>NaN</td>\n",
       "    </tr>\n",
       "    <tr>\n",
       "      <th>merchant_has_profile_picture</th>\n",
       "      <td>1573.0</td>\n",
       "      <td>NaN</td>\n",
       "      <td>NaN</td>\n",
       "      <td>NaN</td>\n",
       "      <td>0.143675</td>\n",
       "      <td>0.350871</td>\n",
       "      <td>0.0</td>\n",
       "      <td>0.0</td>\n",
       "      <td>0.0</td>\n",
       "      <td>0.0</td>\n",
       "      <td>1.0</td>\n",
       "    </tr>\n",
       "    <tr>\n",
       "      <th>merchant_profile_picture</th>\n",
       "      <td>226</td>\n",
       "      <td>125</td>\n",
       "      <td>https://s3-us-west-1.amazonaws.com/sweeper-pro...</td>\n",
       "      <td>12</td>\n",
       "      <td>NaN</td>\n",
       "      <td>NaN</td>\n",
       "      <td>NaN</td>\n",
       "      <td>NaN</td>\n",
       "      <td>NaN</td>\n",
       "      <td>NaN</td>\n",
       "      <td>NaN</td>\n",
       "    </tr>\n",
       "    <tr>\n",
       "      <th>product_url</th>\n",
       "      <td>1573</td>\n",
       "      <td>1341</td>\n",
       "      <td>https://www.wish.com/c/5e16cb87e6dd7c03be24b28a</td>\n",
       "      <td>3</td>\n",
       "      <td>NaN</td>\n",
       "      <td>NaN</td>\n",
       "      <td>NaN</td>\n",
       "      <td>NaN</td>\n",
       "      <td>NaN</td>\n",
       "      <td>NaN</td>\n",
       "      <td>NaN</td>\n",
       "    </tr>\n",
       "    <tr>\n",
       "      <th>product_picture</th>\n",
       "      <td>1573</td>\n",
       "      <td>1341</td>\n",
       "      <td>https://contestimg.wish.com/api/webimage/5e16c...</td>\n",
       "      <td>3</td>\n",
       "      <td>NaN</td>\n",
       "      <td>NaN</td>\n",
       "      <td>NaN</td>\n",
       "      <td>NaN</td>\n",
       "      <td>NaN</td>\n",
       "      <td>NaN</td>\n",
       "      <td>NaN</td>\n",
       "    </tr>\n",
       "    <tr>\n",
       "      <th>product_id</th>\n",
       "      <td>1573</td>\n",
       "      <td>1341</td>\n",
       "      <td>5e16cb87e6dd7c03be24b28a</td>\n",
       "      <td>3</td>\n",
       "      <td>NaN</td>\n",
       "      <td>NaN</td>\n",
       "      <td>NaN</td>\n",
       "      <td>NaN</td>\n",
       "      <td>NaN</td>\n",
       "      <td>NaN</td>\n",
       "      <td>NaN</td>\n",
       "    </tr>\n",
       "    <tr>\n",
       "      <th>theme</th>\n",
       "      <td>1573</td>\n",
       "      <td>1</td>\n",
       "      <td>summer</td>\n",
       "      <td>1573</td>\n",
       "      <td>NaN</td>\n",
       "      <td>NaN</td>\n",
       "      <td>NaN</td>\n",
       "      <td>NaN</td>\n",
       "      <td>NaN</td>\n",
       "      <td>NaN</td>\n",
       "      <td>NaN</td>\n",
       "    </tr>\n",
       "    <tr>\n",
       "      <th>crawl_month</th>\n",
       "      <td>1573</td>\n",
       "      <td>1</td>\n",
       "      <td>2020-08</td>\n",
       "      <td>1573</td>\n",
       "      <td>NaN</td>\n",
       "      <td>NaN</td>\n",
       "      <td>NaN</td>\n",
       "      <td>NaN</td>\n",
       "      <td>NaN</td>\n",
       "      <td>NaN</td>\n",
       "      <td>NaN</td>\n",
       "    </tr>\n",
       "  </tbody>\n",
       "</table>\n",
       "</div>"
      ],
      "text/plain": [
       "                               count unique  \\\n",
       "title                           1573   1201   \n",
       "title_orig                      1573   1203   \n",
       "price                         1573.0    NaN   \n",
       "retail_price                  1573.0    NaN   \n",
       "currency_buyer                  1573      1   \n",
       "units_sold                    1573.0    NaN   \n",
       "uses_ad_boosts                1573.0    NaN   \n",
       "rating                        1573.0    NaN   \n",
       "rating_count                  1573.0    NaN   \n",
       "rating_five_count             1528.0    NaN   \n",
       "rating_four_count             1528.0    NaN   \n",
       "rating_three_count            1528.0    NaN   \n",
       "rating_two_count              1528.0    NaN   \n",
       "rating_one_count              1528.0    NaN   \n",
       "badges_count                  1573.0    NaN   \n",
       "badge_local_product           1573.0    NaN   \n",
       "badge_product_quality         1573.0    NaN   \n",
       "badge_fast_shipping           1573.0    NaN   \n",
       "tags                            1573   1230   \n",
       "product_color                   1532    101   \n",
       "product_variation_size_id       1559    106   \n",
       "product_variation_inventory   1573.0    NaN   \n",
       "shipping_option_name            1573     15   \n",
       "shipping_option_price         1573.0    NaN   \n",
       "shipping_is_express           1573.0    NaN   \n",
       "countries_shipped_to          1573.0    NaN   \n",
       "inventory_total               1573.0    NaN   \n",
       "has_urgency_banner             473.0    NaN   \n",
       "urgency_text                     473      2   \n",
       "origin_country                  1556      6   \n",
       "merchant_title                  1573    958   \n",
       "merchant_name                   1569    957   \n",
       "merchant_info_subtitle          1572   1058   \n",
       "merchant_rating_count         1573.0    NaN   \n",
       "merchant_rating               1573.0    NaN   \n",
       "merchant_id                     1573    958   \n",
       "merchant_has_profile_picture  1573.0    NaN   \n",
       "merchant_profile_picture         226    125   \n",
       "product_url                     1573   1341   \n",
       "product_picture                 1573   1341   \n",
       "product_id                      1573   1341   \n",
       "theme                           1573      1   \n",
       "crawl_month                     1573      1   \n",
       "\n",
       "                                                                            top  \\\n",
       "title                         Nouvelle mode d'été femmes robe décontractée c...   \n",
       "title_orig                    New Fashion Summer Women Casual Dress Round Ne...   \n",
       "price                                                                       NaN   \n",
       "retail_price                                                                NaN   \n",
       "currency_buyer                                                              EUR   \n",
       "units_sold                                                                  NaN   \n",
       "uses_ad_boosts                                                              NaN   \n",
       "rating                                                                      NaN   \n",
       "rating_count                                                                NaN   \n",
       "rating_five_count                                                           NaN   \n",
       "rating_four_count                                                           NaN   \n",
       "rating_three_count                                                          NaN   \n",
       "rating_two_count                                                            NaN   \n",
       "rating_one_count                                                            NaN   \n",
       "badges_count                                                                NaN   \n",
       "badge_local_product                                                         NaN   \n",
       "badge_product_quality                                                       NaN   \n",
       "badge_fast_shipping                                                         NaN   \n",
       "tags                          Summer,Fashion,Necks,Skirts,Dress,Loose,Women'...   \n",
       "product_color                                                             black   \n",
       "product_variation_size_id                                                     S   \n",
       "product_variation_inventory                                                 NaN   \n",
       "shipping_option_name                                         Livraison standard   \n",
       "shipping_option_price                                                       NaN   \n",
       "shipping_is_express                                                         NaN   \n",
       "countries_shipped_to                                                        NaN   \n",
       "inventory_total                                                             NaN   \n",
       "has_urgency_banner                                                          NaN   \n",
       "urgency_text                                                 Quantité limitée !   \n",
       "origin_country                                                               CN   \n",
       "merchant_title                             guangzhouweishiweifushiyouxiangongsi   \n",
       "merchant_name                                                       广州唯适唯服饰有限公司   \n",
       "merchant_info_subtitle                        83 % avis positifs (32,168 notes)   \n",
       "merchant_rating_count                                                       NaN   \n",
       "merchant_rating                                                             NaN   \n",
       "merchant_id                                            558c2cdc89d53c4005ea2920   \n",
       "merchant_has_profile_picture                                                NaN   \n",
       "merchant_profile_picture      https://s3-us-west-1.amazonaws.com/sweeper-pro...   \n",
       "product_url                     https://www.wish.com/c/5e16cb87e6dd7c03be24b28a   \n",
       "product_picture               https://contestimg.wish.com/api/webimage/5e16c...   \n",
       "product_id                                             5e16cb87e6dd7c03be24b28a   \n",
       "theme                                                                    summer   \n",
       "crawl_month                                                             2020-08   \n",
       "\n",
       "                              freq          mean           std       min  \\\n",
       "title                           24           NaN           NaN       NaN   \n",
       "title_orig                      24           NaN           NaN       NaN   \n",
       "price                          NaN      8.325372       3.93203       1.0   \n",
       "retail_price                   NaN      23.28862     30.357863       1.0   \n",
       "currency_buyer                1573           NaN           NaN       NaN   \n",
       "units_sold                     NaN   4339.005086   9356.539302       1.0   \n",
       "uses_ad_boosts                 NaN      0.432931      0.495639       0.0   \n",
       "rating                         NaN      3.820896      0.515374       1.0   \n",
       "rating_count                   NaN     889.65925   1983.928834       0.0   \n",
       "rating_five_count              NaN    442.263743     980.20327       0.0   \n",
       "rating_four_count              NaN    179.599476    400.516231       0.0   \n",
       "rating_three_count             NaN    134.549738    311.690656       0.0   \n",
       "rating_two_count               NaN     63.711387    151.343933       0.0   \n",
       "rating_one_count               NaN     95.735602    214.075544       0.0   \n",
       "badges_count                   NaN      0.105531      0.340709       0.0   \n",
       "badge_local_product            NaN      0.018436      0.134565       0.0   \n",
       "badge_product_quality          NaN       0.07438      0.262472       0.0   \n",
       "badge_fast_shipping            NaN      0.012715      0.112075       0.0   \n",
       "tags                            17           NaN           NaN       NaN   \n",
       "product_color                  302           NaN           NaN       NaN   \n",
       "product_variation_size_id      641           NaN           NaN       NaN   \n",
       "product_variation_inventory    NaN     33.081373     21.353137       1.0   \n",
       "shipping_option_name          1508           NaN           NaN       NaN   \n",
       "shipping_option_price          NaN        2.3452      1.024371       1.0   \n",
       "shipping_is_express            NaN      0.002543      0.050379       0.0   \n",
       "countries_shipped_to           NaN     40.456453     20.301203       6.0   \n",
       "inventory_total                NaN      49.82136      2.562799       1.0   \n",
       "has_urgency_banner             NaN           1.0           0.0       1.0   \n",
       "urgency_text                   472           NaN           NaN       NaN   \n",
       "origin_country                1516           NaN           NaN       NaN   \n",
       "merchant_title                  15           NaN           NaN       NaN   \n",
       "merchant_name                   15           NaN           NaN       NaN   \n",
       "merchant_info_subtitle          14           NaN           NaN       NaN   \n",
       "merchant_rating_count          NaN  26495.832804  78474.455607       0.0   \n",
       "merchant_rating                NaN      4.032345      0.204768  2.333333   \n",
       "merchant_id                     15           NaN           NaN       NaN   \n",
       "merchant_has_profile_picture   NaN      0.143675      0.350871       0.0   \n",
       "merchant_profile_picture        12           NaN           NaN       NaN   \n",
       "product_url                      3           NaN           NaN       NaN   \n",
       "product_picture                  3           NaN           NaN       NaN   \n",
       "product_id                       3           NaN           NaN       NaN   \n",
       "theme                         1573           NaN           NaN       NaN   \n",
       "crawl_month                   1573           NaN           NaN       NaN   \n",
       "\n",
       "                                   25%      50%       75%        max  \n",
       "title                              NaN      NaN       NaN        NaN  \n",
       "title_orig                         NaN      NaN       NaN        NaN  \n",
       "price                             5.81      8.0      11.0       49.0  \n",
       "retail_price                       7.0     10.0      26.0      252.0  \n",
       "currency_buyer                     NaN      NaN       NaN        NaN  \n",
       "units_sold                       100.0   1000.0    5000.0   100000.0  \n",
       "uses_ad_boosts                     0.0      0.0       1.0        1.0  \n",
       "rating                            3.55     3.85      4.11        5.0  \n",
       "rating_count                      24.0    150.0     855.0    20744.0  \n",
       "rating_five_count                 12.0     79.0     413.5    11548.0  \n",
       "rating_four_count                  5.0     31.5    168.25     4152.0  \n",
       "rating_three_count                 4.0     24.0    129.25     3658.0  \n",
       "rating_two_count                   2.0     11.0      62.0     2003.0  \n",
       "rating_one_count                   4.0     20.0      94.0     2789.0  \n",
       "badges_count                       0.0      0.0       0.0        3.0  \n",
       "badge_local_product                0.0      0.0       0.0        1.0  \n",
       "badge_product_quality              0.0      0.0       0.0        1.0  \n",
       "badge_fast_shipping                0.0      0.0       0.0        1.0  \n",
       "tags                               NaN      NaN       NaN        NaN  \n",
       "product_color                      NaN      NaN       NaN        NaN  \n",
       "product_variation_size_id          NaN      NaN       NaN        NaN  \n",
       "product_variation_inventory        6.0     50.0      50.0       50.0  \n",
       "shipping_option_name               NaN      NaN       NaN        NaN  \n",
       "shipping_option_price              2.0      2.0       3.0       12.0  \n",
       "shipping_is_express                0.0      0.0       0.0        1.0  \n",
       "countries_shipped_to              31.0     40.0      43.0      140.0  \n",
       "inventory_total                   50.0     50.0      50.0       50.0  \n",
       "has_urgency_banner                 1.0      1.0       1.0        1.0  \n",
       "urgency_text                       NaN      NaN       NaN        NaN  \n",
       "origin_country                     NaN      NaN       NaN        NaN  \n",
       "merchant_title                     NaN      NaN       NaN        NaN  \n",
       "merchant_name                      NaN      NaN       NaN        NaN  \n",
       "merchant_info_subtitle             NaN      NaN       NaN        NaN  \n",
       "merchant_rating_count           1987.0   7936.0   24564.0  2174765.0  \n",
       "merchant_rating               3.917353  4.04065  4.161797        5.0  \n",
       "merchant_id                        NaN      NaN       NaN        NaN  \n",
       "merchant_has_profile_picture       0.0      0.0       0.0        1.0  \n",
       "merchant_profile_picture           NaN      NaN       NaN        NaN  \n",
       "product_url                        NaN      NaN       NaN        NaN  \n",
       "product_picture                    NaN      NaN       NaN        NaN  \n",
       "product_id                         NaN      NaN       NaN        NaN  \n",
       "theme                              NaN      NaN       NaN        NaN  \n",
       "crawl_month                        NaN      NaN       NaN        NaN  "
      ]
     },
     "execution_count": 6,
     "metadata": {},
     "output_type": "execute_result"
    }
   ],
   "source": [
    "summer_products.describe(include='all').T"
   ]
  },
  {
   "cell_type": "markdown",
   "metadata": {},
   "source": [
    "# Variable Types (as per dtypes)"
   ]
  },
  {
   "cell_type": "code",
   "execution_count": 7,
   "metadata": {},
   "outputs": [
    {
     "data": {
      "text/plain": [
       "Index(['title', 'title_orig', 'currency_buyer', 'tags', 'product_color',\n",
       "       'product_variation_size_id', 'shipping_option_name', 'urgency_text',\n",
       "       'origin_country', 'merchant_title', 'merchant_name',\n",
       "       'merchant_info_subtitle', 'merchant_id', 'merchant_profile_picture',\n",
       "       'product_url', 'product_picture', 'product_id', 'theme', 'crawl_month'],\n",
       "      dtype='object')"
      ]
     },
     "execution_count": 7,
     "metadata": {},
     "output_type": "execute_result"
    }
   ],
   "source": [
    "summer_products.select_dtypes(include=\"object\").columns"
   ]
  },
  {
   "cell_type": "code",
   "execution_count": 8,
   "metadata": {},
   "outputs": [
    {
     "data": {
      "text/plain": [
       "Index(['price', 'retail_price', 'units_sold', 'uses_ad_boosts', 'rating',\n",
       "       'rating_count', 'rating_five_count', 'rating_four_count',\n",
       "       'rating_three_count', 'rating_two_count', 'rating_one_count',\n",
       "       'badges_count', 'badge_local_product', 'badge_product_quality',\n",
       "       'badge_fast_shipping', 'product_variation_inventory',\n",
       "       'shipping_option_price', 'shipping_is_express', 'countries_shipped_to',\n",
       "       'inventory_total', 'has_urgency_banner', 'merchant_rating_count',\n",
       "       'merchant_rating', 'merchant_has_profile_picture'],\n",
       "      dtype='object')"
      ]
     },
     "execution_count": 8,
     "metadata": {},
     "output_type": "execute_result"
    }
   ],
   "source": [
    "summer_products.select_dtypes(include=[\"int64\", \"float64\"]).columns"
   ]
  },
  {
   "cell_type": "markdown",
   "metadata": {},
   "source": [
    "# Data Cleaning"
   ]
  },
  {
   "cell_type": "markdown",
   "metadata": {},
   "source": [
    "## Drop Irrelevant Columns\n",
    "\n",
    "Irrelevant because:\n",
    "\n",
    "(Object dtype)\n",
    "- title: contains product title in French\n",
    "- title_orig: contains product title in English\n",
    "- merchant_title: contains name of the merchant\n",
    "- merchant_name: same info as merchant_title\n",
    "- merchant_info_subtitle: contains overview of the seller's stats for the user\n",
    "- merchant_profile_picture: contains url to merchant's profile picture\n",
    "- product_url: url to product description\n",
    "- product_picture: url to product picture\n",
    "- theme: single value for the whole column (\"summer\")\n",
    "- crawl_month: single value for the whole column (\"2020-08\")\n",
    "- currency_buyer: single value for the whole column (\"EURO\")\n",
    "- urgency_text: same info contained in \"has_urgency_banner\" column\n",
    "\n",
    "\n",
    "(Numerical dtype)\n",
    "\n",
    "The next 5 columns are not required because we are using \"rating\" column which contains sum of these 5 columns\n",
    "- rating_five_count: count of 5 star ratings received \n",
    "- rating_four_count: count of 4 star ratings received\n",
    "- rating_three_count: count of 3 star ratings received\n",
    "- rating_two_count: count of 2 star ratings received\n",
    "- rating_one_count: count of 1 star ratings received"
   ]
  },
  {
   "cell_type": "code",
   "execution_count": 9,
   "metadata": {},
   "outputs": [
    {
     "data": {
      "text/plain": [
       "Index(['title', 'title_orig', 'price', 'retail_price', 'currency_buyer',\n",
       "       'units_sold', 'uses_ad_boosts', 'rating', 'rating_count',\n",
       "       'rating_five_count', 'rating_four_count', 'rating_three_count',\n",
       "       'rating_two_count', 'rating_one_count', 'badges_count',\n",
       "       'badge_local_product', 'badge_product_quality', 'badge_fast_shipping',\n",
       "       'tags', 'product_color', 'product_variation_size_id',\n",
       "       'product_variation_inventory', 'shipping_option_name',\n",
       "       'shipping_option_price', 'shipping_is_express', 'countries_shipped_to',\n",
       "       'inventory_total', 'has_urgency_banner', 'urgency_text',\n",
       "       'origin_country', 'merchant_title', 'merchant_name',\n",
       "       'merchant_info_subtitle', 'merchant_rating_count', 'merchant_rating',\n",
       "       'merchant_id', 'merchant_has_profile_picture',\n",
       "       'merchant_profile_picture', 'product_url', 'product_picture',\n",
       "       'product_id', 'theme', 'crawl_month'],\n",
       "      dtype='object')"
      ]
     },
     "execution_count": 9,
     "metadata": {},
     "output_type": "execute_result"
    }
   ],
   "source": [
    "summer_products.columns"
   ]
  },
  {
   "cell_type": "code",
   "execution_count": 10,
   "metadata": {},
   "outputs": [],
   "source": [
    "str_cols_to_drop = ['title', 'title_orig', \n",
    "                    'merchant_title', 'merchant_name', 'merchant_info_subtitle', 'merchant_profile_picture', \n",
    "                    'product_url', 'product_picture',\n",
    "                    'theme', 'crawl_month', 'currency_buyer', 'urgency_text']\n",
    "\n",
    "num_cols_to_drop = ['rating_five_count', 'rating_four_count', 'rating_three_count', 'rating_two_count', 'rating_one_count']"
   ]
  },
  {
   "cell_type": "code",
   "execution_count": 11,
   "metadata": {},
   "outputs": [
    {
     "data": {
      "text/plain": [
       "(1573, 26)"
      ]
     },
     "execution_count": 11,
     "metadata": {},
     "output_type": "execute_result"
    }
   ],
   "source": [
    "filtered_data1 = summer_products.drop(columns=str_cols_to_drop + num_cols_to_drop)\n",
    "filtered_data1.shape"
   ]
  },
  {
   "cell_type": "code",
   "execution_count": 12,
   "metadata": {},
   "outputs": [
    {
     "data": {
      "text/plain": [
       "Index(['price', 'retail_price', 'units_sold', 'uses_ad_boosts', 'rating',\n",
       "       'rating_count', 'badges_count', 'badge_local_product',\n",
       "       'badge_product_quality', 'badge_fast_shipping', 'tags', 'product_color',\n",
       "       'product_variation_size_id', 'product_variation_inventory',\n",
       "       'shipping_option_name', 'shipping_option_price', 'shipping_is_express',\n",
       "       'countries_shipped_to', 'inventory_total', 'has_urgency_banner',\n",
       "       'origin_country', 'merchant_rating_count', 'merchant_rating',\n",
       "       'merchant_id', 'merchant_has_profile_picture', 'product_id'],\n",
       "      dtype='object')"
      ]
     },
     "execution_count": 12,
     "metadata": {},
     "output_type": "execute_result"
    }
   ],
   "source": [
    "filtered_data1.columns"
   ]
  },
  {
   "cell_type": "markdown",
   "metadata": {},
   "source": [
    "## Drop Duplicate Rows"
   ]
  },
  {
   "cell_type": "code",
   "execution_count": 13,
   "metadata": {},
   "outputs": [
    {
     "data": {
      "text/plain": [
       "(1539, 26)"
      ]
     },
     "execution_count": 13,
     "metadata": {},
     "output_type": "execute_result"
    }
   ],
   "source": [
    "filtered_data1.drop_duplicates(keep='first', inplace=True)\n",
    "filtered_data1.shape"
   ]
  },
  {
   "cell_type": "markdown",
   "metadata": {},
   "source": [
    "## Handling Rows with Missing Values"
   ]
  },
  {
   "cell_type": "code",
   "execution_count": 14,
   "metadata": {},
   "outputs": [
    {
     "data": {
      "text/plain": [
       "price                              0\n",
       "retail_price                       0\n",
       "units_sold                         0\n",
       "uses_ad_boosts                     0\n",
       "rating                             0\n",
       "rating_count                       0\n",
       "badges_count                       0\n",
       "badge_local_product                0\n",
       "badge_product_quality              0\n",
       "badge_fast_shipping                0\n",
       "tags                               0\n",
       "product_color                     41\n",
       "product_variation_size_id         14\n",
       "product_variation_inventory        0\n",
       "shipping_option_name               0\n",
       "shipping_option_price              0\n",
       "shipping_is_express                0\n",
       "countries_shipped_to               0\n",
       "inventory_total                    0\n",
       "has_urgency_banner              1071\n",
       "origin_country                    16\n",
       "merchant_rating_count              0\n",
       "merchant_rating                    0\n",
       "merchant_id                        0\n",
       "merchant_has_profile_picture       0\n",
       "product_id                         0\n",
       "dtype: int64"
      ]
     },
     "execution_count": 14,
     "metadata": {},
     "output_type": "execute_result"
    }
   ],
   "source": [
    "filtered_data1.isna().sum(axis=0)"
   ]
  },
  {
   "cell_type": "markdown",
   "metadata": {},
   "source": [
    "### Replacing nulls in has_urgency_banner by 0"
   ]
  },
  {
   "cell_type": "code",
   "execution_count": 15,
   "metadata": {},
   "outputs": [
    {
     "data": {
      "text/plain": [
       "has_urgency_banner\n",
       "1.0    468\n",
       "Name: count, dtype: int64"
      ]
     },
     "execution_count": 15,
     "metadata": {},
     "output_type": "execute_result"
    }
   ],
   "source": [
    "# seems like missing values represent products that  have has_urgency_banner=0\n",
    "filtered_data1[\"has_urgency_banner\"].value_counts()"
   ]
  },
  {
   "cell_type": "code",
   "execution_count": 16,
   "metadata": {},
   "outputs": [
    {
     "data": {
      "text/plain": [
       "price                            0\n",
       "retail_price                     0\n",
       "units_sold                       0\n",
       "uses_ad_boosts                   0\n",
       "rating                           0\n",
       "rating_count                     0\n",
       "badges_count                     0\n",
       "badge_local_product              0\n",
       "badge_product_quality            0\n",
       "badge_fast_shipping              0\n",
       "tags                             0\n",
       "product_color                   41\n",
       "product_variation_size_id       14\n",
       "product_variation_inventory      0\n",
       "shipping_option_name             0\n",
       "shipping_option_price            0\n",
       "shipping_is_express              0\n",
       "countries_shipped_to             0\n",
       "inventory_total                  0\n",
       "has_urgency_banner               0\n",
       "origin_country                  16\n",
       "merchant_rating_count            0\n",
       "merchant_rating                  0\n",
       "merchant_id                      0\n",
       "merchant_has_profile_picture     0\n",
       "product_id                       0\n",
       "dtype: int64"
      ]
     },
     "execution_count": 16,
     "metadata": {},
     "output_type": "execute_result"
    }
   ],
   "source": [
    "filtered_data1.fillna({\"has_urgency_banner\": 0}, inplace=True)\n",
    "filtered_data1.isna().sum(axis=0)"
   ]
  },
  {
   "cell_type": "markdown",
   "metadata": {},
   "source": [
    "### Dropping the remaining null containing rows"
   ]
  },
  {
   "cell_type": "code",
   "execution_count": 17,
   "metadata": {},
   "outputs": [
    {
     "name": "stdout",
     "output_type": "stream",
     "text": [
      "(1539, 26)\n",
      "(1470, 26)\n"
     ]
    }
   ],
   "source": [
    "print(filtered_data1.shape)\n",
    "filtered_data1.dropna(inplace=True)\n",
    "print(filtered_data1.shape)"
   ]
  },
  {
   "cell_type": "code",
   "execution_count": null,
   "metadata": {},
   "outputs": [],
   "source": []
  },
  {
   "cell_type": "code",
   "execution_count": null,
   "metadata": {},
   "outputs": [],
   "source": []
  },
  {
   "cell_type": "code",
   "execution_count": null,
   "metadata": {},
   "outputs": [],
   "source": []
  },
  {
   "cell_type": "markdown",
   "metadata": {},
   "source": [
    "# EDA"
   ]
  },
  {
   "cell_type": "markdown",
   "metadata": {},
   "source": [
    "## Unique Values Per Column"
   ]
  },
  {
   "cell_type": "code",
   "execution_count": 18,
   "metadata": {},
   "outputs": [],
   "source": [
    "filtered_data2 = filtered_data1.copy(deep=True)"
   ]
  },
  {
   "cell_type": "code",
   "execution_count": 19,
   "metadata": {},
   "outputs": [
    {
     "data": {
      "text/plain": [
       "[('uses_ad_boosts', 2),\n",
       " ('badge_local_product', 2),\n",
       " ('badge_product_quality', 2),\n",
       " ('badge_fast_shipping', 2),\n",
       " ('shipping_is_express', 2),\n",
       " ('has_urgency_banner', 2),\n",
       " ('merchant_has_profile_picture', 2),\n",
       " ('badges_count', 3),\n",
       " ('origin_country', 6),\n",
       " ('shipping_option_price', 8),\n",
       " ('inventory_total', 8),\n",
       " ('shipping_option_name', 14),\n",
       " ('units_sold', 15),\n",
       " ('product_variation_inventory', 48),\n",
       " ('product_variation_size_id', 91),\n",
       " ('countries_shipped_to', 92),\n",
       " ('product_color', 101),\n",
       " ('retail_price', 102),\n",
       " ('price', 119),\n",
       " ('rating', 188),\n",
       " ('rating_count', 727),\n",
       " ('merchant_rating_count', 869),\n",
       " ('merchant_rating', 902),\n",
       " ('merchant_id', 908),\n",
       " ('tags', 1172),\n",
       " ('product_id', 1277)]"
      ]
     },
     "execution_count": 19,
     "metadata": {},
     "output_type": "execute_result"
    }
   ],
   "source": [
    "uniq_values_per_col = []\n",
    "for c in filtered_data2.columns:\n",
    "    uniq_values_per_col.append((c, len(filtered_data2[c].unique())))\n",
    "\n",
    "sorted(uniq_values_per_col, key= lambda x:x[-1])"
   ]
  },
  {
   "cell_type": "markdown",
   "metadata": {},
   "source": [
    "## Setting bool dtype for binary columns"
   ]
  },
  {
   "cell_type": "code",
   "execution_count": 20,
   "metadata": {},
   "outputs": [
    {
     "name": "stdout",
     "output_type": "stream",
     "text": [
      "<class 'pandas.core.frame.DataFrame'>\n",
      "Index: 1470 entries, 0 to 1572\n",
      "Data columns (total 26 columns):\n",
      " #   Column                        Non-Null Count  Dtype  \n",
      "---  ------                        --------------  -----  \n",
      " 0   price                         1470 non-null   float64\n",
      " 1   retail_price                  1470 non-null   int64  \n",
      " 2   units_sold                    1470 non-null   int64  \n",
      " 3   uses_ad_boosts                1470 non-null   bool   \n",
      " 4   rating                        1470 non-null   float64\n",
      " 5   rating_count                  1470 non-null   int64  \n",
      " 6   badges_count                  1470 non-null   int64  \n",
      " 7   badge_local_product           1470 non-null   bool   \n",
      " 8   badge_product_quality         1470 non-null   bool   \n",
      " 9   badge_fast_shipping           1470 non-null   bool   \n",
      " 10  tags                          1470 non-null   object \n",
      " 11  product_color                 1470 non-null   object \n",
      " 12  product_variation_size_id     1470 non-null   object \n",
      " 13  product_variation_inventory   1470 non-null   int64  \n",
      " 14  shipping_option_name          1470 non-null   object \n",
      " 15  shipping_option_price         1470 non-null   int64  \n",
      " 16  shipping_is_express           1470 non-null   bool   \n",
      " 17  countries_shipped_to          1470 non-null   int64  \n",
      " 18  inventory_total               1470 non-null   int64  \n",
      " 19  has_urgency_banner            1470 non-null   bool   \n",
      " 20  origin_country                1470 non-null   object \n",
      " 21  merchant_rating_count         1470 non-null   int64  \n",
      " 22  merchant_rating               1470 non-null   float64\n",
      " 23  merchant_id                   1470 non-null   object \n",
      " 24  merchant_has_profile_picture  1470 non-null   bool   \n",
      " 25  product_id                    1470 non-null   object \n",
      "dtypes: bool(7), float64(3), int64(9), object(7)\n",
      "memory usage: 239.7+ KB\n"
     ]
    }
   ],
   "source": [
    "bool_cols = ['uses_ad_boosts', 'badge_local_product', 'badge_product_quality', 'badge_fast_shipping', \n",
    "             'shipping_is_express', 'has_urgency_banner', 'merchant_has_profile_picture']\n",
    "\n",
    "for c in bool_cols:\n",
    "    filtered_data2[c] = filtered_data2[c].astype(bool)\n",
    "\n",
    "filtered_data2.info()"
   ]
  },
  {
   "cell_type": "markdown",
   "metadata": {},
   "source": [
    "## Class Imbalance in Binary Columns\n",
    "\n",
    "### Summary of results from below:\n",
    "Except for uses_ad_boosts and has_urgency_banner, the remaining 5 binary columns have a very high class imbalance."
   ]
  },
  {
   "cell_type": "code",
   "execution_count": 36,
   "metadata": {},
   "outputs": [
    {
     "name": "stdout",
     "output_type": "stream",
     "text": [
      "uses_ad_boosts : \n",
      " uses_ad_boosts\n",
      "False    0.560544\n",
      "True     0.439456\n",
      "Name: proportion, dtype: float64\n",
      "badge_local_product : \n",
      " badge_local_product\n",
      "False    0.983673\n",
      "True     0.016327\n",
      "Name: proportion, dtype: float64\n",
      "badge_product_quality : \n",
      " badge_product_quality\n",
      "False    0.929252\n",
      "True     0.070748\n",
      "Name: proportion, dtype: float64\n",
      "badge_fast_shipping : \n",
      " badge_fast_shipping\n",
      "False    0.988435\n",
      "True     0.011565\n",
      "Name: proportion, dtype: float64\n",
      "shipping_is_express : \n",
      " shipping_is_express\n",
      "False    0.998639\n",
      "True     0.001361\n",
      "Name: proportion, dtype: float64\n",
      "has_urgency_banner : \n",
      " has_urgency_banner\n",
      "False    0.697959\n",
      "True     0.302041\n",
      "Name: proportion, dtype: float64\n",
      "merchant_has_profile_picture : \n",
      " merchant_has_profile_picture\n",
      "False    0.854422\n",
      "True     0.145578\n",
      "Name: proportion, dtype: float64\n"
     ]
    }
   ],
   "source": [
    "for c in bool_cols:\n",
    "    print(c, \": \\n\", filtered_data2[c].value_counts(normalize=True))"
   ]
  },
  {
   "cell_type": "markdown",
   "metadata": {},
   "source": [
    "## Drop Binary Columns with High Class Imbalance"
   ]
  },
  {
   "cell_type": "code",
   "execution_count": 37,
   "metadata": {},
   "outputs": [
    {
     "data": {
      "text/plain": [
       "['badge_local_product',\n",
       " 'badge_product_quality',\n",
       " 'badge_fast_shipping',\n",
       " 'shipping_is_express',\n",
       " 'merchant_has_profile_picture']"
      ]
     },
     "execution_count": 37,
     "metadata": {},
     "output_type": "execute_result"
    }
   ],
   "source": [
    "bool_cols_high_class_imbalance = [c for c in bool_cols if c not in ['uses_ad_boosts', 'has_urgency_banner']]\n",
    "bool_cols_high_class_imbalance"
   ]
  },
  {
   "cell_type": "code",
   "execution_count": 38,
   "metadata": {},
   "outputs": [
    {
     "name": "stdout",
     "output_type": "stream",
     "text": [
      "(1470, 26)\n"
     ]
    },
    {
     "data": {
      "text/plain": [
       "(1470, 21)"
      ]
     },
     "execution_count": 38,
     "metadata": {},
     "output_type": "execute_result"
    }
   ],
   "source": [
    "print(filtered_data2.shape)\n",
    "filtered_data2.drop(columns = bool_cols_high_class_imbalance, inplace=True)\n",
    "filtered_data2.shape"
   ]
  },
  {
   "cell_type": "markdown",
   "metadata": {},
   "source": [
    "## Using Distribution of Binary Cols to check for Significance with Outcome Variable\n",
    "\n",
    "### Summary of results from plots below\n",
    "\n",
    "Neither of these two seem to have a significant relationship with Sales\n",
    "- uses_ad_boosts\n",
    "- has_urgency_banner\n"
   ]
  },
  {
   "cell_type": "code",
   "execution_count": 39,
   "metadata": {},
   "outputs": [
    {
     "data": {
      "text/plain": [
       "['uses_ad_boosts', 'has_urgency_banner']"
      ]
     },
     "execution_count": 39,
     "metadata": {},
     "output_type": "execute_result"
    }
   ],
   "source": [
    "bool_cols = [c for c in bool_cols if c not in bool_cols_high_class_imbalance]\n",
    "bool_cols"
   ]
  },
  {
   "cell_type": "code",
   "execution_count": 40,
   "metadata": {},
   "outputs": [
    {
     "data": {
      "application/vnd.plotly.v1+json": {
       "config": {
        "plotlyServerURL": "https://plot.ly"
       },
       "data": [
        {
         "alignmentgroup": "True",
         "hovertemplate": "uses_ad_boosts=%{x}<br>units_sold=%{y}<extra></extra>",
         "legendgroup": "",
         "marker": {
          "color": "#636efa"
         },
         "name": "",
         "notched": false,
         "offsetgroup": "",
         "orientation": "v",
         "showlegend": false,
         "type": "box",
         "x": [
          false,
          true,
          false,
          true,
          true,
          false,
          false,
          false,
          true,
          false,
          false,
          true,
          true,
          false,
          true,
          false,
          false,
          true,
          false,
          false,
          false,
          false,
          false,
          true,
          false,
          false,
          false,
          true,
          false,
          true,
          false,
          false,
          false,
          false,
          true,
          true,
          true,
          false,
          false,
          false,
          true,
          false,
          false,
          false,
          false,
          false,
          false,
          false,
          false,
          true,
          true,
          true,
          true,
          false,
          false,
          false,
          false,
          true,
          true,
          true,
          false,
          false,
          false,
          false,
          true,
          true,
          true,
          true,
          false,
          true,
          false,
          true,
          false,
          false,
          false,
          true,
          false,
          true,
          false,
          false,
          true,
          true,
          false,
          true,
          false,
          true,
          false,
          true,
          false,
          false,
          true,
          true,
          true,
          false,
          false,
          true,
          true,
          false,
          true,
          false,
          false,
          true,
          true,
          false,
          true,
          false,
          false,
          false,
          false,
          true,
          false,
          false,
          true,
          false,
          false,
          true,
          false,
          false,
          false,
          false,
          false,
          false,
          true,
          true,
          false,
          false,
          true,
          false,
          false,
          false,
          true,
          true,
          false,
          true,
          false,
          false,
          false,
          true,
          false,
          true,
          false,
          true,
          true,
          true,
          false,
          true,
          false,
          true,
          false,
          true,
          true,
          false,
          false,
          false,
          false,
          true,
          false,
          true,
          true,
          true,
          false,
          true,
          false,
          false,
          false,
          false,
          false,
          true,
          false,
          false,
          false,
          true,
          true,
          false,
          false,
          true,
          false,
          false,
          true,
          false,
          false,
          false,
          false,
          true,
          true,
          false,
          true,
          false,
          false,
          true,
          true,
          true,
          false,
          false,
          true,
          true,
          false,
          false,
          true,
          false,
          false,
          false,
          true,
          false,
          true,
          false,
          true,
          true,
          false,
          true,
          true,
          true,
          true,
          true,
          false,
          false,
          true,
          false,
          false,
          true,
          true,
          false,
          true,
          false,
          false,
          false,
          false,
          false,
          false,
          true,
          true,
          false,
          false,
          false,
          false,
          false,
          false,
          true,
          false,
          true,
          false,
          false,
          true,
          false,
          true,
          false,
          true,
          true,
          false,
          true,
          true,
          true,
          true,
          true,
          false,
          false,
          false,
          false,
          false,
          true,
          false,
          false,
          false,
          false,
          true,
          false,
          true,
          true,
          false,
          false,
          true,
          false,
          false,
          false,
          true,
          true,
          false,
          false,
          true,
          false,
          true,
          false,
          false,
          false,
          false,
          false,
          false,
          true,
          true,
          false,
          true,
          false,
          true,
          false,
          false,
          false,
          false,
          false,
          true,
          true,
          true,
          true,
          false,
          true,
          false,
          false,
          false,
          false,
          true,
          true,
          false,
          false,
          false,
          true,
          false,
          true,
          false,
          true,
          true,
          false,
          true,
          true,
          false,
          false,
          false,
          true,
          false,
          false,
          false,
          false,
          true,
          false,
          false,
          false,
          true,
          true,
          false,
          false,
          true,
          true,
          true,
          true,
          true,
          true,
          false,
          true,
          false,
          false,
          true,
          true,
          false,
          true,
          true,
          true,
          true,
          false,
          false,
          true,
          false,
          false,
          false,
          false,
          true,
          true,
          false,
          true,
          false,
          false,
          false,
          false,
          false,
          false,
          false,
          false,
          false,
          false,
          false,
          false,
          true,
          true,
          false,
          true,
          true,
          true,
          true,
          false,
          true,
          false,
          true,
          true,
          true,
          true,
          true,
          false,
          false,
          false,
          false,
          false,
          true,
          false,
          true,
          true,
          true,
          false,
          false,
          false,
          false,
          true,
          false,
          false,
          false,
          true,
          true,
          true,
          true,
          false,
          true,
          true,
          false,
          false,
          false,
          false,
          false,
          false,
          true,
          false,
          false,
          false,
          true,
          true,
          false,
          true,
          true,
          false,
          true,
          false,
          false,
          false,
          false,
          false,
          true,
          true,
          true,
          false,
          false,
          false,
          false,
          true,
          false,
          false,
          true,
          false,
          false,
          false,
          true,
          false,
          true,
          true,
          true,
          false,
          false,
          false,
          false,
          true,
          false,
          false,
          false,
          false,
          true,
          false,
          true,
          true,
          false,
          false,
          true,
          false,
          false,
          false,
          true,
          false,
          false,
          true,
          false,
          true,
          true,
          false,
          false,
          false,
          false,
          true,
          true,
          false,
          true,
          false,
          false,
          false,
          false,
          true,
          true,
          false,
          false,
          false,
          false,
          true,
          false,
          true,
          false,
          true,
          false,
          true,
          false,
          false,
          true,
          true,
          false,
          true,
          false,
          false,
          true,
          true,
          true,
          false,
          false,
          true,
          false,
          false,
          false,
          true,
          false,
          false,
          true,
          true,
          false,
          true,
          false,
          true,
          true,
          false,
          false,
          true,
          false,
          false,
          true,
          false,
          false,
          false,
          true,
          true,
          false,
          false,
          false,
          false,
          false,
          false,
          true,
          true,
          true,
          false,
          false,
          true,
          true,
          false,
          false,
          false,
          true,
          true,
          false,
          true,
          true,
          false,
          true,
          true,
          true,
          false,
          false,
          false,
          true,
          false,
          false,
          true,
          true,
          true,
          true,
          true,
          false,
          true,
          false,
          false,
          false,
          false,
          true,
          true,
          false,
          false,
          false,
          true,
          true,
          true,
          false,
          false,
          false,
          true,
          true,
          true,
          false,
          true,
          true,
          true,
          true,
          false,
          false,
          false,
          true,
          true,
          false,
          false,
          true,
          true,
          false,
          false,
          false,
          true,
          false,
          false,
          false,
          true,
          false,
          false,
          false,
          false,
          false,
          false,
          false,
          false,
          false,
          true,
          true,
          true,
          false,
          false,
          false,
          false,
          false,
          true,
          false,
          true,
          false,
          false,
          false,
          true,
          true,
          true,
          false,
          false,
          false,
          false,
          true,
          false,
          false,
          false,
          false,
          false,
          false,
          false,
          true,
          true,
          false,
          true,
          false,
          true,
          true,
          false,
          false,
          false,
          false,
          true,
          true,
          false,
          false,
          true,
          true,
          true,
          true,
          true,
          true,
          false,
          false,
          false,
          true,
          true,
          false,
          true,
          false,
          false,
          true,
          true,
          false,
          false,
          false,
          false,
          true,
          true,
          true,
          false,
          true,
          true,
          true,
          false,
          false,
          true,
          false,
          true,
          true,
          false,
          true,
          true,
          true,
          false,
          false,
          true,
          false,
          true,
          true,
          true,
          true,
          false,
          true,
          false,
          false,
          true,
          true,
          true,
          false,
          false,
          false,
          false,
          true,
          false,
          true,
          false,
          true,
          true,
          true,
          false,
          false,
          true,
          false,
          true,
          true,
          false,
          false,
          false,
          true,
          false,
          true,
          false,
          false,
          false,
          false,
          true,
          true,
          false,
          true,
          true,
          true,
          true,
          true,
          false,
          false,
          true,
          false,
          true,
          false,
          false,
          false,
          true,
          false,
          false,
          false,
          true,
          false,
          false,
          false,
          true,
          true,
          false,
          true,
          false,
          false,
          true,
          true,
          false,
          false,
          false,
          true,
          true,
          false,
          false,
          false,
          false,
          true,
          false,
          false,
          false,
          false,
          false,
          false,
          true,
          false,
          false,
          true,
          true,
          false,
          false,
          false,
          true,
          true,
          false,
          false,
          false,
          false,
          false,
          true,
          true,
          true,
          false,
          false,
          true,
          false,
          true,
          true,
          false,
          true,
          true,
          true,
          true,
          false,
          true,
          true,
          false,
          false,
          true,
          true,
          false,
          true,
          true,
          false,
          false,
          false,
          false,
          false,
          true,
          false,
          false,
          false,
          false,
          false,
          true,
          false,
          true,
          false,
          false,
          true,
          false,
          false,
          false,
          true,
          true,
          true,
          false,
          false,
          true,
          false,
          false,
          true,
          true,
          true,
          false,
          false,
          false,
          false,
          false,
          true,
          false,
          false,
          false,
          false,
          false,
          false,
          false,
          false,
          true,
          false,
          true,
          false,
          false,
          true,
          false,
          true,
          false,
          true,
          true,
          false,
          true,
          false,
          false,
          false,
          false,
          true,
          false,
          false,
          true,
          true,
          false,
          false,
          true,
          false,
          false,
          true,
          true,
          false,
          false,
          false,
          false,
          true,
          false,
          true,
          true,
          true,
          true,
          false,
          true,
          true,
          true,
          true,
          false,
          true,
          true,
          true,
          false,
          true,
          false,
          true,
          false,
          false,
          false,
          true,
          true,
          false,
          false,
          false,
          false,
          true,
          false,
          true,
          false,
          true,
          true,
          false,
          false,
          false,
          false,
          true,
          true,
          true,
          false,
          true,
          true,
          false,
          true,
          true,
          false,
          false,
          false,
          false,
          true,
          true,
          false,
          true,
          false,
          true,
          false,
          true,
          true,
          false,
          false,
          false,
          false,
          false,
          false,
          false,
          true,
          true,
          true,
          false,
          true,
          true,
          true,
          true,
          true,
          true,
          false,
          true,
          true,
          false,
          true,
          true,
          false,
          false,
          true,
          false,
          true,
          false,
          true,
          true,
          false,
          false,
          false,
          false,
          false,
          false,
          false,
          true,
          false,
          false,
          true,
          true,
          true,
          true,
          false,
          true,
          true,
          false,
          true,
          false,
          true,
          false,
          false,
          false,
          false,
          false,
          false,
          false,
          true,
          false,
          true,
          true,
          false,
          false,
          true,
          true,
          false,
          true,
          false,
          true,
          false,
          false,
          false,
          false,
          false,
          false,
          false,
          true,
          false,
          true,
          true,
          true,
          true,
          true,
          true,
          true,
          false,
          true,
          false,
          false,
          false,
          true,
          true,
          true,
          true,
          true,
          false,
          false,
          false,
          false,
          false,
          false,
          true,
          false,
          false,
          false,
          false,
          false,
          true,
          true,
          false,
          true,
          true,
          false,
          false,
          false,
          true,
          true,
          true,
          false,
          false,
          true,
          false,
          true,
          false,
          true,
          false,
          true,
          false,
          true,
          false,
          true,
          true,
          true,
          true,
          true,
          true,
          false,
          true,
          true,
          true,
          false,
          true,
          false,
          true,
          true,
          false,
          false,
          false,
          false,
          true,
          false,
          false,
          false,
          true,
          false,
          false,
          false,
          false,
          false,
          true,
          true,
          false,
          false,
          false,
          true,
          false,
          false,
          true,
          false,
          false,
          false,
          false,
          false,
          false,
          false,
          false,
          false,
          false,
          false,
          false,
          false,
          true,
          true,
          false,
          true,
          false,
          true,
          true,
          true,
          false,
          false,
          true,
          true,
          false,
          true,
          true,
          false,
          false,
          true,
          false,
          false,
          true,
          false,
          true,
          false,
          false,
          false,
          true,
          false,
          false,
          true,
          false,
          true,
          true,
          false,
          false,
          false,
          true,
          true,
          true,
          false,
          true,
          true,
          true,
          false,
          false,
          false,
          false,
          true,
          true,
          true,
          true,
          true,
          false,
          true,
          false,
          false,
          true,
          false,
          false,
          false,
          false,
          false,
          false,
          true,
          false,
          false,
          false,
          false,
          true,
          false,
          false,
          false,
          true,
          false,
          false,
          true,
          true,
          true,
          false,
          true,
          true,
          true,
          true,
          true,
          true,
          true,
          true,
          false,
          true,
          false,
          true,
          true,
          false,
          false,
          false,
          false,
          true,
          false,
          true,
          false,
          true,
          false,
          false,
          true,
          false,
          true,
          true,
          false,
          true,
          false,
          false,
          true,
          true,
          true,
          false,
          true,
          true,
          false,
          false,
          true,
          true,
          true,
          false,
          true,
          true,
          false,
          false,
          true,
          false,
          false,
          false,
          true,
          true,
          true,
          true,
          false,
          true,
          false,
          false,
          true,
          false,
          false,
          false,
          true,
          true,
          true,
          false,
          true,
          true,
          false,
          false,
          false,
          false,
          false,
          false,
          true,
          true,
          true,
          false,
          false,
          true,
          true,
          true,
          false,
          true,
          false,
          false,
          false,
          true,
          true,
          false,
          true,
          false,
          true,
          true,
          false,
          true,
          false,
          true,
          false,
          true,
          true,
          true,
          true,
          false,
          true,
          false,
          false,
          true,
          true,
          false,
          false,
          true,
          true,
          true,
          true,
          false,
          false,
          false,
          false,
          true,
          true,
          true,
          false,
          false,
          false,
          true,
          true,
          false,
          false,
          false,
          false,
          true,
          true,
          true,
          true,
          false,
          true,
          true,
          true,
          true,
          false,
          false,
          true,
          false,
          false,
          true,
          false,
          false,
          false,
          false,
          false,
          false,
          false,
          true,
          true,
          false,
          true,
          true,
          true,
          false,
          false,
          true,
          false,
          false,
          true,
          false,
          false,
          false,
          false,
          true,
          true,
          true,
          false,
          false,
          true,
          false,
          true,
          true,
          false,
          true,
          false,
          true,
          true,
          false,
          true,
          false,
          false,
          false,
          true,
          false,
          true,
          true,
          false,
          true,
          false,
          false,
          false,
          true,
          false,
          false,
          false,
          true,
          false,
          false,
          false,
          true,
          false,
          false,
          true,
          false,
          true,
          false,
          false,
          false,
          true,
          true,
          true,
          true,
          true,
          false,
          false,
          true
         ],
         "x0": " ",
         "xaxis": "x",
         "y": {
          "bdata": "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",
          "dtype": "i4"
         },
         "y0": " ",
         "yaxis": "y"
        }
       ],
       "layout": {
        "boxmode": "group",
        "legend": {
         "tracegroupgap": 0
        },
        "template": {
         "data": {
          "bar": [
           {
            "error_x": {
             "color": "#2a3f5f"
            },
            "error_y": {
             "color": "#2a3f5f"
            },
            "marker": {
             "line": {
              "color": "#E5ECF6",
              "width": 0.5
             },
             "pattern": {
              "fillmode": "overlay",
              "size": 10,
              "solidity": 0.2
             }
            },
            "type": "bar"
           }
          ],
          "barpolar": [
           {
            "marker": {
             "line": {
              "color": "#E5ECF6",
              "width": 0.5
             },
             "pattern": {
              "fillmode": "overlay",
              "size": 10,
              "solidity": 0.2
             }
            },
            "type": "barpolar"
           }
          ],
          "carpet": [
           {
            "aaxis": {
             "endlinecolor": "#2a3f5f",
             "gridcolor": "white",
             "linecolor": "white",
             "minorgridcolor": "white",
             "startlinecolor": "#2a3f5f"
            },
            "baxis": {
             "endlinecolor": "#2a3f5f",
             "gridcolor": "white",
             "linecolor": "white",
             "minorgridcolor": "white",
             "startlinecolor": "#2a3f5f"
            },
            "type": "carpet"
           }
          ],
          "choropleth": [
           {
            "colorbar": {
             "outlinewidth": 0,
             "ticks": ""
            },
            "type": "choropleth"
           }
          ],
          "contour": [
           {
            "colorbar": {
             "outlinewidth": 0,
             "ticks": ""
            },
            "colorscale": [
             [
              0,
              "#0d0887"
             ],
             [
              0.1111111111111111,
              "#46039f"
             ],
             [
              0.2222222222222222,
              "#7201a8"
             ],
             [
              0.3333333333333333,
              "#9c179e"
             ],
             [
              0.4444444444444444,
              "#bd3786"
             ],
             [
              0.5555555555555556,
              "#d8576b"
             ],
             [
              0.6666666666666666,
              "#ed7953"
             ],
             [
              0.7777777777777778,
              "#fb9f3a"
             ],
             [
              0.8888888888888888,
              "#fdca26"
             ],
             [
              1,
              "#f0f921"
             ]
            ],
            "type": "contour"
           }
          ],
          "contourcarpet": [
           {
            "colorbar": {
             "outlinewidth": 0,
             "ticks": ""
            },
            "type": "contourcarpet"
           }
          ],
          "heatmap": [
           {
            "colorbar": {
             "outlinewidth": 0,
             "ticks": ""
            },
            "colorscale": [
             [
              0,
              "#0d0887"
             ],
             [
              0.1111111111111111,
              "#46039f"
             ],
             [
              0.2222222222222222,
              "#7201a8"
             ],
             [
              0.3333333333333333,
              "#9c179e"
             ],
             [
              0.4444444444444444,
              "#bd3786"
             ],
             [
              0.5555555555555556,
              "#d8576b"
             ],
             [
              0.6666666666666666,
              "#ed7953"
             ],
             [
              0.7777777777777778,
              "#fb9f3a"
             ],
             [
              0.8888888888888888,
              "#fdca26"
             ],
             [
              1,
              "#f0f921"
             ]
            ],
            "type": "heatmap"
           }
          ],
          "histogram": [
           {
            "marker": {
             "pattern": {
              "fillmode": "overlay",
              "size": 10,
              "solidity": 0.2
             }
            },
            "type": "histogram"
           }
          ],
          "histogram2d": [
           {
            "colorbar": {
             "outlinewidth": 0,
             "ticks": ""
            },
            "colorscale": [
             [
              0,
              "#0d0887"
             ],
             [
              0.1111111111111111,
              "#46039f"
             ],
             [
              0.2222222222222222,
              "#7201a8"
             ],
             [
              0.3333333333333333,
              "#9c179e"
             ],
             [
              0.4444444444444444,
              "#bd3786"
             ],
             [
              0.5555555555555556,
              "#d8576b"
             ],
             [
              0.6666666666666666,
              "#ed7953"
             ],
             [
              0.7777777777777778,
              "#fb9f3a"
             ],
             [
              0.8888888888888888,
              "#fdca26"
             ],
             [
              1,
              "#f0f921"
             ]
            ],
            "type": "histogram2d"
           }
          ],
          "histogram2dcontour": [
           {
            "colorbar": {
             "outlinewidth": 0,
             "ticks": ""
            },
            "colorscale": [
             [
              0,
              "#0d0887"
             ],
             [
              0.1111111111111111,
              "#46039f"
             ],
             [
              0.2222222222222222,
              "#7201a8"
             ],
             [
              0.3333333333333333,
              "#9c179e"
             ],
             [
              0.4444444444444444,
              "#bd3786"
             ],
             [
              0.5555555555555556,
              "#d8576b"
             ],
             [
              0.6666666666666666,
              "#ed7953"
             ],
             [
              0.7777777777777778,
              "#fb9f3a"
             ],
             [
              0.8888888888888888,
              "#fdca26"
             ],
             [
              1,
              "#f0f921"
             ]
            ],
            "type": "histogram2dcontour"
           }
          ],
          "mesh3d": [
           {
            "colorbar": {
             "outlinewidth": 0,
             "ticks": ""
            },
            "type": "mesh3d"
           }
          ],
          "parcoords": [
           {
            "line": {
             "colorbar": {
              "outlinewidth": 0,
              "ticks": ""
             }
            },
            "type": "parcoords"
           }
          ],
          "pie": [
           {
            "automargin": true,
            "type": "pie"
           }
          ],
          "scatter": [
           {
            "fillpattern": {
             "fillmode": "overlay",
             "size": 10,
             "solidity": 0.2
            },
            "type": "scatter"
           }
          ],
          "scatter3d": [
           {
            "line": {
             "colorbar": {
              "outlinewidth": 0,
              "ticks": ""
             }
            },
            "marker": {
             "colorbar": {
              "outlinewidth": 0,
              "ticks": ""
             }
            },
            "type": "scatter3d"
           }
          ],
          "scattercarpet": [
           {
            "marker": {
             "colorbar": {
              "outlinewidth": 0,
              "ticks": ""
             }
            },
            "type": "scattercarpet"
           }
          ],
          "scattergeo": [
           {
            "marker": {
             "colorbar": {
              "outlinewidth": 0,
              "ticks": ""
             }
            },
            "type": "scattergeo"
           }
          ],
          "scattergl": [
           {
            "marker": {
             "colorbar": {
              "outlinewidth": 0,
              "ticks": ""
             }
            },
            "type": "scattergl"
           }
          ],
          "scattermap": [
           {
            "marker": {
             "colorbar": {
              "outlinewidth": 0,
              "ticks": ""
             }
            },
            "type": "scattermap"
           }
          ],
          "scattermapbox": [
           {
            "marker": {
             "colorbar": {
              "outlinewidth": 0,
              "ticks": ""
             }
            },
            "type": "scattermapbox"
           }
          ],
          "scatterpolar": [
           {
            "marker": {
             "colorbar": {
              "outlinewidth": 0,
              "ticks": ""
             }
            },
            "type": "scatterpolar"
           }
          ],
          "scatterpolargl": [
           {
            "marker": {
             "colorbar": {
              "outlinewidth": 0,
              "ticks": ""
             }
            },
            "type": "scatterpolargl"
           }
          ],
          "scatterternary": [
           {
            "marker": {
             "colorbar": {
              "outlinewidth": 0,
              "ticks": ""
             }
            },
            "type": "scatterternary"
           }
          ],
          "surface": [
           {
            "colorbar": {
             "outlinewidth": 0,
             "ticks": ""
            },
            "colorscale": [
             [
              0,
              "#0d0887"
             ],
             [
              0.1111111111111111,
              "#46039f"
             ],
             [
              0.2222222222222222,
              "#7201a8"
             ],
             [
              0.3333333333333333,
              "#9c179e"
             ],
             [
              0.4444444444444444,
              "#bd3786"
             ],
             [
              0.5555555555555556,
              "#d8576b"
             ],
             [
              0.6666666666666666,
              "#ed7953"
             ],
             [
              0.7777777777777778,
              "#fb9f3a"
             ],
             [
              0.8888888888888888,
              "#fdca26"
             ],
             [
              1,
              "#f0f921"
             ]
            ],
            "type": "surface"
           }
          ],
          "table": [
           {
            "cells": {
             "fill": {
              "color": "#EBF0F8"
             },
             "line": {
              "color": "white"
             }
            },
            "header": {
             "fill": {
              "color": "#C8D4E3"
             },
             "line": {
              "color": "white"
             }
            },
            "type": "table"
           }
          ]
         },
         "layout": {
          "annotationdefaults": {
           "arrowcolor": "#2a3f5f",
           "arrowhead": 0,
           "arrowwidth": 1
          },
          "autotypenumbers": "strict",
          "coloraxis": {
           "colorbar": {
            "outlinewidth": 0,
            "ticks": ""
           }
          },
          "colorscale": {
           "diverging": [
            [
             0,
             "#8e0152"
            ],
            [
             0.1,
             "#c51b7d"
            ],
            [
             0.2,
             "#de77ae"
            ],
            [
             0.3,
             "#f1b6da"
            ],
            [
             0.4,
             "#fde0ef"
            ],
            [
             0.5,
             "#f7f7f7"
            ],
            [
             0.6,
             "#e6f5d0"
            ],
            [
             0.7,
             "#b8e186"
            ],
            [
             0.8,
             "#7fbc41"
            ],
            [
             0.9,
             "#4d9221"
            ],
            [
             1,
             "#276419"
            ]
           ],
           "sequential": [
            [
             0,
             "#0d0887"
            ],
            [
             0.1111111111111111,
             "#46039f"
            ],
            [
             0.2222222222222222,
             "#7201a8"
            ],
            [
             0.3333333333333333,
             "#9c179e"
            ],
            [
             0.4444444444444444,
             "#bd3786"
            ],
            [
             0.5555555555555556,
             "#d8576b"
            ],
            [
             0.6666666666666666,
             "#ed7953"
            ],
            [
             0.7777777777777778,
             "#fb9f3a"
            ],
            [
             0.8888888888888888,
             "#fdca26"
            ],
            [
             1,
             "#f0f921"
            ]
           ],
           "sequentialminus": [
            [
             0,
             "#0d0887"
            ],
            [
             0.1111111111111111,
             "#46039f"
            ],
            [
             0.2222222222222222,
             "#7201a8"
            ],
            [
             0.3333333333333333,
             "#9c179e"
            ],
            [
             0.4444444444444444,
             "#bd3786"
            ],
            [
             0.5555555555555556,
             "#d8576b"
            ],
            [
             0.6666666666666666,
             "#ed7953"
            ],
            [
             0.7777777777777778,
             "#fb9f3a"
            ],
            [
             0.8888888888888888,
             "#fdca26"
            ],
            [
             1,
             "#f0f921"
            ]
           ]
          },
          "colorway": [
           "#636efa",
           "#EF553B",
           "#00cc96",
           "#ab63fa",
           "#FFA15A",
           "#19d3f3",
           "#FF6692",
           "#B6E880",
           "#FF97FF",
           "#FECB52"
          ],
          "font": {
           "color": "#2a3f5f"
          },
          "geo": {
           "bgcolor": "white",
           "lakecolor": "white",
           "landcolor": "#E5ECF6",
           "showlakes": true,
           "showland": true,
           "subunitcolor": "white"
          },
          "hoverlabel": {
           "align": "left"
          },
          "hovermode": "closest",
          "mapbox": {
           "style": "light"
          },
          "paper_bgcolor": "white",
          "plot_bgcolor": "#E5ECF6",
          "polar": {
           "angularaxis": {
            "gridcolor": "white",
            "linecolor": "white",
            "ticks": ""
           },
           "bgcolor": "#E5ECF6",
           "radialaxis": {
            "gridcolor": "white",
            "linecolor": "white",
            "ticks": ""
           }
          },
          "scene": {
           "xaxis": {
            "backgroundcolor": "#E5ECF6",
            "gridcolor": "white",
            "gridwidth": 2,
            "linecolor": "white",
            "showbackground": true,
            "ticks": "",
            "zerolinecolor": "white"
           },
           "yaxis": {
            "backgroundcolor": "#E5ECF6",
            "gridcolor": "white",
            "gridwidth": 2,
            "linecolor": "white",
            "showbackground": true,
            "ticks": "",
            "zerolinecolor": "white"
           },
           "zaxis": {
            "backgroundcolor": "#E5ECF6",
            "gridcolor": "white",
            "gridwidth": 2,
            "linecolor": "white",
            "showbackground": true,
            "ticks": "",
            "zerolinecolor": "white"
           }
          },
          "shapedefaults": {
           "line": {
            "color": "#2a3f5f"
           }
          },
          "ternary": {
           "aaxis": {
            "gridcolor": "white",
            "linecolor": "white",
            "ticks": ""
           },
           "baxis": {
            "gridcolor": "white",
            "linecolor": "white",
            "ticks": ""
           },
           "bgcolor": "#E5ECF6",
           "caxis": {
            "gridcolor": "white",
            "linecolor": "white",
            "ticks": ""
           }
          },
          "title": {
           "x": 0.05
          },
          "xaxis": {
           "automargin": true,
           "gridcolor": "white",
           "linecolor": "white",
           "ticks": "",
           "title": {
            "standoff": 15
           },
           "zerolinecolor": "white",
           "zerolinewidth": 2
          },
          "yaxis": {
           "automargin": true,
           "gridcolor": "white",
           "linecolor": "white",
           "ticks": "",
           "title": {
            "standoff": 15
           },
           "zerolinecolor": "white",
           "zerolinewidth": 2
          }
         }
        },
        "title": {
         "text": "Box Plot of Units Sold by uses_ad_boosts"
        },
        "xaxis": {
         "anchor": "y",
         "domain": [
          0,
          1
         ],
         "title": {
          "text": "uses_ad_boosts"
         }
        },
        "yaxis": {
         "anchor": "x",
         "domain": [
          0,
          1
         ],
         "title": {
          "text": "units_sold"
         }
        }
       }
      }
     },
     "metadata": {},
     "output_type": "display_data"
    },
    {
     "data": {
      "application/vnd.plotly.v1+json": {
       "config": {
        "plotlyServerURL": "https://plot.ly"
       },
       "data": [
        {
         "alignmentgroup": "True",
         "hovertemplate": "has_urgency_banner=%{x}<br>units_sold=%{y}<extra></extra>",
         "legendgroup": "",
         "marker": {
          "color": "#636efa"
         },
         "name": "",
         "notched": false,
         "offsetgroup": "",
         "orientation": "v",
         "showlegend": false,
         "type": "box",
         "x": [
          true,
          true,
          true,
          false,
          true,
          false,
          false,
          false,
          true,
          false,
          true,
          true,
          false,
          false,
          false,
          false,
          false,
          true,
          false,
          true,
          false,
          false,
          false,
          true,
          false,
          false,
          true,
          false,
          false,
          false,
          false,
          false,
          false,
          false,
          false,
          false,
          false,
          true,
          false,
          false,
          false,
          true,
          false,
          false,
          false,
          true,
          true,
          true,
          false,
          false,
          true,
          false,
          false,
          true,
          false,
          false,
          true,
          false,
          false,
          true,
          false,
          false,
          false,
          false,
          false,
          false,
          false,
          false,
          true,
          false,
          false,
          false,
          true,
          false,
          false,
          false,
          false,
          true,
          false,
          false,
          false,
          false,
          false,
          false,
          false,
          false,
          false,
          true,
          false,
          false,
          false,
          true,
          false,
          false,
          true,
          false,
          false,
          false,
          false,
          true,
          false,
          false,
          false,
          false,
          false,
          false,
          true,
          true,
          false,
          false,
          false,
          false,
          false,
          false,
          false,
          false,
          false,
          false,
          false,
          false,
          true,
          false,
          false,
          false,
          false,
          false,
          false,
          true,
          false,
          true,
          false,
          false,
          true,
          false,
          false,
          true,
          false,
          false,
          false,
          false,
          false,
          false,
          true,
          true,
          true,
          true,
          false,
          false,
          true,
          false,
          true,
          true,
          false,
          false,
          true,
          false,
          true,
          true,
          true,
          false,
          true,
          true,
          true,
          false,
          false,
          true,
          false,
          false,
          false,
          false,
          true,
          false,
          false,
          true,
          false,
          false,
          false,
          false,
          false,
          false,
          false,
          false,
          true,
          false,
          false,
          true,
          false,
          false,
          true,
          true,
          false,
          false,
          false,
          false,
          false,
          false,
          true,
          false,
          true,
          false,
          false,
          false,
          false,
          false,
          false,
          false,
          false,
          false,
          false,
          true,
          false,
          true,
          true,
          false,
          false,
          false,
          true,
          true,
          true,
          true,
          false,
          false,
          false,
          false,
          true,
          false,
          false,
          false,
          false,
          true,
          false,
          false,
          false,
          false,
          false,
          false,
          true,
          false,
          false,
          false,
          false,
          true,
          true,
          false,
          true,
          false,
          true,
          false,
          false,
          false,
          false,
          true,
          true,
          false,
          true,
          false,
          true,
          true,
          true,
          false,
          false,
          false,
          false,
          false,
          false,
          false,
          false,
          false,
          true,
          true,
          true,
          true,
          false,
          true,
          false,
          true,
          false,
          false,
          false,
          true,
          true,
          false,
          false,
          false,
          false,
          true,
          true,
          true,
          false,
          false,
          true,
          false,
          false,
          false,
          false,
          false,
          false,
          false,
          true,
          false,
          true,
          false,
          true,
          false,
          true,
          true,
          true,
          false,
          false,
          false,
          false,
          false,
          false,
          true,
          false,
          false,
          false,
          false,
          false,
          false,
          false,
          false,
          false,
          false,
          false,
          false,
          true,
          false,
          false,
          false,
          true,
          false,
          true,
          false,
          false,
          false,
          false,
          false,
          false,
          false,
          true,
          true,
          false,
          false,
          false,
          false,
          false,
          true,
          false,
          false,
          false,
          true,
          false,
          false,
          false,
          false,
          false,
          false,
          true,
          false,
          false,
          false,
          true,
          false,
          true,
          false,
          true,
          false,
          false,
          false,
          false,
          false,
          false,
          false,
          true,
          false,
          false,
          false,
          false,
          false,
          true,
          false,
          false,
          true,
          false,
          false,
          false,
          false,
          true,
          true,
          false,
          false,
          false,
          false,
          true,
          false,
          false,
          false,
          false,
          true,
          false,
          true,
          true,
          false,
          false,
          false,
          true,
          false,
          true,
          true,
          false,
          true,
          true,
          true,
          false,
          false,
          false,
          false,
          false,
          false,
          false,
          true,
          false,
          false,
          false,
          false,
          false,
          false,
          false,
          false,
          true,
          false,
          false,
          false,
          false,
          false,
          false,
          true,
          false,
          true,
          true,
          true,
          true,
          true,
          false,
          false,
          false,
          false,
          false,
          true,
          true,
          false,
          false,
          false,
          false,
          true,
          false,
          false,
          true,
          false,
          false,
          false,
          true,
          false,
          false,
          false,
          false,
          false,
          false,
          false,
          false,
          false,
          false,
          false,
          false,
          false,
          false,
          false,
          false,
          true,
          false,
          false,
          true,
          false,
          false,
          false,
          false,
          false,
          true,
          false,
          false,
          true,
          false,
          false,
          false,
          true,
          true,
          false,
          false,
          false,
          true,
          true,
          true,
          false,
          true,
          false,
          false,
          false,
          false,
          true,
          false,
          false,
          false,
          true,
          false,
          false,
          true,
          false,
          true,
          false,
          false,
          false,
          true,
          true,
          false,
          true,
          true,
          false,
          false,
          false,
          true,
          false,
          false,
          false,
          true,
          false,
          true,
          false,
          true,
          true,
          true,
          true,
          true,
          false,
          true,
          false,
          true,
          true,
          false,
          false,
          true,
          false,
          true,
          false,
          false,
          false,
          false,
          false,
          false,
          true,
          true,
          true,
          false,
          false,
          true,
          true,
          false,
          true,
          false,
          false,
          false,
          false,
          false,
          false,
          true,
          false,
          true,
          false,
          false,
          false,
          false,
          true,
          false,
          true,
          true,
          false,
          false,
          false,
          true,
          true,
          true,
          false,
          true,
          false,
          false,
          false,
          false,
          false,
          false,
          false,
          false,
          false,
          false,
          false,
          false,
          false,
          false,
          false,
          true,
          true,
          false,
          true,
          true,
          false,
          true,
          true,
          false,
          true,
          false,
          false,
          false,
          false,
          false,
          true,
          true,
          false,
          false,
          false,
          false,
          false,
          true,
          true,
          false,
          false,
          true,
          false,
          true,
          true,
          false,
          false,
          false,
          false,
          false,
          false,
          false,
          false,
          true,
          true,
          false,
          true,
          true,
          false,
          true,
          true,
          false,
          true,
          true,
          false,
          false,
          false,
          false,
          false,
          false,
          true,
          false,
          true,
          true,
          true,
          true,
          false,
          false,
          false,
          false,
          false,
          false,
          true,
          true,
          false,
          false,
          false,
          false,
          false,
          false,
          true,
          true,
          true,
          false,
          false,
          false,
          false,
          true,
          false,
          false,
          false,
          true,
          false,
          true,
          true,
          true,
          false,
          true,
          false,
          false,
          false,
          true,
          false,
          true,
          true,
          true,
          true,
          true,
          true,
          false,
          false,
          false,
          false,
          false,
          false,
          false,
          true,
          false,
          false,
          false,
          false,
          false,
          false,
          false,
          true,
          false,
          false,
          false,
          false,
          true,
          false,
          false,
          true,
          false,
          false,
          false,
          false,
          false,
          false,
          true,
          true,
          true,
          false,
          false,
          false,
          true,
          false,
          false,
          true,
          true,
          false,
          false,
          true,
          false,
          false,
          true,
          true,
          true,
          false,
          false,
          false,
          false,
          false,
          true,
          false,
          true,
          false,
          false,
          true,
          true,
          false,
          false,
          false,
          false,
          false,
          false,
          false,
          true,
          false,
          true,
          true,
          false,
          false,
          false,
          false,
          false,
          false,
          false,
          true,
          false,
          false,
          false,
          true,
          false,
          false,
          false,
          false,
          true,
          true,
          false,
          false,
          false,
          false,
          true,
          false,
          false,
          false,
          false,
          true,
          false,
          false,
          false,
          false,
          false,
          false,
          false,
          true,
          true,
          true,
          false,
          false,
          true,
          false,
          true,
          true,
          false,
          false,
          false,
          true,
          false,
          false,
          false,
          false,
          true,
          true,
          false,
          true,
          false,
          false,
          true,
          false,
          false,
          false,
          false,
          false,
          false,
          false,
          false,
          true,
          true,
          true,
          true,
          true,
          false,
          false,
          true,
          true,
          true,
          false,
          false,
          false,
          false,
          true,
          false,
          false,
          false,
          false,
          true,
          false,
          true,
          true,
          false,
          false,
          true,
          false,
          true,
          false,
          false,
          false,
          false,
          false,
          false,
          false,
          true,
          false,
          true,
          false,
          false,
          false,
          false,
          false,
          false,
          false,
          false,
          true,
          false,
          true,
          false,
          false,
          false,
          true,
          false,
          false,
          false,
          true,
          false,
          false,
          true,
          false,
          false,
          false,
          false,
          false,
          false,
          false,
          false,
          false,
          true,
          false,
          false,
          false,
          false,
          true,
          false,
          false,
          true,
          true,
          false,
          true,
          false,
          false,
          false,
          true,
          false,
          true,
          false,
          true,
          false,
          false,
          false,
          true,
          false,
          true,
          false,
          false,
          false,
          false,
          true,
          true,
          true,
          false,
          false,
          true,
          false,
          false,
          false,
          false,
          false,
          false,
          false,
          false,
          false,
          false,
          false,
          false,
          false,
          false,
          true,
          true,
          false,
          false,
          false,
          false,
          true,
          false,
          false,
          false,
          false,
          false,
          true,
          true,
          false,
          false,
          false,
          false,
          false,
          true,
          false,
          true,
          false,
          false,
          true,
          false,
          true,
          true,
          false,
          false,
          false,
          false,
          false,
          false,
          true,
          false,
          true,
          false,
          false,
          true,
          false,
          true,
          false,
          false,
          true,
          false,
          false,
          true,
          false,
          false,
          false,
          false,
          true,
          false,
          false,
          false,
          false,
          false,
          false,
          false,
          true,
          true,
          true,
          false,
          false,
          true,
          false,
          true,
          true,
          false,
          true,
          false,
          false,
          false,
          false,
          false,
          false,
          true,
          false,
          false,
          false,
          true,
          true,
          false,
          true,
          false,
          false,
          false,
          false,
          false,
          false,
          false,
          false,
          false,
          false,
          true,
          false,
          false,
          true,
          false,
          true,
          false,
          false,
          true,
          false,
          true,
          false,
          true,
          true,
          true,
          true,
          false,
          false,
          true,
          false,
          false,
          false,
          false,
          false,
          false,
          true,
          true,
          false,
          false,
          false,
          false,
          false,
          false,
          false,
          true,
          false,
          true,
          false,
          true,
          false,
          false,
          false,
          true,
          false,
          true,
          false,
          false,
          false,
          false,
          false,
          true,
          false,
          false,
          false,
          false,
          false,
          true,
          false,
          true,
          true,
          false,
          false,
          false,
          false,
          false,
          false,
          false,
          true,
          false,
          true,
          false,
          false,
          false,
          false,
          false,
          false,
          false,
          false,
          true,
          false,
          true,
          false,
          false,
          true,
          true,
          false,
          false,
          false,
          false,
          false,
          false,
          true,
          false,
          false,
          false,
          false,
          false,
          false,
          true,
          true,
          true,
          false,
          true,
          true,
          false,
          false,
          true,
          true,
          true,
          false,
          false,
          false,
          false,
          false,
          false,
          false,
          false,
          false,
          true,
          false,
          true,
          true,
          true,
          false,
          false,
          true,
          false,
          true,
          true,
          false,
          false,
          false,
          true,
          false,
          false,
          false,
          true,
          false,
          false,
          false,
          false,
          true,
          false,
          true,
          false,
          true,
          false,
          true,
          false,
          true,
          false,
          false,
          false,
          false,
          true,
          false,
          false,
          false,
          false,
          false,
          false,
          true,
          true,
          true,
          false,
          false,
          false,
          false,
          false,
          false,
          true,
          true,
          false,
          false,
          false,
          false,
          false,
          false,
          false,
          false,
          false,
          false,
          false,
          false,
          false,
          true,
          true,
          true,
          false,
          false,
          false,
          true,
          false,
          false,
          false,
          true,
          false,
          false,
          false,
          false,
          false,
          false,
          true,
          false,
          false,
          false,
          false,
          false,
          true,
          false,
          true,
          false,
          true,
          false,
          false,
          true,
          true,
          false,
          false,
          false,
          false,
          true,
          true,
          true,
          false,
          false,
          false,
          false,
          false,
          false,
          false,
          false,
          true,
          true,
          false,
          false,
          true,
          false,
          true,
          false,
          false,
          false,
          false,
          false,
          false,
          false,
          false,
          true,
          false,
          false,
          false,
          false,
          true,
          true,
          false,
          false,
          false,
          true,
          false,
          true,
          false,
          false,
          true,
          false,
          true,
          false,
          false,
          true,
          false,
          false,
          false,
          true,
          false,
          false,
          false,
          false,
          false,
          false,
          true,
          false,
          false,
          false,
          true,
          true,
          true,
          false,
          false,
          true,
          false,
          true,
          false,
          false,
          false,
          false,
          false,
          false,
          false,
          true,
          false,
          false,
          false,
          true,
          false,
          false,
          false,
          false,
          true,
          true,
          true,
          false,
          false,
          true,
          false,
          false,
          false,
          false,
          true,
          false,
          false,
          false,
          false,
          false,
          false,
          false,
          false,
          false,
          false,
          false,
          false,
          false,
          true,
          false,
          false,
          true,
          false,
          false,
          false,
          false,
          false,
          true,
          false,
          true,
          false,
          false,
          true,
          false,
          false,
          false,
          true,
          false,
          false,
          false,
          false,
          false,
          true,
          false,
          false,
          false,
          false,
          true,
          false,
          true,
          false,
          false,
          false,
          true,
          true,
          true,
          false,
          true,
          false,
          true,
          false,
          false,
          false,
          false,
          true,
          false,
          false,
          false,
          true,
          false,
          false,
          false,
          false,
          false,
          false,
          false,
          false,
          false,
          true,
          false,
          false,
          true,
          false,
          false,
          true,
          true,
          false,
          false,
          false,
          true,
          false,
          false,
          false
         ],
         "x0": " ",
         "xaxis": "x",
         "y": {
          "bdata": "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",
          "dtype": "i4"
         },
         "y0": " ",
         "yaxis": "y"
        }
       ],
       "layout": {
        "boxmode": "group",
        "legend": {
         "tracegroupgap": 0
        },
        "template": {
         "data": {
          "bar": [
           {
            "error_x": {
             "color": "#2a3f5f"
            },
            "error_y": {
             "color": "#2a3f5f"
            },
            "marker": {
             "line": {
              "color": "#E5ECF6",
              "width": 0.5
             },
             "pattern": {
              "fillmode": "overlay",
              "size": 10,
              "solidity": 0.2
             }
            },
            "type": "bar"
           }
          ],
          "barpolar": [
           {
            "marker": {
             "line": {
              "color": "#E5ECF6",
              "width": 0.5
             },
             "pattern": {
              "fillmode": "overlay",
              "size": 10,
              "solidity": 0.2
             }
            },
            "type": "barpolar"
           }
          ],
          "carpet": [
           {
            "aaxis": {
             "endlinecolor": "#2a3f5f",
             "gridcolor": "white",
             "linecolor": "white",
             "minorgridcolor": "white",
             "startlinecolor": "#2a3f5f"
            },
            "baxis": {
             "endlinecolor": "#2a3f5f",
             "gridcolor": "white",
             "linecolor": "white",
             "minorgridcolor": "white",
             "startlinecolor": "#2a3f5f"
            },
            "type": "carpet"
           }
          ],
          "choropleth": [
           {
            "colorbar": {
             "outlinewidth": 0,
             "ticks": ""
            },
            "type": "choropleth"
           }
          ],
          "contour": [
           {
            "colorbar": {
             "outlinewidth": 0,
             "ticks": ""
            },
            "colorscale": [
             [
              0,
              "#0d0887"
             ],
             [
              0.1111111111111111,
              "#46039f"
             ],
             [
              0.2222222222222222,
              "#7201a8"
             ],
             [
              0.3333333333333333,
              "#9c179e"
             ],
             [
              0.4444444444444444,
              "#bd3786"
             ],
             [
              0.5555555555555556,
              "#d8576b"
             ],
             [
              0.6666666666666666,
              "#ed7953"
             ],
             [
              0.7777777777777778,
              "#fb9f3a"
             ],
             [
              0.8888888888888888,
              "#fdca26"
             ],
             [
              1,
              "#f0f921"
             ]
            ],
            "type": "contour"
           }
          ],
          "contourcarpet": [
           {
            "colorbar": {
             "outlinewidth": 0,
             "ticks": ""
            },
            "type": "contourcarpet"
           }
          ],
          "heatmap": [
           {
            "colorbar": {
             "outlinewidth": 0,
             "ticks": ""
            },
            "colorscale": [
             [
              0,
              "#0d0887"
             ],
             [
              0.1111111111111111,
              "#46039f"
             ],
             [
              0.2222222222222222,
              "#7201a8"
             ],
             [
              0.3333333333333333,
              "#9c179e"
             ],
             [
              0.4444444444444444,
              "#bd3786"
             ],
             [
              0.5555555555555556,
              "#d8576b"
             ],
             [
              0.6666666666666666,
              "#ed7953"
             ],
             [
              0.7777777777777778,
              "#fb9f3a"
             ],
             [
              0.8888888888888888,
              "#fdca26"
             ],
             [
              1,
              "#f0f921"
             ]
            ],
            "type": "heatmap"
           }
          ],
          "histogram": [
           {
            "marker": {
             "pattern": {
              "fillmode": "overlay",
              "size": 10,
              "solidity": 0.2
             }
            },
            "type": "histogram"
           }
          ],
          "histogram2d": [
           {
            "colorbar": {
             "outlinewidth": 0,
             "ticks": ""
            },
            "colorscale": [
             [
              0,
              "#0d0887"
             ],
             [
              0.1111111111111111,
              "#46039f"
             ],
             [
              0.2222222222222222,
              "#7201a8"
             ],
             [
              0.3333333333333333,
              "#9c179e"
             ],
             [
              0.4444444444444444,
              "#bd3786"
             ],
             [
              0.5555555555555556,
              "#d8576b"
             ],
             [
              0.6666666666666666,
              "#ed7953"
             ],
             [
              0.7777777777777778,
              "#fb9f3a"
             ],
             [
              0.8888888888888888,
              "#fdca26"
             ],
             [
              1,
              "#f0f921"
             ]
            ],
            "type": "histogram2d"
           }
          ],
          "histogram2dcontour": [
           {
            "colorbar": {
             "outlinewidth": 0,
             "ticks": ""
            },
            "colorscale": [
             [
              0,
              "#0d0887"
             ],
             [
              0.1111111111111111,
              "#46039f"
             ],
             [
              0.2222222222222222,
              "#7201a8"
             ],
             [
              0.3333333333333333,
              "#9c179e"
             ],
             [
              0.4444444444444444,
              "#bd3786"
             ],
             [
              0.5555555555555556,
              "#d8576b"
             ],
             [
              0.6666666666666666,
              "#ed7953"
             ],
             [
              0.7777777777777778,
              "#fb9f3a"
             ],
             [
              0.8888888888888888,
              "#fdca26"
             ],
             [
              1,
              "#f0f921"
             ]
            ],
            "type": "histogram2dcontour"
           }
          ],
          "mesh3d": [
           {
            "colorbar": {
             "outlinewidth": 0,
             "ticks": ""
            },
            "type": "mesh3d"
           }
          ],
          "parcoords": [
           {
            "line": {
             "colorbar": {
              "outlinewidth": 0,
              "ticks": ""
             }
            },
            "type": "parcoords"
           }
          ],
          "pie": [
           {
            "automargin": true,
            "type": "pie"
           }
          ],
          "scatter": [
           {
            "fillpattern": {
             "fillmode": "overlay",
             "size": 10,
             "solidity": 0.2
            },
            "type": "scatter"
           }
          ],
          "scatter3d": [
           {
            "line": {
             "colorbar": {
              "outlinewidth": 0,
              "ticks": ""
             }
            },
            "marker": {
             "colorbar": {
              "outlinewidth": 0,
              "ticks": ""
             }
            },
            "type": "scatter3d"
           }
          ],
          "scattercarpet": [
           {
            "marker": {
             "colorbar": {
              "outlinewidth": 0,
              "ticks": ""
             }
            },
            "type": "scattercarpet"
           }
          ],
          "scattergeo": [
           {
            "marker": {
             "colorbar": {
              "outlinewidth": 0,
              "ticks": ""
             }
            },
            "type": "scattergeo"
           }
          ],
          "scattergl": [
           {
            "marker": {
             "colorbar": {
              "outlinewidth": 0,
              "ticks": ""
             }
            },
            "type": "scattergl"
           }
          ],
          "scattermap": [
           {
            "marker": {
             "colorbar": {
              "outlinewidth": 0,
              "ticks": ""
             }
            },
            "type": "scattermap"
           }
          ],
          "scattermapbox": [
           {
            "marker": {
             "colorbar": {
              "outlinewidth": 0,
              "ticks": ""
             }
            },
            "type": "scattermapbox"
           }
          ],
          "scatterpolar": [
           {
            "marker": {
             "colorbar": {
              "outlinewidth": 0,
              "ticks": ""
             }
            },
            "type": "scatterpolar"
           }
          ],
          "scatterpolargl": [
           {
            "marker": {
             "colorbar": {
              "outlinewidth": 0,
              "ticks": ""
             }
            },
            "type": "scatterpolargl"
           }
          ],
          "scatterternary": [
           {
            "marker": {
             "colorbar": {
              "outlinewidth": 0,
              "ticks": ""
             }
            },
            "type": "scatterternary"
           }
          ],
          "surface": [
           {
            "colorbar": {
             "outlinewidth": 0,
             "ticks": ""
            },
            "colorscale": [
             [
              0,
              "#0d0887"
             ],
             [
              0.1111111111111111,
              "#46039f"
             ],
             [
              0.2222222222222222,
              "#7201a8"
             ],
             [
              0.3333333333333333,
              "#9c179e"
             ],
             [
              0.4444444444444444,
              "#bd3786"
             ],
             [
              0.5555555555555556,
              "#d8576b"
             ],
             [
              0.6666666666666666,
              "#ed7953"
             ],
             [
              0.7777777777777778,
              "#fb9f3a"
             ],
             [
              0.8888888888888888,
              "#fdca26"
             ],
             [
              1,
              "#f0f921"
             ]
            ],
            "type": "surface"
           }
          ],
          "table": [
           {
            "cells": {
             "fill": {
              "color": "#EBF0F8"
             },
             "line": {
              "color": "white"
             }
            },
            "header": {
             "fill": {
              "color": "#C8D4E3"
             },
             "line": {
              "color": "white"
             }
            },
            "type": "table"
           }
          ]
         },
         "layout": {
          "annotationdefaults": {
           "arrowcolor": "#2a3f5f",
           "arrowhead": 0,
           "arrowwidth": 1
          },
          "autotypenumbers": "strict",
          "coloraxis": {
           "colorbar": {
            "outlinewidth": 0,
            "ticks": ""
           }
          },
          "colorscale": {
           "diverging": [
            [
             0,
             "#8e0152"
            ],
            [
             0.1,
             "#c51b7d"
            ],
            [
             0.2,
             "#de77ae"
            ],
            [
             0.3,
             "#f1b6da"
            ],
            [
             0.4,
             "#fde0ef"
            ],
            [
             0.5,
             "#f7f7f7"
            ],
            [
             0.6,
             "#e6f5d0"
            ],
            [
             0.7,
             "#b8e186"
            ],
            [
             0.8,
             "#7fbc41"
            ],
            [
             0.9,
             "#4d9221"
            ],
            [
             1,
             "#276419"
            ]
           ],
           "sequential": [
            [
             0,
             "#0d0887"
            ],
            [
             0.1111111111111111,
             "#46039f"
            ],
            [
             0.2222222222222222,
             "#7201a8"
            ],
            [
             0.3333333333333333,
             "#9c179e"
            ],
            [
             0.4444444444444444,
             "#bd3786"
            ],
            [
             0.5555555555555556,
             "#d8576b"
            ],
            [
             0.6666666666666666,
             "#ed7953"
            ],
            [
             0.7777777777777778,
             "#fb9f3a"
            ],
            [
             0.8888888888888888,
             "#fdca26"
            ],
            [
             1,
             "#f0f921"
            ]
           ],
           "sequentialminus": [
            [
             0,
             "#0d0887"
            ],
            [
             0.1111111111111111,
             "#46039f"
            ],
            [
             0.2222222222222222,
             "#7201a8"
            ],
            [
             0.3333333333333333,
             "#9c179e"
            ],
            [
             0.4444444444444444,
             "#bd3786"
            ],
            [
             0.5555555555555556,
             "#d8576b"
            ],
            [
             0.6666666666666666,
             "#ed7953"
            ],
            [
             0.7777777777777778,
             "#fb9f3a"
            ],
            [
             0.8888888888888888,
             "#fdca26"
            ],
            [
             1,
             "#f0f921"
            ]
           ]
          },
          "colorway": [
           "#636efa",
           "#EF553B",
           "#00cc96",
           "#ab63fa",
           "#FFA15A",
           "#19d3f3",
           "#FF6692",
           "#B6E880",
           "#FF97FF",
           "#FECB52"
          ],
          "font": {
           "color": "#2a3f5f"
          },
          "geo": {
           "bgcolor": "white",
           "lakecolor": "white",
           "landcolor": "#E5ECF6",
           "showlakes": true,
           "showland": true,
           "subunitcolor": "white"
          },
          "hoverlabel": {
           "align": "left"
          },
          "hovermode": "closest",
          "mapbox": {
           "style": "light"
          },
          "paper_bgcolor": "white",
          "plot_bgcolor": "#E5ECF6",
          "polar": {
           "angularaxis": {
            "gridcolor": "white",
            "linecolor": "white",
            "ticks": ""
           },
           "bgcolor": "#E5ECF6",
           "radialaxis": {
            "gridcolor": "white",
            "linecolor": "white",
            "ticks": ""
           }
          },
          "scene": {
           "xaxis": {
            "backgroundcolor": "#E5ECF6",
            "gridcolor": "white",
            "gridwidth": 2,
            "linecolor": "white",
            "showbackground": true,
            "ticks": "",
            "zerolinecolor": "white"
           },
           "yaxis": {
            "backgroundcolor": "#E5ECF6",
            "gridcolor": "white",
            "gridwidth": 2,
            "linecolor": "white",
            "showbackground": true,
            "ticks": "",
            "zerolinecolor": "white"
           },
           "zaxis": {
            "backgroundcolor": "#E5ECF6",
            "gridcolor": "white",
            "gridwidth": 2,
            "linecolor": "white",
            "showbackground": true,
            "ticks": "",
            "zerolinecolor": "white"
           }
          },
          "shapedefaults": {
           "line": {
            "color": "#2a3f5f"
           }
          },
          "ternary": {
           "aaxis": {
            "gridcolor": "white",
            "linecolor": "white",
            "ticks": ""
           },
           "baxis": {
            "gridcolor": "white",
            "linecolor": "white",
            "ticks": ""
           },
           "bgcolor": "#E5ECF6",
           "caxis": {
            "gridcolor": "white",
            "linecolor": "white",
            "ticks": ""
           }
          },
          "title": {
           "x": 0.05
          },
          "xaxis": {
           "automargin": true,
           "gridcolor": "white",
           "linecolor": "white",
           "ticks": "",
           "title": {
            "standoff": 15
           },
           "zerolinecolor": "white",
           "zerolinewidth": 2
          },
          "yaxis": {
           "automargin": true,
           "gridcolor": "white",
           "linecolor": "white",
           "ticks": "",
           "title": {
            "standoff": 15
           },
           "zerolinecolor": "white",
           "zerolinewidth": 2
          }
         }
        },
        "title": {
         "text": "Box Plot of Units Sold by has_urgency_banner"
        },
        "xaxis": {
         "anchor": "y",
         "domain": [
          0,
          1
         ],
         "title": {
          "text": "has_urgency_banner"
         }
        },
        "yaxis": {
         "anchor": "x",
         "domain": [
          0,
          1
         ],
         "title": {
          "text": "units_sold"
         }
        }
       }
      }
     },
     "metadata": {},
     "output_type": "display_data"
    }
   ],
   "source": [
    "import plotly.express as px\n",
    "\n",
    "for col in bool_cols:\n",
    "    fig = px.box(filtered_data2, x=col, y=\"units_sold\", title=f\"Box Plot of Units Sold by {col}\")\n",
    "    fig.show()"
   ]
  },
  {
   "cell_type": "markdown",
   "metadata": {},
   "source": [
    "## Distribution of levels in Non-Binary Categorical Columns"
   ]
  },
  {
   "cell_type": "code",
   "execution_count": 42,
   "metadata": {},
   "outputs": [
    {
     "name": "stdout",
     "output_type": "stream",
     "text": [
      "<class 'pandas.core.frame.DataFrame'>\n",
      "Index: 1470 entries, 0 to 1572\n",
      "Data columns (total 21 columns):\n",
      " #   Column                       Non-Null Count  Dtype  \n",
      "---  ------                       --------------  -----  \n",
      " 0   price                        1470 non-null   float64\n",
      " 1   retail_price                 1470 non-null   int64  \n",
      " 2   units_sold                   1470 non-null   int64  \n",
      " 3   uses_ad_boosts               1470 non-null   bool   \n",
      " 4   rating                       1470 non-null   float64\n",
      " 5   rating_count                 1470 non-null   int64  \n",
      " 6   badges_count                 1470 non-null   int64  \n",
      " 7   tags                         1470 non-null   object \n",
      " 8   product_color                1470 non-null   object \n",
      " 9   product_variation_size_id    1470 non-null   object \n",
      " 10  product_variation_inventory  1470 non-null   int64  \n",
      " 11  shipping_option_name         1470 non-null   object \n",
      " 12  shipping_option_price        1470 non-null   int64  \n",
      " 13  countries_shipped_to         1470 non-null   int64  \n",
      " 14  inventory_total              1470 non-null   int64  \n",
      " 15  has_urgency_banner           1470 non-null   bool   \n",
      " 16  origin_country               1470 non-null   object \n",
      " 17  merchant_rating_count        1470 non-null   int64  \n",
      " 18  merchant_rating              1470 non-null   float64\n",
      " 19  merchant_id                  1470 non-null   object \n",
      " 20  product_id                   1470 non-null   object \n",
      "dtypes: bool(2), float64(3), int64(9), object(7)\n",
      "memory usage: 232.6+ KB\n"
     ]
    }
   ],
   "source": [
    "filtered_data2.info()"
   ]
  },
  {
   "cell_type": "code",
   "execution_count": 44,
   "metadata": {},
   "outputs": [
    {
     "data": {
      "text/plain": [
       "['tags',\n",
       " 'product_color',\n",
       " 'product_variation_size_id',\n",
       " 'shipping_option_name',\n",
       " 'origin_country']"
      ]
     },
     "execution_count": 44,
     "metadata": {},
     "output_type": "execute_result"
    }
   ],
   "source": [
    "object_dtype_cols = filtered_data2.select_dtypes(include=\"object\").columns\n",
    "object_dtype_cols = [c for c in object_dtype_cols if c not in ['merchant_id', 'product_id']]\n",
    "object_dtype_cols"
   ]
  },
  {
   "cell_type": "code",
   "execution_count": null,
   "metadata": {},
   "outputs": [
    {
     "name": "stdout",
     "output_type": "stream",
     "text": [
      "Unique Values Found Per Object dtype Column \n",
      "tags :  1172\n",
      "product_color :  101\n",
      "product_variation_size_id :  91\n",
      "shipping_option_name :  14\n",
      "origin_country :  6\n"
     ]
    }
   ],
   "source": [
    "print(\"Unique Values Found Per Object dtype Column \")\n",
    "for c in object_dtype_cols:\n",
    "    print( c, \": \", len(filtered_data2[c].unique()))"
   ]
  },
  {
   "cell_type": "markdown",
   "metadata": {},
   "source": [
    "### Drop \"tags\" column because of high levels count "
   ]
  },
  {
   "cell_type": "code",
   "execution_count": 49,
   "metadata": {},
   "outputs": [
    {
     "name": "stdout",
     "output_type": "stream",
     "text": [
      "(1470, 21)\n"
     ]
    },
    {
     "data": {
      "text/plain": [
       "(1470, 20)"
      ]
     },
     "execution_count": 49,
     "metadata": {},
     "output_type": "execute_result"
    }
   ],
   "source": [
    "print(filtered_data2.shape)\n",
    "filtered_data2.drop(columns=[\"tags\"], inplace=True)\n",
    "filtered_data2.shape"
   ]
  },
  {
   "cell_type": "code",
   "execution_count": 51,
   "metadata": {},
   "outputs": [
    {
     "data": {
      "application/vnd.plotly.v1+json": {
       "config": {
        "plotlyServerURL": "https://plot.ly"
       },
       "data": [
        {
         "hovertemplate": "product_color=%{x}<br>Count=%{y}<extra></extra>",
         "legendgroup": "",
         "marker": {
          "color": "#636efa",
          "pattern": {
           "shape": ""
          }
         },
         "name": "",
         "orientation": "v",
         "showlegend": false,
         "textposition": "auto",
         "type": "bar",
         "x": [
          "black",
          "white",
          "yellow",
          "pink",
          "blue",
          "red",
          "green",
          "grey",
          "purple",
          "armygreen",
          "orange",
          "navyblue",
          "winered",
          "multicolor",
          "beige",
          "lightblue",
          "khaki",
          "white & green",
          "gray",
          "rosered",
          "skyblue",
          "brown",
          "darkblue",
          "coffee",
          "rose",
          "floral",
          "lightpink",
          "black & green",
          "leopard",
          "Black",
          "fluorescentgreen",
          "camouflage",
          "White",
          "lightgreen",
          "orange-red",
          "black & white",
          "applegreen",
          "black & blue",
          "navy blue",
          "lightred",
          "Pink",
          "navy",
          "black & yellow",
          "pink & blue",
          "wine",
          "lakeblue",
          "watermelonred",
          "camel",
          "pink & white",
          "burgundy",
          "apricot",
          "pink & grey",
          "whitefloral",
          "lightyellow",
          "pink & black",
          "Army green",
          "mintgreen",
          "coolblack",
          "dustypink",
          "white & black",
          "leopardprint",
          "blue & pink",
          "rainbow",
          "lightgrey",
          "prussianblue",
          "navyblue & white",
          "white & red",
          "RED",
          "ivory",
          "jasper",
          "blackwhite",
          "lightkhaki",
          "offblack",
          "rosegold",
          "army green",
          "darkgreen",
          "violet",
          "red & blue",
          "whitestripe",
          "offwhite",
          "winered & yellow",
          "lightpurple",
          "star",
          "tan",
          "wine red",
          "light green",
          "coralred",
          "silver",
          "nude",
          "Blue",
          "army",
          "brown & yellow",
          "black & stripe",
          "Rose red",
          "greysnakeskinprint",
          "denimblue",
          "orange & camouflage",
          "claret",
          "lightgray",
          "gray & white",
          "gold"
         ],
         "xaxis": "x",
         "y": {
          "bdata": "IgHtAGUAYQBfAFoAVABGADQAHwAbABsAGwAUAA0ADAAMAAoACQAIAAcABwAGAAYABQAFAAQABAAEAAMAAwADAAMAAwADAAMAAgACAAIAAgACAAIAAgACAAIAAgACAAIAAgACAAIAAgACAAIAAgACAAIAAgACAAIAAQABAAEAAQABAAEAAQABAAEAAQABAAEAAQABAAEAAQABAAEAAQABAAEAAQABAAEAAQABAAEAAQABAAEAAQABAAEAAQABAAEAAQABAAEAAQABAA==",
          "dtype": "i2"
         },
         "yaxis": "y"
        }
       ],
       "layout": {
        "barmode": "relative",
        "legend": {
         "tracegroupgap": 0
        },
        "template": {
         "data": {
          "bar": [
           {
            "error_x": {
             "color": "#2a3f5f"
            },
            "error_y": {
             "color": "#2a3f5f"
            },
            "marker": {
             "line": {
              "color": "#E5ECF6",
              "width": 0.5
             },
             "pattern": {
              "fillmode": "overlay",
              "size": 10,
              "solidity": 0.2
             }
            },
            "type": "bar"
           }
          ],
          "barpolar": [
           {
            "marker": {
             "line": {
              "color": "#E5ECF6",
              "width": 0.5
             },
             "pattern": {
              "fillmode": "overlay",
              "size": 10,
              "solidity": 0.2
             }
            },
            "type": "barpolar"
           }
          ],
          "carpet": [
           {
            "aaxis": {
             "endlinecolor": "#2a3f5f",
             "gridcolor": "white",
             "linecolor": "white",
             "minorgridcolor": "white",
             "startlinecolor": "#2a3f5f"
            },
            "baxis": {
             "endlinecolor": "#2a3f5f",
             "gridcolor": "white",
             "linecolor": "white",
             "minorgridcolor": "white",
             "startlinecolor": "#2a3f5f"
            },
            "type": "carpet"
           }
          ],
          "choropleth": [
           {
            "colorbar": {
             "outlinewidth": 0,
             "ticks": ""
            },
            "type": "choropleth"
           }
          ],
          "contour": [
           {
            "colorbar": {
             "outlinewidth": 0,
             "ticks": ""
            },
            "colorscale": [
             [
              0,
              "#0d0887"
             ],
             [
              0.1111111111111111,
              "#46039f"
             ],
             [
              0.2222222222222222,
              "#7201a8"
             ],
             [
              0.3333333333333333,
              "#9c179e"
             ],
             [
              0.4444444444444444,
              "#bd3786"
             ],
             [
              0.5555555555555556,
              "#d8576b"
             ],
             [
              0.6666666666666666,
              "#ed7953"
             ],
             [
              0.7777777777777778,
              "#fb9f3a"
             ],
             [
              0.8888888888888888,
              "#fdca26"
             ],
             [
              1,
              "#f0f921"
             ]
            ],
            "type": "contour"
           }
          ],
          "contourcarpet": [
           {
            "colorbar": {
             "outlinewidth": 0,
             "ticks": ""
            },
            "type": "contourcarpet"
           }
          ],
          "heatmap": [
           {
            "colorbar": {
             "outlinewidth": 0,
             "ticks": ""
            },
            "colorscale": [
             [
              0,
              "#0d0887"
             ],
             [
              0.1111111111111111,
              "#46039f"
             ],
             [
              0.2222222222222222,
              "#7201a8"
             ],
             [
              0.3333333333333333,
              "#9c179e"
             ],
             [
              0.4444444444444444,
              "#bd3786"
             ],
             [
              0.5555555555555556,
              "#d8576b"
             ],
             [
              0.6666666666666666,
              "#ed7953"
             ],
             [
              0.7777777777777778,
              "#fb9f3a"
             ],
             [
              0.8888888888888888,
              "#fdca26"
             ],
             [
              1,
              "#f0f921"
             ]
            ],
            "type": "heatmap"
           }
          ],
          "histogram": [
           {
            "marker": {
             "pattern": {
              "fillmode": "overlay",
              "size": 10,
              "solidity": 0.2
             }
            },
            "type": "histogram"
           }
          ],
          "histogram2d": [
           {
            "colorbar": {
             "outlinewidth": 0,
             "ticks": ""
            },
            "colorscale": [
             [
              0,
              "#0d0887"
             ],
             [
              0.1111111111111111,
              "#46039f"
             ],
             [
              0.2222222222222222,
              "#7201a8"
             ],
             [
              0.3333333333333333,
              "#9c179e"
             ],
             [
              0.4444444444444444,
              "#bd3786"
             ],
             [
              0.5555555555555556,
              "#d8576b"
             ],
             [
              0.6666666666666666,
              "#ed7953"
             ],
             [
              0.7777777777777778,
              "#fb9f3a"
             ],
             [
              0.8888888888888888,
              "#fdca26"
             ],
             [
              1,
              "#f0f921"
             ]
            ],
            "type": "histogram2d"
           }
          ],
          "histogram2dcontour": [
           {
            "colorbar": {
             "outlinewidth": 0,
             "ticks": ""
            },
            "colorscale": [
             [
              0,
              "#0d0887"
             ],
             [
              0.1111111111111111,
              "#46039f"
             ],
             [
              0.2222222222222222,
              "#7201a8"
             ],
             [
              0.3333333333333333,
              "#9c179e"
             ],
             [
              0.4444444444444444,
              "#bd3786"
             ],
             [
              0.5555555555555556,
              "#d8576b"
             ],
             [
              0.6666666666666666,
              "#ed7953"
             ],
             [
              0.7777777777777778,
              "#fb9f3a"
             ],
             [
              0.8888888888888888,
              "#fdca26"
             ],
             [
              1,
              "#f0f921"
             ]
            ],
            "type": "histogram2dcontour"
           }
          ],
          "mesh3d": [
           {
            "colorbar": {
             "outlinewidth": 0,
             "ticks": ""
            },
            "type": "mesh3d"
           }
          ],
          "parcoords": [
           {
            "line": {
             "colorbar": {
              "outlinewidth": 0,
              "ticks": ""
             }
            },
            "type": "parcoords"
           }
          ],
          "pie": [
           {
            "automargin": true,
            "type": "pie"
           }
          ],
          "scatter": [
           {
            "fillpattern": {
             "fillmode": "overlay",
             "size": 10,
             "solidity": 0.2
            },
            "type": "scatter"
           }
          ],
          "scatter3d": [
           {
            "line": {
             "colorbar": {
              "outlinewidth": 0,
              "ticks": ""
             }
            },
            "marker": {
             "colorbar": {
              "outlinewidth": 0,
              "ticks": ""
             }
            },
            "type": "scatter3d"
           }
          ],
          "scattercarpet": [
           {
            "marker": {
             "colorbar": {
              "outlinewidth": 0,
              "ticks": ""
             }
            },
            "type": "scattercarpet"
           }
          ],
          "scattergeo": [
           {
            "marker": {
             "colorbar": {
              "outlinewidth": 0,
              "ticks": ""
             }
            },
            "type": "scattergeo"
           }
          ],
          "scattergl": [
           {
            "marker": {
             "colorbar": {
              "outlinewidth": 0,
              "ticks": ""
             }
            },
            "type": "scattergl"
           }
          ],
          "scattermap": [
           {
            "marker": {
             "colorbar": {
              "outlinewidth": 0,
              "ticks": ""
             }
            },
            "type": "scattermap"
           }
          ],
          "scattermapbox": [
           {
            "marker": {
             "colorbar": {
              "outlinewidth": 0,
              "ticks": ""
             }
            },
            "type": "scattermapbox"
           }
          ],
          "scatterpolar": [
           {
            "marker": {
             "colorbar": {
              "outlinewidth": 0,
              "ticks": ""
             }
            },
            "type": "scatterpolar"
           }
          ],
          "scatterpolargl": [
           {
            "marker": {
             "colorbar": {
              "outlinewidth": 0,
              "ticks": ""
             }
            },
            "type": "scatterpolargl"
           }
          ],
          "scatterternary": [
           {
            "marker": {
             "colorbar": {
              "outlinewidth": 0,
              "ticks": ""
             }
            },
            "type": "scatterternary"
           }
          ],
          "surface": [
           {
            "colorbar": {
             "outlinewidth": 0,
             "ticks": ""
            },
            "colorscale": [
             [
              0,
              "#0d0887"
             ],
             [
              0.1111111111111111,
              "#46039f"
             ],
             [
              0.2222222222222222,
              "#7201a8"
             ],
             [
              0.3333333333333333,
              "#9c179e"
             ],
             [
              0.4444444444444444,
              "#bd3786"
             ],
             [
              0.5555555555555556,
              "#d8576b"
             ],
             [
              0.6666666666666666,
              "#ed7953"
             ],
             [
              0.7777777777777778,
              "#fb9f3a"
             ],
             [
              0.8888888888888888,
              "#fdca26"
             ],
             [
              1,
              "#f0f921"
             ]
            ],
            "type": "surface"
           }
          ],
          "table": [
           {
            "cells": {
             "fill": {
              "color": "#EBF0F8"
             },
             "line": {
              "color": "white"
             }
            },
            "header": {
             "fill": {
              "color": "#C8D4E3"
             },
             "line": {
              "color": "white"
             }
            },
            "type": "table"
           }
          ]
         },
         "layout": {
          "annotationdefaults": {
           "arrowcolor": "#2a3f5f",
           "arrowhead": 0,
           "arrowwidth": 1
          },
          "autotypenumbers": "strict",
          "coloraxis": {
           "colorbar": {
            "outlinewidth": 0,
            "ticks": ""
           }
          },
          "colorscale": {
           "diverging": [
            [
             0,
             "#8e0152"
            ],
            [
             0.1,
             "#c51b7d"
            ],
            [
             0.2,
             "#de77ae"
            ],
            [
             0.3,
             "#f1b6da"
            ],
            [
             0.4,
             "#fde0ef"
            ],
            [
             0.5,
             "#f7f7f7"
            ],
            [
             0.6,
             "#e6f5d0"
            ],
            [
             0.7,
             "#b8e186"
            ],
            [
             0.8,
             "#7fbc41"
            ],
            [
             0.9,
             "#4d9221"
            ],
            [
             1,
             "#276419"
            ]
           ],
           "sequential": [
            [
             0,
             "#0d0887"
            ],
            [
             0.1111111111111111,
             "#46039f"
            ],
            [
             0.2222222222222222,
             "#7201a8"
            ],
            [
             0.3333333333333333,
             "#9c179e"
            ],
            [
             0.4444444444444444,
             "#bd3786"
            ],
            [
             0.5555555555555556,
             "#d8576b"
            ],
            [
             0.6666666666666666,
             "#ed7953"
            ],
            [
             0.7777777777777778,
             "#fb9f3a"
            ],
            [
             0.8888888888888888,
             "#fdca26"
            ],
            [
             1,
             "#f0f921"
            ]
           ],
           "sequentialminus": [
            [
             0,
             "#0d0887"
            ],
            [
             0.1111111111111111,
             "#46039f"
            ],
            [
             0.2222222222222222,
             "#7201a8"
            ],
            [
             0.3333333333333333,
             "#9c179e"
            ],
            [
             0.4444444444444444,
             "#bd3786"
            ],
            [
             0.5555555555555556,
             "#d8576b"
            ],
            [
             0.6666666666666666,
             "#ed7953"
            ],
            [
             0.7777777777777778,
             "#fb9f3a"
            ],
            [
             0.8888888888888888,
             "#fdca26"
            ],
            [
             1,
             "#f0f921"
            ]
           ]
          },
          "colorway": [
           "#636efa",
           "#EF553B",
           "#00cc96",
           "#ab63fa",
           "#FFA15A",
           "#19d3f3",
           "#FF6692",
           "#B6E880",
           "#FF97FF",
           "#FECB52"
          ],
          "font": {
           "color": "#2a3f5f"
          },
          "geo": {
           "bgcolor": "white",
           "lakecolor": "white",
           "landcolor": "#E5ECF6",
           "showlakes": true,
           "showland": true,
           "subunitcolor": "white"
          },
          "hoverlabel": {
           "align": "left"
          },
          "hovermode": "closest",
          "mapbox": {
           "style": "light"
          },
          "paper_bgcolor": "white",
          "plot_bgcolor": "#E5ECF6",
          "polar": {
           "angularaxis": {
            "gridcolor": "white",
            "linecolor": "white",
            "ticks": ""
           },
           "bgcolor": "#E5ECF6",
           "radialaxis": {
            "gridcolor": "white",
            "linecolor": "white",
            "ticks": ""
           }
          },
          "scene": {
           "xaxis": {
            "backgroundcolor": "#E5ECF6",
            "gridcolor": "white",
            "gridwidth": 2,
            "linecolor": "white",
            "showbackground": true,
            "ticks": "",
            "zerolinecolor": "white"
           },
           "yaxis": {
            "backgroundcolor": "#E5ECF6",
            "gridcolor": "white",
            "gridwidth": 2,
            "linecolor": "white",
            "showbackground": true,
            "ticks": "",
            "zerolinecolor": "white"
           },
           "zaxis": {
            "backgroundcolor": "#E5ECF6",
            "gridcolor": "white",
            "gridwidth": 2,
            "linecolor": "white",
            "showbackground": true,
            "ticks": "",
            "zerolinecolor": "white"
           }
          },
          "shapedefaults": {
           "line": {
            "color": "#2a3f5f"
           }
          },
          "ternary": {
           "aaxis": {
            "gridcolor": "white",
            "linecolor": "white",
            "ticks": ""
           },
           "baxis": {
            "gridcolor": "white",
            "linecolor": "white",
            "ticks": ""
           },
           "bgcolor": "#E5ECF6",
           "caxis": {
            "gridcolor": "white",
            "linecolor": "white",
            "ticks": ""
           }
          },
          "title": {
           "x": 0.05
          },
          "xaxis": {
           "automargin": true,
           "gridcolor": "white",
           "linecolor": "white",
           "ticks": "",
           "title": {
            "standoff": 15
           },
           "zerolinecolor": "white",
           "zerolinewidth": 2
          },
          "yaxis": {
           "automargin": true,
           "gridcolor": "white",
           "linecolor": "white",
           "ticks": "",
           "title": {
            "standoff": 15
           },
           "zerolinecolor": "white",
           "zerolinewidth": 2
          }
         }
        },
        "title": {
         "text": "Distribution of product_color"
        },
        "xaxis": {
         "anchor": "y",
         "domain": [
          0,
          1
         ],
         "title": {
          "text": "product_color"
         }
        },
        "yaxis": {
         "anchor": "x",
         "domain": [
          0,
          1
         ],
         "title": {
          "text": "Count"
         }
        }
       }
      }
     },
     "metadata": {},
     "output_type": "display_data"
    },
    {
     "data": {
      "application/vnd.plotly.v1+json": {
       "config": {
        "plotlyServerURL": "https://plot.ly"
       },
       "data": [
        {
         "hovertemplate": "product_variation_size_id=%{x}<br>Count=%{y}<extra></extra>",
         "legendgroup": "",
         "marker": {
          "color": "#636efa",
          "pattern": {
           "shape": ""
          }
         },
         "name": "",
         "orientation": "v",
         "showlegend": false,
         "textposition": "auto",
         "type": "bar",
         "x": [
          "S",
          "XS",
          "M",
          "XXS",
          "L",
          "XL",
          "XXL",
          "S.",
          "XXXS",
          "Size S",
          "XS.",
          "4XL",
          "s",
          "M.",
          "2XL",
          "SIZE XS",
          "33",
          "34",
          "2pcs",
          "SizeL",
          "Size-S",
          "Size-XS",
          "3XL",
          "XXXXL",
          "size S",
          "1 pc.",
          "5XL",
          "35",
          "Size4XL",
          "Suit-S",
          "XXXXXL",
          "SIZE-XXS",
          "S(bust 88cm)",
          "One Size",
          "29",
          "Size -XXS",
          "EU 35",
          "Size S.",
          "10pcs",
          "US5.5-EU35",
          "60",
          "Size-5XL",
          "Baby Float Boat",
          "Size/S",
          "daughter 24M",
          "L.",
          "Size-XXS",
          "pants-S",
          "40 cm",
          "1 PC - XL",
          "5",
          "Size--S",
          "20PCS-10PAIRS",
          "Floating Chair for Kid",
          "04-3XL",
          "Women Size 37",
          "36",
          "5PAIRS",
          "EU39(US8)",
          "80 X 200 CM",
          "first  generation",
          "4-5 Years",
          "25-S",
          "SIZE XXS",
          "AU plug Low quality",
          "S/M(child)",
          "choose a size",
          "32/L",
          "4",
          "1m by 3m",
          "Women Size 36",
          "US 6.5 (EU 37)",
          "26(Waist 72cm 28inch)",
          "Size XXS",
          "100 cm",
          "SIZE-4XL",
          "1",
          "XXXL",
          "6XL",
          "S..",
          "30 cm",
          "Size M",
          "100 x 100cm(39.3 x 39.3inch)",
          "S (waist58-62cm)",
          "20pcs",
          "US-S",
          "X   L",
          "25",
          "Pack of 1",
          "S Diameter 30cm",
          "SIZE S"
         ],
         "xaxis": "x",
         "y": {
          "bdata": "ZQJTAcAAWgAwABEADwAPAAYABQAFAAUABQAEAAQABAADAAMAAwADAAMAAwACAAIAAgACAAIAAgACAAIAAgACAAIAAgACAAIAAgACAAEAAQABAAEAAQABAAEAAQABAAEAAQABAAEAAQABAAEAAQABAAEAAQABAAEAAQABAAEAAQABAAEAAQABAAEAAQABAAEAAQABAAEAAQABAAEAAQABAAEAAQABAAEAAQABAAEAAQABAAEAAQA=",
          "dtype": "i2"
         },
         "yaxis": "y"
        }
       ],
       "layout": {
        "barmode": "relative",
        "legend": {
         "tracegroupgap": 0
        },
        "template": {
         "data": {
          "bar": [
           {
            "error_x": {
             "color": "#2a3f5f"
            },
            "error_y": {
             "color": "#2a3f5f"
            },
            "marker": {
             "line": {
              "color": "#E5ECF6",
              "width": 0.5
             },
             "pattern": {
              "fillmode": "overlay",
              "size": 10,
              "solidity": 0.2
             }
            },
            "type": "bar"
           }
          ],
          "barpolar": [
           {
            "marker": {
             "line": {
              "color": "#E5ECF6",
              "width": 0.5
             },
             "pattern": {
              "fillmode": "overlay",
              "size": 10,
              "solidity": 0.2
             }
            },
            "type": "barpolar"
           }
          ],
          "carpet": [
           {
            "aaxis": {
             "endlinecolor": "#2a3f5f",
             "gridcolor": "white",
             "linecolor": "white",
             "minorgridcolor": "white",
             "startlinecolor": "#2a3f5f"
            },
            "baxis": {
             "endlinecolor": "#2a3f5f",
             "gridcolor": "white",
             "linecolor": "white",
             "minorgridcolor": "white",
             "startlinecolor": "#2a3f5f"
            },
            "type": "carpet"
           }
          ],
          "choropleth": [
           {
            "colorbar": {
             "outlinewidth": 0,
             "ticks": ""
            },
            "type": "choropleth"
           }
          ],
          "contour": [
           {
            "colorbar": {
             "outlinewidth": 0,
             "ticks": ""
            },
            "colorscale": [
             [
              0,
              "#0d0887"
             ],
             [
              0.1111111111111111,
              "#46039f"
             ],
             [
              0.2222222222222222,
              "#7201a8"
             ],
             [
              0.3333333333333333,
              "#9c179e"
             ],
             [
              0.4444444444444444,
              "#bd3786"
             ],
             [
              0.5555555555555556,
              "#d8576b"
             ],
             [
              0.6666666666666666,
              "#ed7953"
             ],
             [
              0.7777777777777778,
              "#fb9f3a"
             ],
             [
              0.8888888888888888,
              "#fdca26"
             ],
             [
              1,
              "#f0f921"
             ]
            ],
            "type": "contour"
           }
          ],
          "contourcarpet": [
           {
            "colorbar": {
             "outlinewidth": 0,
             "ticks": ""
            },
            "type": "contourcarpet"
           }
          ],
          "heatmap": [
           {
            "colorbar": {
             "outlinewidth": 0,
             "ticks": ""
            },
            "colorscale": [
             [
              0,
              "#0d0887"
             ],
             [
              0.1111111111111111,
              "#46039f"
             ],
             [
              0.2222222222222222,
              "#7201a8"
             ],
             [
              0.3333333333333333,
              "#9c179e"
             ],
             [
              0.4444444444444444,
              "#bd3786"
             ],
             [
              0.5555555555555556,
              "#d8576b"
             ],
             [
              0.6666666666666666,
              "#ed7953"
             ],
             [
              0.7777777777777778,
              "#fb9f3a"
             ],
             [
              0.8888888888888888,
              "#fdca26"
             ],
             [
              1,
              "#f0f921"
             ]
            ],
            "type": "heatmap"
           }
          ],
          "histogram": [
           {
            "marker": {
             "pattern": {
              "fillmode": "overlay",
              "size": 10,
              "solidity": 0.2
             }
            },
            "type": "histogram"
           }
          ],
          "histogram2d": [
           {
            "colorbar": {
             "outlinewidth": 0,
             "ticks": ""
            },
            "colorscale": [
             [
              0,
              "#0d0887"
             ],
             [
              0.1111111111111111,
              "#46039f"
             ],
             [
              0.2222222222222222,
              "#7201a8"
             ],
             [
              0.3333333333333333,
              "#9c179e"
             ],
             [
              0.4444444444444444,
              "#bd3786"
             ],
             [
              0.5555555555555556,
              "#d8576b"
             ],
             [
              0.6666666666666666,
              "#ed7953"
             ],
             [
              0.7777777777777778,
              "#fb9f3a"
             ],
             [
              0.8888888888888888,
              "#fdca26"
             ],
             [
              1,
              "#f0f921"
             ]
            ],
            "type": "histogram2d"
           }
          ],
          "histogram2dcontour": [
           {
            "colorbar": {
             "outlinewidth": 0,
             "ticks": ""
            },
            "colorscale": [
             [
              0,
              "#0d0887"
             ],
             [
              0.1111111111111111,
              "#46039f"
             ],
             [
              0.2222222222222222,
              "#7201a8"
             ],
             [
              0.3333333333333333,
              "#9c179e"
             ],
             [
              0.4444444444444444,
              "#bd3786"
             ],
             [
              0.5555555555555556,
              "#d8576b"
             ],
             [
              0.6666666666666666,
              "#ed7953"
             ],
             [
              0.7777777777777778,
              "#fb9f3a"
             ],
             [
              0.8888888888888888,
              "#fdca26"
             ],
             [
              1,
              "#f0f921"
             ]
            ],
            "type": "histogram2dcontour"
           }
          ],
          "mesh3d": [
           {
            "colorbar": {
             "outlinewidth": 0,
             "ticks": ""
            },
            "type": "mesh3d"
           }
          ],
          "parcoords": [
           {
            "line": {
             "colorbar": {
              "outlinewidth": 0,
              "ticks": ""
             }
            },
            "type": "parcoords"
           }
          ],
          "pie": [
           {
            "automargin": true,
            "type": "pie"
           }
          ],
          "scatter": [
           {
            "fillpattern": {
             "fillmode": "overlay",
             "size": 10,
             "solidity": 0.2
            },
            "type": "scatter"
           }
          ],
          "scatter3d": [
           {
            "line": {
             "colorbar": {
              "outlinewidth": 0,
              "ticks": ""
             }
            },
            "marker": {
             "colorbar": {
              "outlinewidth": 0,
              "ticks": ""
             }
            },
            "type": "scatter3d"
           }
          ],
          "scattercarpet": [
           {
            "marker": {
             "colorbar": {
              "outlinewidth": 0,
              "ticks": ""
             }
            },
            "type": "scattercarpet"
           }
          ],
          "scattergeo": [
           {
            "marker": {
             "colorbar": {
              "outlinewidth": 0,
              "ticks": ""
             }
            },
            "type": "scattergeo"
           }
          ],
          "scattergl": [
           {
            "marker": {
             "colorbar": {
              "outlinewidth": 0,
              "ticks": ""
             }
            },
            "type": "scattergl"
           }
          ],
          "scattermap": [
           {
            "marker": {
             "colorbar": {
              "outlinewidth": 0,
              "ticks": ""
             }
            },
            "type": "scattermap"
           }
          ],
          "scattermapbox": [
           {
            "marker": {
             "colorbar": {
              "outlinewidth": 0,
              "ticks": ""
             }
            },
            "type": "scattermapbox"
           }
          ],
          "scatterpolar": [
           {
            "marker": {
             "colorbar": {
              "outlinewidth": 0,
              "ticks": ""
             }
            },
            "type": "scatterpolar"
           }
          ],
          "scatterpolargl": [
           {
            "marker": {
             "colorbar": {
              "outlinewidth": 0,
              "ticks": ""
             }
            },
            "type": "scatterpolargl"
           }
          ],
          "scatterternary": [
           {
            "marker": {
             "colorbar": {
              "outlinewidth": 0,
              "ticks": ""
             }
            },
            "type": "scatterternary"
           }
          ],
          "surface": [
           {
            "colorbar": {
             "outlinewidth": 0,
             "ticks": ""
            },
            "colorscale": [
             [
              0,
              "#0d0887"
             ],
             [
              0.1111111111111111,
              "#46039f"
             ],
             [
              0.2222222222222222,
              "#7201a8"
             ],
             [
              0.3333333333333333,
              "#9c179e"
             ],
             [
              0.4444444444444444,
              "#bd3786"
             ],
             [
              0.5555555555555556,
              "#d8576b"
             ],
             [
              0.6666666666666666,
              "#ed7953"
             ],
             [
              0.7777777777777778,
              "#fb9f3a"
             ],
             [
              0.8888888888888888,
              "#fdca26"
             ],
             [
              1,
              "#f0f921"
             ]
            ],
            "type": "surface"
           }
          ],
          "table": [
           {
            "cells": {
             "fill": {
              "color": "#EBF0F8"
             },
             "line": {
              "color": "white"
             }
            },
            "header": {
             "fill": {
              "color": "#C8D4E3"
             },
             "line": {
              "color": "white"
             }
            },
            "type": "table"
           }
          ]
         },
         "layout": {
          "annotationdefaults": {
           "arrowcolor": "#2a3f5f",
           "arrowhead": 0,
           "arrowwidth": 1
          },
          "autotypenumbers": "strict",
          "coloraxis": {
           "colorbar": {
            "outlinewidth": 0,
            "ticks": ""
           }
          },
          "colorscale": {
           "diverging": [
            [
             0,
             "#8e0152"
            ],
            [
             0.1,
             "#c51b7d"
            ],
            [
             0.2,
             "#de77ae"
            ],
            [
             0.3,
             "#f1b6da"
            ],
            [
             0.4,
             "#fde0ef"
            ],
            [
             0.5,
             "#f7f7f7"
            ],
            [
             0.6,
             "#e6f5d0"
            ],
            [
             0.7,
             "#b8e186"
            ],
            [
             0.8,
             "#7fbc41"
            ],
            [
             0.9,
             "#4d9221"
            ],
            [
             1,
             "#276419"
            ]
           ],
           "sequential": [
            [
             0,
             "#0d0887"
            ],
            [
             0.1111111111111111,
             "#46039f"
            ],
            [
             0.2222222222222222,
             "#7201a8"
            ],
            [
             0.3333333333333333,
             "#9c179e"
            ],
            [
             0.4444444444444444,
             "#bd3786"
            ],
            [
             0.5555555555555556,
             "#d8576b"
            ],
            [
             0.6666666666666666,
             "#ed7953"
            ],
            [
             0.7777777777777778,
             "#fb9f3a"
            ],
            [
             0.8888888888888888,
             "#fdca26"
            ],
            [
             1,
             "#f0f921"
            ]
           ],
           "sequentialminus": [
            [
             0,
             "#0d0887"
            ],
            [
             0.1111111111111111,
             "#46039f"
            ],
            [
             0.2222222222222222,
             "#7201a8"
            ],
            [
             0.3333333333333333,
             "#9c179e"
            ],
            [
             0.4444444444444444,
             "#bd3786"
            ],
            [
             0.5555555555555556,
             "#d8576b"
            ],
            [
             0.6666666666666666,
             "#ed7953"
            ],
            [
             0.7777777777777778,
             "#fb9f3a"
            ],
            [
             0.8888888888888888,
             "#fdca26"
            ],
            [
             1,
             "#f0f921"
            ]
           ]
          },
          "colorway": [
           "#636efa",
           "#EF553B",
           "#00cc96",
           "#ab63fa",
           "#FFA15A",
           "#19d3f3",
           "#FF6692",
           "#B6E880",
           "#FF97FF",
           "#FECB52"
          ],
          "font": {
           "color": "#2a3f5f"
          },
          "geo": {
           "bgcolor": "white",
           "lakecolor": "white",
           "landcolor": "#E5ECF6",
           "showlakes": true,
           "showland": true,
           "subunitcolor": "white"
          },
          "hoverlabel": {
           "align": "left"
          },
          "hovermode": "closest",
          "mapbox": {
           "style": "light"
          },
          "paper_bgcolor": "white",
          "plot_bgcolor": "#E5ECF6",
          "polar": {
           "angularaxis": {
            "gridcolor": "white",
            "linecolor": "white",
            "ticks": ""
           },
           "bgcolor": "#E5ECF6",
           "radialaxis": {
            "gridcolor": "white",
            "linecolor": "white",
            "ticks": ""
           }
          },
          "scene": {
           "xaxis": {
            "backgroundcolor": "#E5ECF6",
            "gridcolor": "white",
            "gridwidth": 2,
            "linecolor": "white",
            "showbackground": true,
            "ticks": "",
            "zerolinecolor": "white"
           },
           "yaxis": {
            "backgroundcolor": "#E5ECF6",
            "gridcolor": "white",
            "gridwidth": 2,
            "linecolor": "white",
            "showbackground": true,
            "ticks": "",
            "zerolinecolor": "white"
           },
           "zaxis": {
            "backgroundcolor": "#E5ECF6",
            "gridcolor": "white",
            "gridwidth": 2,
            "linecolor": "white",
            "showbackground": true,
            "ticks": "",
            "zerolinecolor": "white"
           }
          },
          "shapedefaults": {
           "line": {
            "color": "#2a3f5f"
           }
          },
          "ternary": {
           "aaxis": {
            "gridcolor": "white",
            "linecolor": "white",
            "ticks": ""
           },
           "baxis": {
            "gridcolor": "white",
            "linecolor": "white",
            "ticks": ""
           },
           "bgcolor": "#E5ECF6",
           "caxis": {
            "gridcolor": "white",
            "linecolor": "white",
            "ticks": ""
           }
          },
          "title": {
           "x": 0.05
          },
          "xaxis": {
           "automargin": true,
           "gridcolor": "white",
           "linecolor": "white",
           "ticks": "",
           "title": {
            "standoff": 15
           },
           "zerolinecolor": "white",
           "zerolinewidth": 2
          },
          "yaxis": {
           "automargin": true,
           "gridcolor": "white",
           "linecolor": "white",
           "ticks": "",
           "title": {
            "standoff": 15
           },
           "zerolinecolor": "white",
           "zerolinewidth": 2
          }
         }
        },
        "title": {
         "text": "Distribution of product_variation_size_id"
        },
        "xaxis": {
         "anchor": "y",
         "domain": [
          0,
          1
         ],
         "title": {
          "text": "product_variation_size_id"
         }
        },
        "yaxis": {
         "anchor": "x",
         "domain": [
          0,
          1
         ],
         "title": {
          "text": "Count"
         }
        }
       }
      }
     },
     "metadata": {},
     "output_type": "display_data"
    },
    {
     "data": {
      "application/vnd.plotly.v1+json": {
       "config": {
        "plotlyServerURL": "https://plot.ly"
       },
       "data": [
        {
         "hovertemplate": "shipping_option_name=%{x}<br>Count=%{y}<extra></extra>",
         "legendgroup": "",
         "marker": {
          "color": "#636efa",
          "pattern": {
           "shape": ""
          }
         },
         "name": "",
         "orientation": "v",
         "showlegend": false,
         "textposition": "auto",
         "type": "bar",
         "x": [
          "Livraison standard",
          "Standard Shipping",
          "Envio Padrão",
          "Expediere Standard",
          "Envío normal",
          "الشحن القياسي",
          "Standardversand",
          "Standardowa wysyłka",
          "Стандартная доставка",
          "Standart Gönderi",
          "การส่งสินค้ามาตรฐาน",
          "Livraison Express",
          "Spedizione standard",
          "ការដឹកជញ្ជូនតាមស្តង់ដារ"
         ],
         "xaxis": "x",
         "y": {
          "bdata": "gAUUAAkABgAFAAQAAwADAAMAAgACAAIAAgABAA==",
          "dtype": "i2"
         },
         "yaxis": "y"
        }
       ],
       "layout": {
        "barmode": "relative",
        "legend": {
         "tracegroupgap": 0
        },
        "template": {
         "data": {
          "bar": [
           {
            "error_x": {
             "color": "#2a3f5f"
            },
            "error_y": {
             "color": "#2a3f5f"
            },
            "marker": {
             "line": {
              "color": "#E5ECF6",
              "width": 0.5
             },
             "pattern": {
              "fillmode": "overlay",
              "size": 10,
              "solidity": 0.2
             }
            },
            "type": "bar"
           }
          ],
          "barpolar": [
           {
            "marker": {
             "line": {
              "color": "#E5ECF6",
              "width": 0.5
             },
             "pattern": {
              "fillmode": "overlay",
              "size": 10,
              "solidity": 0.2
             }
            },
            "type": "barpolar"
           }
          ],
          "carpet": [
           {
            "aaxis": {
             "endlinecolor": "#2a3f5f",
             "gridcolor": "white",
             "linecolor": "white",
             "minorgridcolor": "white",
             "startlinecolor": "#2a3f5f"
            },
            "baxis": {
             "endlinecolor": "#2a3f5f",
             "gridcolor": "white",
             "linecolor": "white",
             "minorgridcolor": "white",
             "startlinecolor": "#2a3f5f"
            },
            "type": "carpet"
           }
          ],
          "choropleth": [
           {
            "colorbar": {
             "outlinewidth": 0,
             "ticks": ""
            },
            "type": "choropleth"
           }
          ],
          "contour": [
           {
            "colorbar": {
             "outlinewidth": 0,
             "ticks": ""
            },
            "colorscale": [
             [
              0,
              "#0d0887"
             ],
             [
              0.1111111111111111,
              "#46039f"
             ],
             [
              0.2222222222222222,
              "#7201a8"
             ],
             [
              0.3333333333333333,
              "#9c179e"
             ],
             [
              0.4444444444444444,
              "#bd3786"
             ],
             [
              0.5555555555555556,
              "#d8576b"
             ],
             [
              0.6666666666666666,
              "#ed7953"
             ],
             [
              0.7777777777777778,
              "#fb9f3a"
             ],
             [
              0.8888888888888888,
              "#fdca26"
             ],
             [
              1,
              "#f0f921"
             ]
            ],
            "type": "contour"
           }
          ],
          "contourcarpet": [
           {
            "colorbar": {
             "outlinewidth": 0,
             "ticks": ""
            },
            "type": "contourcarpet"
           }
          ],
          "heatmap": [
           {
            "colorbar": {
             "outlinewidth": 0,
             "ticks": ""
            },
            "colorscale": [
             [
              0,
              "#0d0887"
             ],
             [
              0.1111111111111111,
              "#46039f"
             ],
             [
              0.2222222222222222,
              "#7201a8"
             ],
             [
              0.3333333333333333,
              "#9c179e"
             ],
             [
              0.4444444444444444,
              "#bd3786"
             ],
             [
              0.5555555555555556,
              "#d8576b"
             ],
             [
              0.6666666666666666,
              "#ed7953"
             ],
             [
              0.7777777777777778,
              "#fb9f3a"
             ],
             [
              0.8888888888888888,
              "#fdca26"
             ],
             [
              1,
              "#f0f921"
             ]
            ],
            "type": "heatmap"
           }
          ],
          "histogram": [
           {
            "marker": {
             "pattern": {
              "fillmode": "overlay",
              "size": 10,
              "solidity": 0.2
             }
            },
            "type": "histogram"
           }
          ],
          "histogram2d": [
           {
            "colorbar": {
             "outlinewidth": 0,
             "ticks": ""
            },
            "colorscale": [
             [
              0,
              "#0d0887"
             ],
             [
              0.1111111111111111,
              "#46039f"
             ],
             [
              0.2222222222222222,
              "#7201a8"
             ],
             [
              0.3333333333333333,
              "#9c179e"
             ],
             [
              0.4444444444444444,
              "#bd3786"
             ],
             [
              0.5555555555555556,
              "#d8576b"
             ],
             [
              0.6666666666666666,
              "#ed7953"
             ],
             [
              0.7777777777777778,
              "#fb9f3a"
             ],
             [
              0.8888888888888888,
              "#fdca26"
             ],
             [
              1,
              "#f0f921"
             ]
            ],
            "type": "histogram2d"
           }
          ],
          "histogram2dcontour": [
           {
            "colorbar": {
             "outlinewidth": 0,
             "ticks": ""
            },
            "colorscale": [
             [
              0,
              "#0d0887"
             ],
             [
              0.1111111111111111,
              "#46039f"
             ],
             [
              0.2222222222222222,
              "#7201a8"
             ],
             [
              0.3333333333333333,
              "#9c179e"
             ],
             [
              0.4444444444444444,
              "#bd3786"
             ],
             [
              0.5555555555555556,
              "#d8576b"
             ],
             [
              0.6666666666666666,
              "#ed7953"
             ],
             [
              0.7777777777777778,
              "#fb9f3a"
             ],
             [
              0.8888888888888888,
              "#fdca26"
             ],
             [
              1,
              "#f0f921"
             ]
            ],
            "type": "histogram2dcontour"
           }
          ],
          "mesh3d": [
           {
            "colorbar": {
             "outlinewidth": 0,
             "ticks": ""
            },
            "type": "mesh3d"
           }
          ],
          "parcoords": [
           {
            "line": {
             "colorbar": {
              "outlinewidth": 0,
              "ticks": ""
             }
            },
            "type": "parcoords"
           }
          ],
          "pie": [
           {
            "automargin": true,
            "type": "pie"
           }
          ],
          "scatter": [
           {
            "fillpattern": {
             "fillmode": "overlay",
             "size": 10,
             "solidity": 0.2
            },
            "type": "scatter"
           }
          ],
          "scatter3d": [
           {
            "line": {
             "colorbar": {
              "outlinewidth": 0,
              "ticks": ""
             }
            },
            "marker": {
             "colorbar": {
              "outlinewidth": 0,
              "ticks": ""
             }
            },
            "type": "scatter3d"
           }
          ],
          "scattercarpet": [
           {
            "marker": {
             "colorbar": {
              "outlinewidth": 0,
              "ticks": ""
             }
            },
            "type": "scattercarpet"
           }
          ],
          "scattergeo": [
           {
            "marker": {
             "colorbar": {
              "outlinewidth": 0,
              "ticks": ""
             }
            },
            "type": "scattergeo"
           }
          ],
          "scattergl": [
           {
            "marker": {
             "colorbar": {
              "outlinewidth": 0,
              "ticks": ""
             }
            },
            "type": "scattergl"
           }
          ],
          "scattermap": [
           {
            "marker": {
             "colorbar": {
              "outlinewidth": 0,
              "ticks": ""
             }
            },
            "type": "scattermap"
           }
          ],
          "scattermapbox": [
           {
            "marker": {
             "colorbar": {
              "outlinewidth": 0,
              "ticks": ""
             }
            },
            "type": "scattermapbox"
           }
          ],
          "scatterpolar": [
           {
            "marker": {
             "colorbar": {
              "outlinewidth": 0,
              "ticks": ""
             }
            },
            "type": "scatterpolar"
           }
          ],
          "scatterpolargl": [
           {
            "marker": {
             "colorbar": {
              "outlinewidth": 0,
              "ticks": ""
             }
            },
            "type": "scatterpolargl"
           }
          ],
          "scatterternary": [
           {
            "marker": {
             "colorbar": {
              "outlinewidth": 0,
              "ticks": ""
             }
            },
            "type": "scatterternary"
           }
          ],
          "surface": [
           {
            "colorbar": {
             "outlinewidth": 0,
             "ticks": ""
            },
            "colorscale": [
             [
              0,
              "#0d0887"
             ],
             [
              0.1111111111111111,
              "#46039f"
             ],
             [
              0.2222222222222222,
              "#7201a8"
             ],
             [
              0.3333333333333333,
              "#9c179e"
             ],
             [
              0.4444444444444444,
              "#bd3786"
             ],
             [
              0.5555555555555556,
              "#d8576b"
             ],
             [
              0.6666666666666666,
              "#ed7953"
             ],
             [
              0.7777777777777778,
              "#fb9f3a"
             ],
             [
              0.8888888888888888,
              "#fdca26"
             ],
             [
              1,
              "#f0f921"
             ]
            ],
            "type": "surface"
           }
          ],
          "table": [
           {
            "cells": {
             "fill": {
              "color": "#EBF0F8"
             },
             "line": {
              "color": "white"
             }
            },
            "header": {
             "fill": {
              "color": "#C8D4E3"
             },
             "line": {
              "color": "white"
             }
            },
            "type": "table"
           }
          ]
         },
         "layout": {
          "annotationdefaults": {
           "arrowcolor": "#2a3f5f",
           "arrowhead": 0,
           "arrowwidth": 1
          },
          "autotypenumbers": "strict",
          "coloraxis": {
           "colorbar": {
            "outlinewidth": 0,
            "ticks": ""
           }
          },
          "colorscale": {
           "diverging": [
            [
             0,
             "#8e0152"
            ],
            [
             0.1,
             "#c51b7d"
            ],
            [
             0.2,
             "#de77ae"
            ],
            [
             0.3,
             "#f1b6da"
            ],
            [
             0.4,
             "#fde0ef"
            ],
            [
             0.5,
             "#f7f7f7"
            ],
            [
             0.6,
             "#e6f5d0"
            ],
            [
             0.7,
             "#b8e186"
            ],
            [
             0.8,
             "#7fbc41"
            ],
            [
             0.9,
             "#4d9221"
            ],
            [
             1,
             "#276419"
            ]
           ],
           "sequential": [
            [
             0,
             "#0d0887"
            ],
            [
             0.1111111111111111,
             "#46039f"
            ],
            [
             0.2222222222222222,
             "#7201a8"
            ],
            [
             0.3333333333333333,
             "#9c179e"
            ],
            [
             0.4444444444444444,
             "#bd3786"
            ],
            [
             0.5555555555555556,
             "#d8576b"
            ],
            [
             0.6666666666666666,
             "#ed7953"
            ],
            [
             0.7777777777777778,
             "#fb9f3a"
            ],
            [
             0.8888888888888888,
             "#fdca26"
            ],
            [
             1,
             "#f0f921"
            ]
           ],
           "sequentialminus": [
            [
             0,
             "#0d0887"
            ],
            [
             0.1111111111111111,
             "#46039f"
            ],
            [
             0.2222222222222222,
             "#7201a8"
            ],
            [
             0.3333333333333333,
             "#9c179e"
            ],
            [
             0.4444444444444444,
             "#bd3786"
            ],
            [
             0.5555555555555556,
             "#d8576b"
            ],
            [
             0.6666666666666666,
             "#ed7953"
            ],
            [
             0.7777777777777778,
             "#fb9f3a"
            ],
            [
             0.8888888888888888,
             "#fdca26"
            ],
            [
             1,
             "#f0f921"
            ]
           ]
          },
          "colorway": [
           "#636efa",
           "#EF553B",
           "#00cc96",
           "#ab63fa",
           "#FFA15A",
           "#19d3f3",
           "#FF6692",
           "#B6E880",
           "#FF97FF",
           "#FECB52"
          ],
          "font": {
           "color": "#2a3f5f"
          },
          "geo": {
           "bgcolor": "white",
           "lakecolor": "white",
           "landcolor": "#E5ECF6",
           "showlakes": true,
           "showland": true,
           "subunitcolor": "white"
          },
          "hoverlabel": {
           "align": "left"
          },
          "hovermode": "closest",
          "mapbox": {
           "style": "light"
          },
          "paper_bgcolor": "white",
          "plot_bgcolor": "#E5ECF6",
          "polar": {
           "angularaxis": {
            "gridcolor": "white",
            "linecolor": "white",
            "ticks": ""
           },
           "bgcolor": "#E5ECF6",
           "radialaxis": {
            "gridcolor": "white",
            "linecolor": "white",
            "ticks": ""
           }
          },
          "scene": {
           "xaxis": {
            "backgroundcolor": "#E5ECF6",
            "gridcolor": "white",
            "gridwidth": 2,
            "linecolor": "white",
            "showbackground": true,
            "ticks": "",
            "zerolinecolor": "white"
           },
           "yaxis": {
            "backgroundcolor": "#E5ECF6",
            "gridcolor": "white",
            "gridwidth": 2,
            "linecolor": "white",
            "showbackground": true,
            "ticks": "",
            "zerolinecolor": "white"
           },
           "zaxis": {
            "backgroundcolor": "#E5ECF6",
            "gridcolor": "white",
            "gridwidth": 2,
            "linecolor": "white",
            "showbackground": true,
            "ticks": "",
            "zerolinecolor": "white"
           }
          },
          "shapedefaults": {
           "line": {
            "color": "#2a3f5f"
           }
          },
          "ternary": {
           "aaxis": {
            "gridcolor": "white",
            "linecolor": "white",
            "ticks": ""
           },
           "baxis": {
            "gridcolor": "white",
            "linecolor": "white",
            "ticks": ""
           },
           "bgcolor": "#E5ECF6",
           "caxis": {
            "gridcolor": "white",
            "linecolor": "white",
            "ticks": ""
           }
          },
          "title": {
           "x": 0.05
          },
          "xaxis": {
           "automargin": true,
           "gridcolor": "white",
           "linecolor": "white",
           "ticks": "",
           "title": {
            "standoff": 15
           },
           "zerolinecolor": "white",
           "zerolinewidth": 2
          },
          "yaxis": {
           "automargin": true,
           "gridcolor": "white",
           "linecolor": "white",
           "ticks": "",
           "title": {
            "standoff": 15
           },
           "zerolinecolor": "white",
           "zerolinewidth": 2
          }
         }
        },
        "title": {
         "text": "Distribution of shipping_option_name"
        },
        "xaxis": {
         "anchor": "y",
         "domain": [
          0,
          1
         ],
         "title": {
          "text": "shipping_option_name"
         }
        },
        "yaxis": {
         "anchor": "x",
         "domain": [
          0,
          1
         ],
         "title": {
          "text": "Count"
         }
        }
       }
      }
     },
     "metadata": {},
     "output_type": "display_data"
    },
    {
     "data": {
      "application/vnd.plotly.v1+json": {
       "config": {
        "plotlyServerURL": "https://plot.ly"
       },
       "data": [
        {
         "hovertemplate": "origin_country=%{x}<br>Count=%{y}<extra></extra>",
         "legendgroup": "",
         "marker": {
          "color": "#636efa",
          "pattern": {
           "shape": ""
          }
         },
         "name": "",
         "orientation": "v",
         "showlegend": false,
         "textposition": "auto",
         "type": "bar",
         "x": [
          "CN",
          "US",
          "VE",
          "SG",
          "AT",
          "GB"
         ],
         "xaxis": "x",
         "y": {
          "bdata": "mAUeAAQAAgABAAEA",
          "dtype": "i2"
         },
         "yaxis": "y"
        }
       ],
       "layout": {
        "barmode": "relative",
        "legend": {
         "tracegroupgap": 0
        },
        "template": {
         "data": {
          "bar": [
           {
            "error_x": {
             "color": "#2a3f5f"
            },
            "error_y": {
             "color": "#2a3f5f"
            },
            "marker": {
             "line": {
              "color": "#E5ECF6",
              "width": 0.5
             },
             "pattern": {
              "fillmode": "overlay",
              "size": 10,
              "solidity": 0.2
             }
            },
            "type": "bar"
           }
          ],
          "barpolar": [
           {
            "marker": {
             "line": {
              "color": "#E5ECF6",
              "width": 0.5
             },
             "pattern": {
              "fillmode": "overlay",
              "size": 10,
              "solidity": 0.2
             }
            },
            "type": "barpolar"
           }
          ],
          "carpet": [
           {
            "aaxis": {
             "endlinecolor": "#2a3f5f",
             "gridcolor": "white",
             "linecolor": "white",
             "minorgridcolor": "white",
             "startlinecolor": "#2a3f5f"
            },
            "baxis": {
             "endlinecolor": "#2a3f5f",
             "gridcolor": "white",
             "linecolor": "white",
             "minorgridcolor": "white",
             "startlinecolor": "#2a3f5f"
            },
            "type": "carpet"
           }
          ],
          "choropleth": [
           {
            "colorbar": {
             "outlinewidth": 0,
             "ticks": ""
            },
            "type": "choropleth"
           }
          ],
          "contour": [
           {
            "colorbar": {
             "outlinewidth": 0,
             "ticks": ""
            },
            "colorscale": [
             [
              0,
              "#0d0887"
             ],
             [
              0.1111111111111111,
              "#46039f"
             ],
             [
              0.2222222222222222,
              "#7201a8"
             ],
             [
              0.3333333333333333,
              "#9c179e"
             ],
             [
              0.4444444444444444,
              "#bd3786"
             ],
             [
              0.5555555555555556,
              "#d8576b"
             ],
             [
              0.6666666666666666,
              "#ed7953"
             ],
             [
              0.7777777777777778,
              "#fb9f3a"
             ],
             [
              0.8888888888888888,
              "#fdca26"
             ],
             [
              1,
              "#f0f921"
             ]
            ],
            "type": "contour"
           }
          ],
          "contourcarpet": [
           {
            "colorbar": {
             "outlinewidth": 0,
             "ticks": ""
            },
            "type": "contourcarpet"
           }
          ],
          "heatmap": [
           {
            "colorbar": {
             "outlinewidth": 0,
             "ticks": ""
            },
            "colorscale": [
             [
              0,
              "#0d0887"
             ],
             [
              0.1111111111111111,
              "#46039f"
             ],
             [
              0.2222222222222222,
              "#7201a8"
             ],
             [
              0.3333333333333333,
              "#9c179e"
             ],
             [
              0.4444444444444444,
              "#bd3786"
             ],
             [
              0.5555555555555556,
              "#d8576b"
             ],
             [
              0.6666666666666666,
              "#ed7953"
             ],
             [
              0.7777777777777778,
              "#fb9f3a"
             ],
             [
              0.8888888888888888,
              "#fdca26"
             ],
             [
              1,
              "#f0f921"
             ]
            ],
            "type": "heatmap"
           }
          ],
          "histogram": [
           {
            "marker": {
             "pattern": {
              "fillmode": "overlay",
              "size": 10,
              "solidity": 0.2
             }
            },
            "type": "histogram"
           }
          ],
          "histogram2d": [
           {
            "colorbar": {
             "outlinewidth": 0,
             "ticks": ""
            },
            "colorscale": [
             [
              0,
              "#0d0887"
             ],
             [
              0.1111111111111111,
              "#46039f"
             ],
             [
              0.2222222222222222,
              "#7201a8"
             ],
             [
              0.3333333333333333,
              "#9c179e"
             ],
             [
              0.4444444444444444,
              "#bd3786"
             ],
             [
              0.5555555555555556,
              "#d8576b"
             ],
             [
              0.6666666666666666,
              "#ed7953"
             ],
             [
              0.7777777777777778,
              "#fb9f3a"
             ],
             [
              0.8888888888888888,
              "#fdca26"
             ],
             [
              1,
              "#f0f921"
             ]
            ],
            "type": "histogram2d"
           }
          ],
          "histogram2dcontour": [
           {
            "colorbar": {
             "outlinewidth": 0,
             "ticks": ""
            },
            "colorscale": [
             [
              0,
              "#0d0887"
             ],
             [
              0.1111111111111111,
              "#46039f"
             ],
             [
              0.2222222222222222,
              "#7201a8"
             ],
             [
              0.3333333333333333,
              "#9c179e"
             ],
             [
              0.4444444444444444,
              "#bd3786"
             ],
             [
              0.5555555555555556,
              "#d8576b"
             ],
             [
              0.6666666666666666,
              "#ed7953"
             ],
             [
              0.7777777777777778,
              "#fb9f3a"
             ],
             [
              0.8888888888888888,
              "#fdca26"
             ],
             [
              1,
              "#f0f921"
             ]
            ],
            "type": "histogram2dcontour"
           }
          ],
          "mesh3d": [
           {
            "colorbar": {
             "outlinewidth": 0,
             "ticks": ""
            },
            "type": "mesh3d"
           }
          ],
          "parcoords": [
           {
            "line": {
             "colorbar": {
              "outlinewidth": 0,
              "ticks": ""
             }
            },
            "type": "parcoords"
           }
          ],
          "pie": [
           {
            "automargin": true,
            "type": "pie"
           }
          ],
          "scatter": [
           {
            "fillpattern": {
             "fillmode": "overlay",
             "size": 10,
             "solidity": 0.2
            },
            "type": "scatter"
           }
          ],
          "scatter3d": [
           {
            "line": {
             "colorbar": {
              "outlinewidth": 0,
              "ticks": ""
             }
            },
            "marker": {
             "colorbar": {
              "outlinewidth": 0,
              "ticks": ""
             }
            },
            "type": "scatter3d"
           }
          ],
          "scattercarpet": [
           {
            "marker": {
             "colorbar": {
              "outlinewidth": 0,
              "ticks": ""
             }
            },
            "type": "scattercarpet"
           }
          ],
          "scattergeo": [
           {
            "marker": {
             "colorbar": {
              "outlinewidth": 0,
              "ticks": ""
             }
            },
            "type": "scattergeo"
           }
          ],
          "scattergl": [
           {
            "marker": {
             "colorbar": {
              "outlinewidth": 0,
              "ticks": ""
             }
            },
            "type": "scattergl"
           }
          ],
          "scattermap": [
           {
            "marker": {
             "colorbar": {
              "outlinewidth": 0,
              "ticks": ""
             }
            },
            "type": "scattermap"
           }
          ],
          "scattermapbox": [
           {
            "marker": {
             "colorbar": {
              "outlinewidth": 0,
              "ticks": ""
             }
            },
            "type": "scattermapbox"
           }
          ],
          "scatterpolar": [
           {
            "marker": {
             "colorbar": {
              "outlinewidth": 0,
              "ticks": ""
             }
            },
            "type": "scatterpolar"
           }
          ],
          "scatterpolargl": [
           {
            "marker": {
             "colorbar": {
              "outlinewidth": 0,
              "ticks": ""
             }
            },
            "type": "scatterpolargl"
           }
          ],
          "scatterternary": [
           {
            "marker": {
             "colorbar": {
              "outlinewidth": 0,
              "ticks": ""
             }
            },
            "type": "scatterternary"
           }
          ],
          "surface": [
           {
            "colorbar": {
             "outlinewidth": 0,
             "ticks": ""
            },
            "colorscale": [
             [
              0,
              "#0d0887"
             ],
             [
              0.1111111111111111,
              "#46039f"
             ],
             [
              0.2222222222222222,
              "#7201a8"
             ],
             [
              0.3333333333333333,
              "#9c179e"
             ],
             [
              0.4444444444444444,
              "#bd3786"
             ],
             [
              0.5555555555555556,
              "#d8576b"
             ],
             [
              0.6666666666666666,
              "#ed7953"
             ],
             [
              0.7777777777777778,
              "#fb9f3a"
             ],
             [
              0.8888888888888888,
              "#fdca26"
             ],
             [
              1,
              "#f0f921"
             ]
            ],
            "type": "surface"
           }
          ],
          "table": [
           {
            "cells": {
             "fill": {
              "color": "#EBF0F8"
             },
             "line": {
              "color": "white"
             }
            },
            "header": {
             "fill": {
              "color": "#C8D4E3"
             },
             "line": {
              "color": "white"
             }
            },
            "type": "table"
           }
          ]
         },
         "layout": {
          "annotationdefaults": {
           "arrowcolor": "#2a3f5f",
           "arrowhead": 0,
           "arrowwidth": 1
          },
          "autotypenumbers": "strict",
          "coloraxis": {
           "colorbar": {
            "outlinewidth": 0,
            "ticks": ""
           }
          },
          "colorscale": {
           "diverging": [
            [
             0,
             "#8e0152"
            ],
            [
             0.1,
             "#c51b7d"
            ],
            [
             0.2,
             "#de77ae"
            ],
            [
             0.3,
             "#f1b6da"
            ],
            [
             0.4,
             "#fde0ef"
            ],
            [
             0.5,
             "#f7f7f7"
            ],
            [
             0.6,
             "#e6f5d0"
            ],
            [
             0.7,
             "#b8e186"
            ],
            [
             0.8,
             "#7fbc41"
            ],
            [
             0.9,
             "#4d9221"
            ],
            [
             1,
             "#276419"
            ]
           ],
           "sequential": [
            [
             0,
             "#0d0887"
            ],
            [
             0.1111111111111111,
             "#46039f"
            ],
            [
             0.2222222222222222,
             "#7201a8"
            ],
            [
             0.3333333333333333,
             "#9c179e"
            ],
            [
             0.4444444444444444,
             "#bd3786"
            ],
            [
             0.5555555555555556,
             "#d8576b"
            ],
            [
             0.6666666666666666,
             "#ed7953"
            ],
            [
             0.7777777777777778,
             "#fb9f3a"
            ],
            [
             0.8888888888888888,
             "#fdca26"
            ],
            [
             1,
             "#f0f921"
            ]
           ],
           "sequentialminus": [
            [
             0,
             "#0d0887"
            ],
            [
             0.1111111111111111,
             "#46039f"
            ],
            [
             0.2222222222222222,
             "#7201a8"
            ],
            [
             0.3333333333333333,
             "#9c179e"
            ],
            [
             0.4444444444444444,
             "#bd3786"
            ],
            [
             0.5555555555555556,
             "#d8576b"
            ],
            [
             0.6666666666666666,
             "#ed7953"
            ],
            [
             0.7777777777777778,
             "#fb9f3a"
            ],
            [
             0.8888888888888888,
             "#fdca26"
            ],
            [
             1,
             "#f0f921"
            ]
           ]
          },
          "colorway": [
           "#636efa",
           "#EF553B",
           "#00cc96",
           "#ab63fa",
           "#FFA15A",
           "#19d3f3",
           "#FF6692",
           "#B6E880",
           "#FF97FF",
           "#FECB52"
          ],
          "font": {
           "color": "#2a3f5f"
          },
          "geo": {
           "bgcolor": "white",
           "lakecolor": "white",
           "landcolor": "#E5ECF6",
           "showlakes": true,
           "showland": true,
           "subunitcolor": "white"
          },
          "hoverlabel": {
           "align": "left"
          },
          "hovermode": "closest",
          "mapbox": {
           "style": "light"
          },
          "paper_bgcolor": "white",
          "plot_bgcolor": "#E5ECF6",
          "polar": {
           "angularaxis": {
            "gridcolor": "white",
            "linecolor": "white",
            "ticks": ""
           },
           "bgcolor": "#E5ECF6",
           "radialaxis": {
            "gridcolor": "white",
            "linecolor": "white",
            "ticks": ""
           }
          },
          "scene": {
           "xaxis": {
            "backgroundcolor": "#E5ECF6",
            "gridcolor": "white",
            "gridwidth": 2,
            "linecolor": "white",
            "showbackground": true,
            "ticks": "",
            "zerolinecolor": "white"
           },
           "yaxis": {
            "backgroundcolor": "#E5ECF6",
            "gridcolor": "white",
            "gridwidth": 2,
            "linecolor": "white",
            "showbackground": true,
            "ticks": "",
            "zerolinecolor": "white"
           },
           "zaxis": {
            "backgroundcolor": "#E5ECF6",
            "gridcolor": "white",
            "gridwidth": 2,
            "linecolor": "white",
            "showbackground": true,
            "ticks": "",
            "zerolinecolor": "white"
           }
          },
          "shapedefaults": {
           "line": {
            "color": "#2a3f5f"
           }
          },
          "ternary": {
           "aaxis": {
            "gridcolor": "white",
            "linecolor": "white",
            "ticks": ""
           },
           "baxis": {
            "gridcolor": "white",
            "linecolor": "white",
            "ticks": ""
           },
           "bgcolor": "#E5ECF6",
           "caxis": {
            "gridcolor": "white",
            "linecolor": "white",
            "ticks": ""
           }
          },
          "title": {
           "x": 0.05
          },
          "xaxis": {
           "automargin": true,
           "gridcolor": "white",
           "linecolor": "white",
           "ticks": "",
           "title": {
            "standoff": 15
           },
           "zerolinecolor": "white",
           "zerolinewidth": 2
          },
          "yaxis": {
           "automargin": true,
           "gridcolor": "white",
           "linecolor": "white",
           "ticks": "",
           "title": {
            "standoff": 15
           },
           "zerolinecolor": "white",
           "zerolinewidth": 2
          }
         }
        },
        "title": {
         "text": "Distribution of origin_country"
        },
        "xaxis": {
         "anchor": "y",
         "domain": [
          0,
          1
         ],
         "title": {
          "text": "origin_country"
         }
        },
        "yaxis": {
         "anchor": "x",
         "domain": [
          0,
          1
         ],
         "title": {
          "text": "Count"
         }
        }
       }
      }
     },
     "metadata": {},
     "output_type": "display_data"
    }
   ],
   "source": [
    "object_dtype_cols.remove(\"tags\")\n",
    "\n",
    "for col in object_dtype_cols:\n",
    "    value_counts = filtered_data2[col].value_counts()\n",
    "    fig = px.bar(value_counts, x=value_counts.index, y=value_counts.values, title=f\"Distribution of {col}\", labels={'x': col, 'y': 'Count'})\n",
    "    fig.show()"
   ]
  },
  {
   "cell_type": "markdown",
   "metadata": {},
   "source": [
    "## Grouping Categorical Columns' levels with low counts into a separate category of their own"
   ]
  },
  {
   "cell_type": "code",
   "execution_count": 55,
   "metadata": {},
   "outputs": [
    {
     "name": "stdout",
     "output_type": "stream",
     "text": [
      "product_color\n",
      "black                  290\n",
      "white                  237\n",
      "yellow                 101\n",
      "pink                    97\n",
      "blue                    95\n",
      "                      ... \n",
      "orange & camouflage      1\n",
      "claret                   1\n",
      "lightgray                1\n",
      "gray & white             1\n",
      "gold                     1\n",
      "Name: count, Length: 101, dtype: int64 \n",
      "\n",
      "\n",
      "product_variation_size_id\n",
      "S                  613\n",
      "XS                 339\n",
      "M                  192\n",
      "XXS                 90\n",
      "L                   48\n",
      "                  ... \n",
      "X   L                1\n",
      "25                   1\n",
      "Pack of 1            1\n",
      "S Diameter 30cm      1\n",
      "SIZE S               1\n",
      "Name: count, Length: 91, dtype: int64 \n",
      "\n",
      "\n",
      "shipping_option_name\n",
      "Livraison standard         1408\n",
      "Standard Shipping            20\n",
      "Envio Padrão                  9\n",
      "Expediere Standard            6\n",
      "Envío normal                  5\n",
      "الشحن القياسي                 4\n",
      "Standardversand               3\n",
      "Standardowa wysyłka           3\n",
      "Стандартная доставка          3\n",
      "Standart Gönderi              2\n",
      "การส่งสินค้ามาตรฐาน           2\n",
      "Livraison Express             2\n",
      "Spedizione standard           2\n",
      "ការដឹកជញ្ជូនតាមស្តង់ដារ       1\n",
      "Name: count, dtype: int64 \n",
      "\n",
      "\n",
      "origin_country\n",
      "CN    1432\n",
      "US      30\n",
      "VE       4\n",
      "SG       2\n",
      "AT       1\n",
      "GB       1\n",
      "Name: count, dtype: int64 \n",
      "\n",
      "\n"
     ]
    }
   ],
   "source": [
    "for c in object_dtype_cols:\n",
    "    print(filtered_data2[c].value_counts(), \"\\n\\n\")"
   ]
  },
  {
   "cell_type": "markdown",
   "metadata": {},
   "source": [
    "### Grouping \"product_color\""
   ]
  },
  {
   "cell_type": "code",
   "execution_count": null,
   "metadata": {},
   "outputs": [
    {
     "data": {
      "text/plain": [
       "np.int64(88)"
      ]
     },
     "execution_count": 62,
     "metadata": {},
     "output_type": "execute_result"
    }
   ],
   "source": [
    "# product_color values that appear less than or = 20 times in the filtered_data2\n",
    "counts_prod_color = filtered_data2[\"product_color\"].value_counts()\n",
    "(counts_prod_color <= 20).sum()\n"
   ]
  },
  {
   "cell_type": "code",
   "execution_count": 65,
   "metadata": {},
   "outputs": [
    {
     "data": {
      "text/plain": [
       "product_color\n",
       "multicolor             20\n",
       "beige                  13\n",
       "lightblue              12\n",
       "khaki                  12\n",
       "white & green          10\n",
       "                       ..\n",
       "orange & camouflage     1\n",
       "claret                  1\n",
       "lightgray               1\n",
       "gray & white            1\n",
       "gold                    1\n",
       "Name: count, Length: 88, dtype: int64"
      ]
     },
     "execution_count": 65,
     "metadata": {},
     "output_type": "execute_result"
    }
   ],
   "source": [
    "lesser_frequency_prod_colors = counts_prod_color[counts_prod_color <= 20]\n",
    "lesser_frequency_prod_colors"
   ]
  },
  {
   "cell_type": "code",
   "execution_count": 68,
   "metadata": {},
   "outputs": [
    {
     "data": {
      "text/plain": [
       "['multicolor',\n",
       " 'beige',\n",
       " 'lightblue',\n",
       " 'khaki',\n",
       " 'white & green',\n",
       " 'gray',\n",
       " 'rosered',\n",
       " 'skyblue',\n",
       " 'brown',\n",
       " 'darkblue',\n",
       " 'coffee',\n",
       " 'rose',\n",
       " 'floral',\n",
       " 'lightpink',\n",
       " 'black & green',\n",
       " 'leopard',\n",
       " 'Black',\n",
       " 'fluorescentgreen',\n",
       " 'camouflage',\n",
       " 'White',\n",
       " 'lightgreen',\n",
       " 'orange-red',\n",
       " 'black & white',\n",
       " 'applegreen',\n",
       " 'black & blue',\n",
       " 'navy blue',\n",
       " 'lightred',\n",
       " 'Pink',\n",
       " 'navy',\n",
       " 'black & yellow',\n",
       " 'pink & blue',\n",
       " 'wine',\n",
       " 'lakeblue',\n",
       " 'watermelonred',\n",
       " 'camel',\n",
       " 'pink & white',\n",
       " 'burgundy',\n",
       " 'apricot',\n",
       " 'pink & grey',\n",
       " 'whitefloral',\n",
       " 'lightyellow',\n",
       " 'pink & black',\n",
       " 'Army green',\n",
       " 'mintgreen',\n",
       " 'coolblack',\n",
       " 'dustypink',\n",
       " 'white & black',\n",
       " 'leopardprint',\n",
       " 'blue & pink',\n",
       " 'rainbow',\n",
       " 'lightgrey',\n",
       " 'prussianblue',\n",
       " 'navyblue & white',\n",
       " 'white & red',\n",
       " 'RED',\n",
       " 'ivory',\n",
       " 'jasper',\n",
       " 'blackwhite',\n",
       " 'lightkhaki',\n",
       " 'offblack',\n",
       " 'rosegold',\n",
       " 'army green',\n",
       " 'darkgreen',\n",
       " 'violet',\n",
       " 'red & blue',\n",
       " 'whitestripe',\n",
       " 'offwhite',\n",
       " 'winered & yellow',\n",
       " 'lightpurple',\n",
       " 'star',\n",
       " 'tan',\n",
       " 'wine red',\n",
       " 'light green',\n",
       " 'coralred',\n",
       " 'silver',\n",
       " 'nude',\n",
       " 'Blue',\n",
       " 'army',\n",
       " 'brown & yellow',\n",
       " 'black & stripe',\n",
       " 'Rose red',\n",
       " 'greysnakeskinprint',\n",
       " 'denimblue',\n",
       " 'orange & camouflage',\n",
       " 'claret',\n",
       " 'lightgray',\n",
       " 'gray & white',\n",
       " 'gold']"
      ]
     },
     "execution_count": 68,
     "metadata": {},
     "output_type": "execute_result"
    }
   ],
   "source": [
    "lesser_frequency_prod_colors = lesser_frequency_prod_colors.index.tolist()\n",
    "lesser_frequency_prod_colors"
   ]
  },
  {
   "cell_type": "code",
   "execution_count": 73,
   "metadata": {},
   "outputs": [
    {
     "data": {
      "text/plain": [
       "product_color\n",
       "black                  290\n",
       "Less Frequent Color    242\n",
       "white                  237\n",
       "yellow                 101\n",
       "pink                    97\n",
       "blue                    95\n",
       "red                     90\n",
       "green                   84\n",
       "grey                    70\n",
       "purple                  52\n",
       "armygreen               31\n",
       "navyblue                27\n",
       "orange                  27\n",
       "winered                 27\n",
       "Name: count, dtype: int64"
      ]
     },
     "execution_count": 73,
     "metadata": {},
     "output_type": "execute_result"
    }
   ],
   "source": [
    "filtered_data2[\"product_color\"] = filtered_data2[\"product_color\"].replace(lesser_frequency_prod_colors, \"Less Frequent Color\")\n",
    "filtered_data2[\"product_color\"].value_counts()"
   ]
  },
  {
   "cell_type": "code",
   "execution_count": null,
   "metadata": {},
   "outputs": [],
   "source": []
  },
  {
   "cell_type": "markdown",
   "metadata": {},
   "source": [
    "### Grouping \"product_variation_size_id\""
   ]
  }
 ],
 "metadata": {
  "kernelspec": {
   "display_name": "py_3_12",
   "language": "python",
   "name": "python3"
  },
  "language_info": {
   "codemirror_mode": {
    "name": "ipython",
    "version": 3
   },
   "file_extension": ".py",
   "mimetype": "text/x-python",
   "name": "python",
   "nbconvert_exporter": "python",
   "pygments_lexer": "ipython3",
   "version": "3.12.4"
  }
 },
 "nbformat": 4,
 "nbformat_minor": 2
}
